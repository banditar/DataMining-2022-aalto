{
 "cells": [
  {
   "cell_type": "markdown",
   "source": [
    "# Homework: Cluster validation indices\n",
    "\n",
    "| Student Name         | Student-ID |\n",
    "|----------------------|------------|\n",
    "| Marco Di Francesco   | 100632815  |\n",
    "| Loreto García Tejada | 100643862  |\n",
    "| György Bence Józsa   | 100633270  |\n",
    "| József-Hunor Jánosi  | 100516724  |\n",
    "| Sara-Jane Bittner    | 100498554  |"
   ],
   "metadata": {
    "collapsed": false,
    "pycharm": {
     "name": "#%% md\n"
    }
   }
  },
  {
   "cell_type": "markdown",
   "source": [
    "_Learning goal: To study different cluster validation indices on different datasets and different\n",
    "clusterings._\n",
    "\n",
    "In this task, you should study two internal clustering validation indices, **Silhouette index\n",
    "(SI)** and **Davies-Bouldin index (DB)**, and one external index, **Normalized Mutual\n",
    "Information (NMI)**, the version by Strehl and Ghosh, 2003 (see the slides of lecture 5).\n",
    "\n",
    "Load two data sets, “balls.txt” and “spirals.txt”. Both are two-dimensional data, where\n",
    "the third feature component (“class”) contains the ground-truth labels. Remember to discard\n",
    "the label while running the clustering algorithms!"
   ],
   "metadata": {
    "collapsed": false,
    "pycharm": {
     "name": "#%% md\n"
    }
   }
  },
  {
   "cell_type": "markdown",
   "source": [
    "a) Cluster “balls.txt” with i) $K$-means and ii) hierarchical single linkage clustering, both\n",
    "using the Euclidean distance measure.\n",
    "\n",
    "Use values $K = 2, \\dots , 5$ in $K$-means and similarly cut the dendrogram in $2, \\dots , 5$\n",
    "clusters. Plot the data points with different colors to visualize all your clustering results.\n",
    "\n",
    "Determine the optimal number of clusters for both methods using all three indices SI,\n",
    "DB and NMI. Report the results as a table.\n",
    "\n",
    "Which clustering method and $K$ value seem to be the best for the data i) based on the\n",
    "validation indices and ii) by visual observation?"
   ],
   "metadata": {
    "collapsed": false,
    "pycharm": {
     "name": "#%% md\n"
    }
   }
  },
  {
   "cell_type": "code",
   "execution_count": null,
   "outputs": [],
   "source": [],
   "metadata": {
    "collapsed": false,
    "pycharm": {
     "name": "#%%\n"
    }
   }
  },
  {
   "cell_type": "markdown",
   "source": [
    "b) Repeat all steps of a) for “spirals.txt”."
   ],
   "metadata": {
    "collapsed": false,
    "pycharm": {
     "name": "#%% md\n"
    }
   }
  },
  {
   "cell_type": "code",
   "execution_count": null,
   "outputs": [],
   "source": [],
   "metadata": {
    "collapsed": false,
    "pycharm": {
     "name": "#%%\n"
    }
   }
  },
  {
   "cell_type": "markdown",
   "source": [
    "c) Explain and analyze your observations. Which index captured the performance of the\n",
    "clustering algorithm most accurately? Why some indices might have failed to reflect\n",
    "good performance?"
   ],
   "metadata": {
    "collapsed": false,
    "pycharm": {
     "name": "#%% md\n"
    }
   }
  },
  {
   "cell_type": "code",
   "execution_count": null,
   "outputs": [],
   "source": [],
   "metadata": {
    "collapsed": false,
    "pycharm": {
     "name": "#%%\n"
    }
   }
  },
  {
   "cell_type": "markdown",
   "source": [],
   "metadata": {
    "collapsed": false,
    "pycharm": {
     "name": "#%% md\n"
    }
   }
  }
 ],
 "metadata": {
  "kernelspec": {
   "display_name": "Python 3",
   "language": "python",
   "name": "python3"
  },
  "language_info": {
   "codemirror_mode": {
    "name": "ipython",
    "version": 2
   },
   "file_extension": ".py",
   "mimetype": "text/x-python",
   "name": "python",
   "nbconvert_exporter": "python",
   "pygments_lexer": "ipython2",
   "version": "2.7.6"
  }
 },
 "nbformat": 4,
 "nbformat_minor": 0
}