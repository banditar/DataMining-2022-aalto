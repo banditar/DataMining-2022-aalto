{
 "cells": [
  {
   "cell_type": "markdown",
   "source": [
    "# Topic modeling\n",
    "\n",
    "| Student Name         | Student-ID |\n",
    "|----------------------|------------|\n",
    "| Marco Di Francesco   | 100632815  |\n",
    "| Loreto García Tejada | 100643862  |\n",
    "| György Bence Józsa   | 100633270  |\n",
    "| József-Hunor Jánosi  | 100516724  |\n",
    "| Sara-Jane Bittner    | 100498554  |"
   ],
   "metadata": {
    "collapsed": false,
    "pycharm": {
     "name": "#%% md\n"
    }
   }
  },
  {
   "cell_type": "markdown",
   "source": [
    "_Learning goal: Processing text data, converting it into a numerical format and performing topic analysis using SVD._\n",
    "\n",
    "To complete the assignment you are allowed to use the NLTK natural language toolkit."
   ],
   "metadata": {
    "collapsed": false,
    "pycharm": {
     "name": "#%% md\n"
    }
   }
  },
  {
   "cell_type": "code",
   "execution_count": 54,
   "outputs": [],
   "source": [
    "import re\n",
    "import nltk\n",
    "import pandas as pd\n",
    "from nltk import ngrams\n",
    "from nltk.corpus import stopwords\n",
    "from typing import Union, Tuple, Dict, List\n",
    "from functools import reduce\n",
    "import numpy as np"
   ],
   "metadata": {
    "collapsed": false,
    "pycharm": {
     "name": "#%%\n"
    }
   }
  },
  {
   "cell_type": "code",
   "execution_count": 55,
   "outputs": [
    {
     "name": "stderr",
     "output_type": "stream",
     "text": [
      "[nltk_data] Downloading package stopwords to /home/marco/nltk_data...\n",
      "[nltk_data]   Package stopwords is already up-to-date!\n"
     ]
    },
    {
     "data": {
      "text/plain": "True"
     },
     "execution_count": 55,
     "metadata": {},
     "output_type": "execute_result"
    }
   ],
   "source": [
    "nltk.download('stopwords')"
   ],
   "metadata": {
    "collapsed": false,
    "pycharm": {
     "name": "#%%\n"
    }
   }
  },
  {
   "cell_type": "markdown",
   "source": [
    "a) Load _applications_of_DM.csv_, e.g. with `pandas` in Python. It has titles and text content of Wikipedia articles on data mining. In the following tasks, you are to work with the \"tex\"-attribute."
   ],
   "metadata": {
    "collapsed": false,
    "pycharm": {
     "name": "#%% md\n"
    }
   }
  },
  {
   "cell_type": "code",
   "execution_count": 56,
   "outputs": [
    {
     "data": {
      "text/plain": "                                                title  \\\n0                Anomaly Detection at Multiple Scales   \n1                                Behavioral analytics   \n2                                  Business analytics   \n3                             CORE (research service)   \n4                                  Daisy Intelligence   \n5                                        Data Applied   \n6                          Data mining in agriculture   \n7                                       Data thinking   \n8                                 Document processing   \n9                         Equifax Workforce Solutions   \n10                                     Game analytics   \n11                                   Inference attack   \n12                          Path analysis (computing)   \n13  Automatic number-plate recognition in the Unit...   \n14                         PRODIGAL (computer system)   \n15                                        Text mining   \n16                                            Zapaday   \n\n                                                 text  \n0   Anomaly Detection at Multiple Scales, or ADAMS...  \n1   Behaviorism is a systematic approach to unders...  \n2   Business analysis is a professional discipline...  \n3   CORE (Connecting Repositories) is a service pr...  \n4   Daisy Intelligence is a Canadian Artificial In...  \n5   Data Applied is a software vendor headquartere...  \n6   Data mining in agriculture is a recent researc...  \n7   Data thinking is a buzzword for the generic \"m...  \n8   Document processing is a field of research and...  \n9   Equifax Workforce Solutions, formerly known as...  \n10  Game analytics is the form of behavioral analy...  \n11  An Inference Attack is a data mining technique...  \n12  Path analysis, is the analysis of a path, whic...  \n13  Automatic number-plate recognition (ANPR; see ...  \n14  PRODIGAL (proactive discovery of insider threa...  \n15  Text mining, also referred to as text data min...  \n16  Zapaday is a global news calendar. The website...  ",
      "text/html": "<div>\n<style scoped>\n    .dataframe tbody tr th:only-of-type {\n        vertical-align: middle;\n    }\n\n    .dataframe tbody tr th {\n        vertical-align: top;\n    }\n\n    .dataframe thead th {\n        text-align: right;\n    }\n</style>\n<table border=\"1\" class=\"dataframe\">\n  <thead>\n    <tr style=\"text-align: right;\">\n      <th></th>\n      <th>title</th>\n      <th>text</th>\n    </tr>\n  </thead>\n  <tbody>\n    <tr>\n      <th>0</th>\n      <td>Anomaly Detection at Multiple Scales</td>\n      <td>Anomaly Detection at Multiple Scales, or ADAMS...</td>\n    </tr>\n    <tr>\n      <th>1</th>\n      <td>Behavioral analytics</td>\n      <td>Behaviorism is a systematic approach to unders...</td>\n    </tr>\n    <tr>\n      <th>2</th>\n      <td>Business analytics</td>\n      <td>Business analysis is a professional discipline...</td>\n    </tr>\n    <tr>\n      <th>3</th>\n      <td>CORE (research service)</td>\n      <td>CORE (Connecting Repositories) is a service pr...</td>\n    </tr>\n    <tr>\n      <th>4</th>\n      <td>Daisy Intelligence</td>\n      <td>Daisy Intelligence is a Canadian Artificial In...</td>\n    </tr>\n    <tr>\n      <th>5</th>\n      <td>Data Applied</td>\n      <td>Data Applied is a software vendor headquartere...</td>\n    </tr>\n    <tr>\n      <th>6</th>\n      <td>Data mining in agriculture</td>\n      <td>Data mining in agriculture is a recent researc...</td>\n    </tr>\n    <tr>\n      <th>7</th>\n      <td>Data thinking</td>\n      <td>Data thinking is a buzzword for the generic \"m...</td>\n    </tr>\n    <tr>\n      <th>8</th>\n      <td>Document processing</td>\n      <td>Document processing is a field of research and...</td>\n    </tr>\n    <tr>\n      <th>9</th>\n      <td>Equifax Workforce Solutions</td>\n      <td>Equifax Workforce Solutions, formerly known as...</td>\n    </tr>\n    <tr>\n      <th>10</th>\n      <td>Game analytics</td>\n      <td>Game analytics is the form of behavioral analy...</td>\n    </tr>\n    <tr>\n      <th>11</th>\n      <td>Inference attack</td>\n      <td>An Inference Attack is a data mining technique...</td>\n    </tr>\n    <tr>\n      <th>12</th>\n      <td>Path analysis (computing)</td>\n      <td>Path analysis, is the analysis of a path, whic...</td>\n    </tr>\n    <tr>\n      <th>13</th>\n      <td>Automatic number-plate recognition in the Unit...</td>\n      <td>Automatic number-plate recognition (ANPR; see ...</td>\n    </tr>\n    <tr>\n      <th>14</th>\n      <td>PRODIGAL (computer system)</td>\n      <td>PRODIGAL (proactive discovery of insider threa...</td>\n    </tr>\n    <tr>\n      <th>15</th>\n      <td>Text mining</td>\n      <td>Text mining, also referred to as text data min...</td>\n    </tr>\n    <tr>\n      <th>16</th>\n      <td>Zapaday</td>\n      <td>Zapaday is a global news calendar. The website...</td>\n    </tr>\n  </tbody>\n</table>\n</div>"
     },
     "execution_count": 56,
     "metadata": {},
     "output_type": "execute_result"
    }
   ],
   "source": [
    "df = pd.read_csv('applications_of_DM.csv')\n",
    "df"
   ],
   "metadata": {
    "collapsed": false,
    "pycharm": {
     "name": "#%%\n"
    }
   }
  },
  {
   "cell_type": "markdown",
   "source": [
    "b) Process and tokenize the text data: lowercase all words, remove digits, punctuation, any special characters and NLTK’s common English stopwords. List $10$ most frequent $n$-grams, $n = 1, 2, 3,$ and their raw counts. Then, convert $1700$ most frequent $n$-grams, across all $n$-values, into numerical matrices, i.e., features $X_\\mathrm{raw},X_\\mathrm{tf-idf} \\in \\mathbb{R}^{docs \\times terms}$. Features $X_\\mathrm{raw}$ are raw $n$-gram counts, $X_\\mathrm{tf-idf}$ are tf-idf values (see the specific format below)."
   ],
   "metadata": {
    "collapsed": false,
    "pycharm": {
     "name": "#%% md\n"
    }
   }
  },
  {
   "cell_type": "code",
   "execution_count": 57,
   "outputs": [],
   "source": [
    "def process_text(text: str) -> list[str]:\n",
    "    \"\"\"Removes special characters and numbers from a given text and returns a list of words of that text in lower case, removing common english stopwords.\n",
    "\n",
    "    :param text: the raw text to be processed\n",
    "    :return: a list of words in the original text with no special characters, numbers and common english stopwords in lower case.\n",
    "    \"\"\"\n",
    "    # remove special characters and numbers\n",
    "    text = re.sub(r'[^a-zA-Z]', ' ', text.lower())\n",
    "    words = text.split()\n",
    "    # filter out common english stopwords and return list\n",
    "    return [word for word in words if word not in stopwords.words('english')]"
   ],
   "metadata": {
    "collapsed": false,
    "pycharm": {
     "name": "#%%\n"
    }
   }
  },
  {
   "cell_type": "code",
   "execution_count": 58,
   "outputs": [
    {
     "data": {
      "text/plain": "                                                title  \\\n0                Anomaly Detection at Multiple Scales   \n1                                Behavioral analytics   \n2                                  Business analytics   \n3                             CORE (research service)   \n4                                  Daisy Intelligence   \n5                                        Data Applied   \n6                          Data mining in agriculture   \n7                                       Data thinking   \n8                                 Document processing   \n9                         Equifax Workforce Solutions   \n10                                     Game analytics   \n11                                   Inference attack   \n12                          Path analysis (computing)   \n13  Automatic number-plate recognition in the Unit...   \n14                         PRODIGAL (computer system)   \n15                                        Text mining   \n16                                            Zapaday   \n\n                                                 text  \\\n0   Anomaly Detection at Multiple Scales, or ADAMS...   \n1   Behaviorism is a systematic approach to unders...   \n2   Business analysis is a professional discipline...   \n3   CORE (Connecting Repositories) is a service pr...   \n4   Daisy Intelligence is a Canadian Artificial In...   \n5   Data Applied is a software vendor headquartere...   \n6   Data mining in agriculture is a recent researc...   \n7   Data thinking is a buzzword for the generic \"m...   \n8   Document processing is a field of research and...   \n9   Equifax Workforce Solutions, formerly known as...   \n10  Game analytics is the form of behavioral analy...   \n11  An Inference Attack is a data mining technique...   \n12  Path analysis, is the analysis of a path, whic...   \n13  Automatic number-plate recognition (ANPR; see ...   \n14  PRODIGAL (proactive discovery of insider threa...   \n15  Text mining, also referred to as text data min...   \n16  Zapaday is a global news calendar. The website...   \n\n                                        filtered_text  \n0   [anomaly, detection, multiple, scales, adams, ...  \n1   [behaviorism, systematic, approach, understand...  \n2   [business, analysis, professional, discipline,...  \n3   [core, connecting, repositories, service, prov...  \n4   [daisy, intelligence, canadian, artificial, in...  \n5   [data, applied, software, vendor, headquartere...  \n6   [data, mining, agriculture, recent, research, ...  \n7   [data, thinking, buzzword, generic, mental, pa...  \n8   [document, processing, field, research, set, p...  \n9   [equifax, workforce, solutions, formerly, know...  \n10  [game, analytics, form, behavioral, analytics,...  \n11  [inference, attack, data, mining, technique, p...  \n12  [path, analysis, analysis, path, portrayal, ch...  \n13  [automatic, number, plate, recognition, anpr, ...  \n14  [prodigal, proactive, discovery, insider, thre...  \n15  [text, mining, also, referred, text, data, min...  \n16  [zapaday, global, news, calendar, website, pub...  ",
      "text/html": "<div>\n<style scoped>\n    .dataframe tbody tr th:only-of-type {\n        vertical-align: middle;\n    }\n\n    .dataframe tbody tr th {\n        vertical-align: top;\n    }\n\n    .dataframe thead th {\n        text-align: right;\n    }\n</style>\n<table border=\"1\" class=\"dataframe\">\n  <thead>\n    <tr style=\"text-align: right;\">\n      <th></th>\n      <th>title</th>\n      <th>text</th>\n      <th>filtered_text</th>\n    </tr>\n  </thead>\n  <tbody>\n    <tr>\n      <th>0</th>\n      <td>Anomaly Detection at Multiple Scales</td>\n      <td>Anomaly Detection at Multiple Scales, or ADAMS...</td>\n      <td>[anomaly, detection, multiple, scales, adams, ...</td>\n    </tr>\n    <tr>\n      <th>1</th>\n      <td>Behavioral analytics</td>\n      <td>Behaviorism is a systematic approach to unders...</td>\n      <td>[behaviorism, systematic, approach, understand...</td>\n    </tr>\n    <tr>\n      <th>2</th>\n      <td>Business analytics</td>\n      <td>Business analysis is a professional discipline...</td>\n      <td>[business, analysis, professional, discipline,...</td>\n    </tr>\n    <tr>\n      <th>3</th>\n      <td>CORE (research service)</td>\n      <td>CORE (Connecting Repositories) is a service pr...</td>\n      <td>[core, connecting, repositories, service, prov...</td>\n    </tr>\n    <tr>\n      <th>4</th>\n      <td>Daisy Intelligence</td>\n      <td>Daisy Intelligence is a Canadian Artificial In...</td>\n      <td>[daisy, intelligence, canadian, artificial, in...</td>\n    </tr>\n    <tr>\n      <th>5</th>\n      <td>Data Applied</td>\n      <td>Data Applied is a software vendor headquartere...</td>\n      <td>[data, applied, software, vendor, headquartere...</td>\n    </tr>\n    <tr>\n      <th>6</th>\n      <td>Data mining in agriculture</td>\n      <td>Data mining in agriculture is a recent researc...</td>\n      <td>[data, mining, agriculture, recent, research, ...</td>\n    </tr>\n    <tr>\n      <th>7</th>\n      <td>Data thinking</td>\n      <td>Data thinking is a buzzword for the generic \"m...</td>\n      <td>[data, thinking, buzzword, generic, mental, pa...</td>\n    </tr>\n    <tr>\n      <th>8</th>\n      <td>Document processing</td>\n      <td>Document processing is a field of research and...</td>\n      <td>[document, processing, field, research, set, p...</td>\n    </tr>\n    <tr>\n      <th>9</th>\n      <td>Equifax Workforce Solutions</td>\n      <td>Equifax Workforce Solutions, formerly known as...</td>\n      <td>[equifax, workforce, solutions, formerly, know...</td>\n    </tr>\n    <tr>\n      <th>10</th>\n      <td>Game analytics</td>\n      <td>Game analytics is the form of behavioral analy...</td>\n      <td>[game, analytics, form, behavioral, analytics,...</td>\n    </tr>\n    <tr>\n      <th>11</th>\n      <td>Inference attack</td>\n      <td>An Inference Attack is a data mining technique...</td>\n      <td>[inference, attack, data, mining, technique, p...</td>\n    </tr>\n    <tr>\n      <th>12</th>\n      <td>Path analysis (computing)</td>\n      <td>Path analysis, is the analysis of a path, whic...</td>\n      <td>[path, analysis, analysis, path, portrayal, ch...</td>\n    </tr>\n    <tr>\n      <th>13</th>\n      <td>Automatic number-plate recognition in the Unit...</td>\n      <td>Automatic number-plate recognition (ANPR; see ...</td>\n      <td>[automatic, number, plate, recognition, anpr, ...</td>\n    </tr>\n    <tr>\n      <th>14</th>\n      <td>PRODIGAL (computer system)</td>\n      <td>PRODIGAL (proactive discovery of insider threa...</td>\n      <td>[prodigal, proactive, discovery, insider, thre...</td>\n    </tr>\n    <tr>\n      <th>15</th>\n      <td>Text mining</td>\n      <td>Text mining, also referred to as text data min...</td>\n      <td>[text, mining, also, referred, text, data, min...</td>\n    </tr>\n    <tr>\n      <th>16</th>\n      <td>Zapaday</td>\n      <td>Zapaday is a global news calendar. The website...</td>\n      <td>[zapaday, global, news, calendar, website, pub...</td>\n    </tr>\n  </tbody>\n</table>\n</div>"
     },
     "execution_count": 58,
     "metadata": {},
     "output_type": "execute_result"
    }
   ],
   "source": [
    "df['filtered_text'] = df['text'].map(process_text)\n",
    "df"
   ],
   "metadata": {
    "collapsed": false,
    "pycharm": {
     "name": "#%%\n"
    }
   }
  },
  {
   "cell_type": "code",
   "execution_count": 59,
   "outputs": [],
   "source": [
    "def make_ngram(corpus: list[str], n: int) -> Dict[Tuple[str, ...], int]:\n",
    "    \"\"\"Creates a frequency-list of specified n-grams in the given corpus\n",
    "\n",
    "    :param corpus: Ordered list of words in the corpus\n",
    "    :param n: number of elements in n-gram creation\n",
    "    :return: dictionary with keys being unique n-grams and values being the frequencies of them\n",
    "    \"\"\"\n",
    "    grams = list(ngrams(corpus, n))\n",
    "    return {i: grams.count(i) for i in set(grams)}"
   ],
   "metadata": {
    "collapsed": false
   }
  },
  {
   "cell_type": "code",
   "execution_count": 77,
   "outputs": [
    {
     "data": {
      "text/plain": "                                                title  \\\n0                Anomaly Detection at Multiple Scales   \n1                                Behavioral analytics   \n2                                  Business analytics   \n3                             CORE (research service)   \n4                                  Daisy Intelligence   \n5                                        Data Applied   \n6                          Data mining in agriculture   \n7                                       Data thinking   \n8                                 Document processing   \n9                         Equifax Workforce Solutions   \n10                                     Game analytics   \n11                                   Inference attack   \n12                          Path analysis (computing)   \n13  Automatic number-plate recognition in the Unit...   \n14                         PRODIGAL (computer system)   \n15                                        Text mining   \n16                                            Zapaday   \n\n                                                 text  \\\n0   Anomaly Detection at Multiple Scales, or ADAMS...   \n1   Behaviorism is a systematic approach to unders...   \n2   Business analysis is a professional discipline...   \n3   CORE (Connecting Repositories) is a service pr...   \n4   Daisy Intelligence is a Canadian Artificial In...   \n5   Data Applied is a software vendor headquartere...   \n6   Data mining in agriculture is a recent researc...   \n7   Data thinking is a buzzword for the generic \"m...   \n8   Document processing is a field of research and...   \n9   Equifax Workforce Solutions, formerly known as...   \n10  Game analytics is the form of behavioral analy...   \n11  An Inference Attack is a data mining technique...   \n12  Path analysis, is the analysis of a path, whic...   \n13  Automatic number-plate recognition (ANPR; see ...   \n14  PRODIGAL (proactive discovery of insider threa...   \n15  Text mining, also referred to as text data min...   \n16  Zapaday is a global news calendar. The website...   \n\n                                        filtered_text  \\\n0   [anomaly, detection, multiple, scales, adams, ...   \n1   [behaviorism, systematic, approach, understand...   \n2   [business, analysis, professional, discipline,...   \n3   [core, connecting, repositories, service, prov...   \n4   [daisy, intelligence, canadian, artificial, in...   \n5   [data, applied, software, vendor, headquartere...   \n6   [data, mining, agriculture, recent, research, ...   \n7   [data, thinking, buzzword, generic, mental, pa...   \n8   [document, processing, field, research, set, p...   \n9   [equifax, workforce, solutions, formerly, know...   \n10  [game, analytics, form, behavioral, analytics,...   \n11  [inference, attack, data, mining, technique, p...   \n12  [path, analysis, analysis, path, portrayal, ch...   \n13  [automatic, number, plate, recognition, anpr, ...   \n14  [prodigal, proactive, discovery, insider, thre...   \n15  [text, mining, also, referred, text, data, min...   \n16  [zapaday, global, news, calendar, website, pub...   \n\n                                             unigrams  \\\n0   {('suicidal',): 1, ('commercial',): 1, ('innov...   \n1   {('colleagues',): 2, ('later',): 4, ('access',...   \n2   {('revenue',): 5, ('stage',): 2, ('g',): 4, ('...   \n3   {('later',): 1, ('g',): 1, ('less',): 1, ('int...   \n4   {('ranked',): 1, ('mail',): 1, ('analysis',): ...   \n5   {('analysis',): 2, ('supports',): 1, ('company...   \n6   {('recordings',): 1, ('predicted',): 1, ('impo...   \n7   {('similar',): 1, ('concrete',): 2, ('typicall...   \n8   {('resolution',): 1, ('line',): 1, ('scanners'...   \n9   {('revenue',): 2, ('employer',): 1, ('restated...   \n10  {('statistical',): 1, ('used',): 1, ('number',...   \n11  {('inference',): 4, ('recordings',): 1, ('g',)...   \n12  {('representation',): 1, ('etc',): 1, ('concre...   \n13  {('killers',): 1, ('later',): 3, ('unprotected...   \n14  {('nsa',): 1, ('massachusetts',): 1, ('college...   \n15  {('names',): 1, ('needing',): 1, ('revenue',):...   \n16  {('agence',): 1, ('headlines',): 1, ('foreign'...   \n\n                                              bigrams  \\\n0   {('specific', 'cases'): 1, ('operators', 'coun...   \n1   {('science', 'journal'): 1, ('learning', 'prin...   \n2   {('managing', 'change'): 1, ('task', 'called')...   \n3   {('also', 'provides'): 1, ('access', 'set'): 1...   \n4   {('startups', 'concentrated'): 1, ('ontario', ...   \n5   {('maps', 'time'): 1, ('trees', 'association')...   \n6   {('type', 'results'): 1, ('lead', 'producing')...   \n7   {('digital', 'strategy'): 1, ('combined', 'pha...   \n8   {('processing', 'nap'): 1, ('also', 'widely'):...   \n9   {('created', 'number'): 1, ('auditors', 'sec')...   \n10  {('aim', 'using'): 1, ('example', 'would'): 1,...   \n11  {('today', 'also'): 1, ('recorded', 'motion'):...   \n12  {('shelves', 'products'): 2, ('also', 'wants')...   \n13  {('giving', 'high'): 1, ('related', 'controlli...   \n14  {('analysis', 'five'): 1, ('project', 'initial...   \n15  {('areas', 'dating'): 1, ('emotion', 'text'): ...   \n16  {('cover', 'story'): 1, ('publish', 'premium')...   \n\n                                             trigrams  \\\n0   {('privileges', 'share', 'classified'): 1, ('i...   \n1   {('experimented', 'animals', 'spoke'): 1, ('pr...   \n2   {('impact', 'particular', 'businesses'): 1, ('...   \n3   {('collections', 'programmable', 'machine'): 1...   \n4   {('artificial', 'intelligence', 'ai'): 1, ('co...   \n5   {('former', 'microsoft', 'employees'): 1, ('vi...   \n6   {('pakistan', 'hence', 'excessive'): 1, ('wate...   \n7   {('focus', 'approach', 'lie'): 1, ('thinking',...   \n8   {('process', 'high', 'volumes'): 1, ('processi...   \n9   {('april', 'new', 'york'): 1, ('financial', 'r...   \n10  {('developers', 'regards', 'player'): 1, ('lev...   \n11  {('security', 'level', 'inference'): 1, ('infe...   \n12  {('look', 'strongest', 'paths'): 1, ('profile'...   \n13  {('novelty', 'frames', 'anpr'): 1, ('used', 's...   \n14  {('insider', 'threats', 'using'): 1, ('learnin...   \n15  {('linguistics', 'community', 'viewed'): 1, ('...   \n16  {('either', 'content', 'creator'): 1, ('dutch'...   \n\n                                            all_grams  \n0   {('privileges', 'share', 'classified'): 1, ('i...  \n1   {('experimented', 'animals', 'spoke'): 1, ('pr...  \n2   {('impact', 'particular', 'businesses'): 1, ('...  \n3   {('collections', 'programmable', 'machine'): 1...  \n4   {('artificial', 'intelligence', 'ai'): 1, ('co...  \n5   {('former', 'microsoft', 'employees'): 1, ('vi...  \n6   {('pakistan', 'hence', 'excessive'): 1, ('wate...  \n7   {('focus', 'approach', 'lie'): 1, ('thinking',...  \n8   {('process', 'high', 'volumes'): 1, ('processi...  \n9   {('april', 'new', 'york'): 1, ('financial', 'r...  \n10  {('developers', 'regards', 'player'): 1, ('lev...  \n11  {('security', 'level', 'inference'): 1, ('infe...  \n12  {('look', 'strongest', 'paths'): 1, ('profile'...  \n13  {('novelty', 'frames', 'anpr'): 1, ('used', 's...  \n14  {('insider', 'threats', 'using'): 1, ('learnin...  \n15  {('linguistics', 'community', 'viewed'): 1, ('...  \n16  {('either', 'content', 'creator'): 1, ('dutch'...  ",
      "text/html": "<div>\n<style scoped>\n    .dataframe tbody tr th:only-of-type {\n        vertical-align: middle;\n    }\n\n    .dataframe tbody tr th {\n        vertical-align: top;\n    }\n\n    .dataframe thead th {\n        text-align: right;\n    }\n</style>\n<table border=\"1\" class=\"dataframe\">\n  <thead>\n    <tr style=\"text-align: right;\">\n      <th></th>\n      <th>title</th>\n      <th>text</th>\n      <th>filtered_text</th>\n      <th>unigrams</th>\n      <th>bigrams</th>\n      <th>trigrams</th>\n      <th>all_grams</th>\n    </tr>\n  </thead>\n  <tbody>\n    <tr>\n      <th>0</th>\n      <td>Anomaly Detection at Multiple Scales</td>\n      <td>Anomaly Detection at Multiple Scales, or ADAMS...</td>\n      <td>[anomaly, detection, multiple, scales, adams, ...</td>\n      <td>{('suicidal',): 1, ('commercial',): 1, ('innov...</td>\n      <td>{('specific', 'cases'): 1, ('operators', 'coun...</td>\n      <td>{('privileges', 'share', 'classified'): 1, ('i...</td>\n      <td>{('privileges', 'share', 'classified'): 1, ('i...</td>\n    </tr>\n    <tr>\n      <th>1</th>\n      <td>Behavioral analytics</td>\n      <td>Behaviorism is a systematic approach to unders...</td>\n      <td>[behaviorism, systematic, approach, understand...</td>\n      <td>{('colleagues',): 2, ('later',): 4, ('access',...</td>\n      <td>{('science', 'journal'): 1, ('learning', 'prin...</td>\n      <td>{('experimented', 'animals', 'spoke'): 1, ('pr...</td>\n      <td>{('experimented', 'animals', 'spoke'): 1, ('pr...</td>\n    </tr>\n    <tr>\n      <th>2</th>\n      <td>Business analytics</td>\n      <td>Business analysis is a professional discipline...</td>\n      <td>[business, analysis, professional, discipline,...</td>\n      <td>{('revenue',): 5, ('stage',): 2, ('g',): 4, ('...</td>\n      <td>{('managing', 'change'): 1, ('task', 'called')...</td>\n      <td>{('impact', 'particular', 'businesses'): 1, ('...</td>\n      <td>{('impact', 'particular', 'businesses'): 1, ('...</td>\n    </tr>\n    <tr>\n      <th>3</th>\n      <td>CORE (research service)</td>\n      <td>CORE (Connecting Repositories) is a service pr...</td>\n      <td>[core, connecting, repositories, service, prov...</td>\n      <td>{('later',): 1, ('g',): 1, ('less',): 1, ('int...</td>\n      <td>{('also', 'provides'): 1, ('access', 'set'): 1...</td>\n      <td>{('collections', 'programmable', 'machine'): 1...</td>\n      <td>{('collections', 'programmable', 'machine'): 1...</td>\n    </tr>\n    <tr>\n      <th>4</th>\n      <td>Daisy Intelligence</td>\n      <td>Daisy Intelligence is a Canadian Artificial In...</td>\n      <td>[daisy, intelligence, canadian, artificial, in...</td>\n      <td>{('ranked',): 1, ('mail',): 1, ('analysis',): ...</td>\n      <td>{('startups', 'concentrated'): 1, ('ontario', ...</td>\n      <td>{('artificial', 'intelligence', 'ai'): 1, ('co...</td>\n      <td>{('artificial', 'intelligence', 'ai'): 1, ('co...</td>\n    </tr>\n    <tr>\n      <th>5</th>\n      <td>Data Applied</td>\n      <td>Data Applied is a software vendor headquartere...</td>\n      <td>[data, applied, software, vendor, headquartere...</td>\n      <td>{('analysis',): 2, ('supports',): 1, ('company...</td>\n      <td>{('maps', 'time'): 1, ('trees', 'association')...</td>\n      <td>{('former', 'microsoft', 'employees'): 1, ('vi...</td>\n      <td>{('former', 'microsoft', 'employees'): 1, ('vi...</td>\n    </tr>\n    <tr>\n      <th>6</th>\n      <td>Data mining in agriculture</td>\n      <td>Data mining in agriculture is a recent researc...</td>\n      <td>[data, mining, agriculture, recent, research, ...</td>\n      <td>{('recordings',): 1, ('predicted',): 1, ('impo...</td>\n      <td>{('type', 'results'): 1, ('lead', 'producing')...</td>\n      <td>{('pakistan', 'hence', 'excessive'): 1, ('wate...</td>\n      <td>{('pakistan', 'hence', 'excessive'): 1, ('wate...</td>\n    </tr>\n    <tr>\n      <th>7</th>\n      <td>Data thinking</td>\n      <td>Data thinking is a buzzword for the generic \"m...</td>\n      <td>[data, thinking, buzzword, generic, mental, pa...</td>\n      <td>{('similar',): 1, ('concrete',): 2, ('typicall...</td>\n      <td>{('digital', 'strategy'): 1, ('combined', 'pha...</td>\n      <td>{('focus', 'approach', 'lie'): 1, ('thinking',...</td>\n      <td>{('focus', 'approach', 'lie'): 1, ('thinking',...</td>\n    </tr>\n    <tr>\n      <th>8</th>\n      <td>Document processing</td>\n      <td>Document processing is a field of research and...</td>\n      <td>[document, processing, field, research, set, p...</td>\n      <td>{('resolution',): 1, ('line',): 1, ('scanners'...</td>\n      <td>{('processing', 'nap'): 1, ('also', 'widely'):...</td>\n      <td>{('process', 'high', 'volumes'): 1, ('processi...</td>\n      <td>{('process', 'high', 'volumes'): 1, ('processi...</td>\n    </tr>\n    <tr>\n      <th>9</th>\n      <td>Equifax Workforce Solutions</td>\n      <td>Equifax Workforce Solutions, formerly known as...</td>\n      <td>[equifax, workforce, solutions, formerly, know...</td>\n      <td>{('revenue',): 2, ('employer',): 1, ('restated...</td>\n      <td>{('created', 'number'): 1, ('auditors', 'sec')...</td>\n      <td>{('april', 'new', 'york'): 1, ('financial', 'r...</td>\n      <td>{('april', 'new', 'york'): 1, ('financial', 'r...</td>\n    </tr>\n    <tr>\n      <th>10</th>\n      <td>Game analytics</td>\n      <td>Game analytics is the form of behavioral analy...</td>\n      <td>[game, analytics, form, behavioral, analytics,...</td>\n      <td>{('statistical',): 1, ('used',): 1, ('number',...</td>\n      <td>{('aim', 'using'): 1, ('example', 'would'): 1,...</td>\n      <td>{('developers', 'regards', 'player'): 1, ('lev...</td>\n      <td>{('developers', 'regards', 'player'): 1, ('lev...</td>\n    </tr>\n    <tr>\n      <th>11</th>\n      <td>Inference attack</td>\n      <td>An Inference Attack is a data mining technique...</td>\n      <td>[inference, attack, data, mining, technique, p...</td>\n      <td>{('inference',): 4, ('recordings',): 1, ('g',)...</td>\n      <td>{('today', 'also'): 1, ('recorded', 'motion'):...</td>\n      <td>{('security', 'level', 'inference'): 1, ('infe...</td>\n      <td>{('security', 'level', 'inference'): 1, ('infe...</td>\n    </tr>\n    <tr>\n      <th>12</th>\n      <td>Path analysis (computing)</td>\n      <td>Path analysis, is the analysis of a path, whic...</td>\n      <td>[path, analysis, analysis, path, portrayal, ch...</td>\n      <td>{('representation',): 1, ('etc',): 1, ('concre...</td>\n      <td>{('shelves', 'products'): 2, ('also', 'wants')...</td>\n      <td>{('look', 'strongest', 'paths'): 1, ('profile'...</td>\n      <td>{('look', 'strongest', 'paths'): 1, ('profile'...</td>\n    </tr>\n    <tr>\n      <th>13</th>\n      <td>Automatic number-plate recognition in the Unit...</td>\n      <td>Automatic number-plate recognition (ANPR; see ...</td>\n      <td>[automatic, number, plate, recognition, anpr, ...</td>\n      <td>{('killers',): 1, ('later',): 3, ('unprotected...</td>\n      <td>{('giving', 'high'): 1, ('related', 'controlli...</td>\n      <td>{('novelty', 'frames', 'anpr'): 1, ('used', 's...</td>\n      <td>{('novelty', 'frames', 'anpr'): 1, ('used', 's...</td>\n    </tr>\n    <tr>\n      <th>14</th>\n      <td>PRODIGAL (computer system)</td>\n      <td>PRODIGAL (proactive discovery of insider threa...</td>\n      <td>[prodigal, proactive, discovery, insider, thre...</td>\n      <td>{('nsa',): 1, ('massachusetts',): 1, ('college...</td>\n      <td>{('analysis', 'five'): 1, ('project', 'initial...</td>\n      <td>{('insider', 'threats', 'using'): 1, ('learnin...</td>\n      <td>{('insider', 'threats', 'using'): 1, ('learnin...</td>\n    </tr>\n    <tr>\n      <th>15</th>\n      <td>Text mining</td>\n      <td>Text mining, also referred to as text data min...</td>\n      <td>[text, mining, also, referred, text, data, min...</td>\n      <td>{('names',): 1, ('needing',): 1, ('revenue',):...</td>\n      <td>{('areas', 'dating'): 1, ('emotion', 'text'): ...</td>\n      <td>{('linguistics', 'community', 'viewed'): 1, ('...</td>\n      <td>{('linguistics', 'community', 'viewed'): 1, ('...</td>\n    </tr>\n    <tr>\n      <th>16</th>\n      <td>Zapaday</td>\n      <td>Zapaday is a global news calendar. The website...</td>\n      <td>[zapaday, global, news, calendar, website, pub...</td>\n      <td>{('agence',): 1, ('headlines',): 1, ('foreign'...</td>\n      <td>{('cover', 'story'): 1, ('publish', 'premium')...</td>\n      <td>{('either', 'content', 'creator'): 1, ('dutch'...</td>\n      <td>{('either', 'content', 'creator'): 1, ('dutch'...</td>\n    </tr>\n  </tbody>\n</table>\n</div>"
     },
     "execution_count": 77,
     "metadata": {},
     "output_type": "execute_result"
    }
   ],
   "source": [
    "df['unigrams'] = df['filtered_text'].map(lambda x: make_ngram(x, n=1))\n",
    "df['bigrams'] = df['filtered_text'].map(lambda x: make_ngram(x, n=2))\n",
    "df['trigrams'] = df['filtered_text'].map(lambda x: make_ngram(x, n=3))\n",
    "df['all_grams'] = {**df['unigrams'], **df['bigrams'], **df[\"trigrams\"]}\n",
    "df"
   ],
   "metadata": {
    "collapsed": false
   }
  },
  {
   "cell_type": "code",
   "execution_count": 78,
   "outputs": [],
   "source": [
    "def merge_frequency_dictionaries(first: Dict[Tuple[str, ...], int], second: Dict[Tuple[str, ...], int]) -> Dict[\n",
    "    Tuple[str, ...], int]:\n",
    "    \"\"\"Merges two dictionaries of frequencies\n",
    "\n",
    "    :param first: first dictionary containing frequencies\n",
    "    :param second: second dictionary containing frequencies\n",
    "    :return: a merged dictionary\n",
    "    \"\"\"\n",
    "    res = {}\n",
    "    for key, value in first.items():\n",
    "        res[key] = value\n",
    "    for key, value in second.items():\n",
    "        if key in res:\n",
    "            res[key] += value\n",
    "        else:\n",
    "            res[key] = value\n",
    "    return res"
   ],
   "metadata": {
    "collapsed": false
   }
  },
  {
   "cell_type": "code",
   "execution_count": 78,
   "outputs": [],
   "source": [],
   "metadata": {
    "collapsed": false,
    "pycharm": {
     "name": "#%%\n"
    }
   }
  },
  {
   "cell_type": "code",
   "execution_count": 79,
   "outputs": [],
   "source": [
    "def combine(series):\n",
    "    \"\"\" Combines a list of dictionaries into a single dictionary\n",
    "\n",
    "    :param series: a list of dictionaries\n",
    "    :return: a single dictionary\n",
    "    \"\"\"\n",
    "    return reduce(lambda x, y: merge_frequency_dictionaries(x, y), series)"
   ],
   "metadata": {
    "collapsed": false
   }
  },
  {
   "cell_type": "code",
   "execution_count": 80,
   "outputs": [],
   "source": [
    "def get_most_frequent(grams: pd.Series, n: int) -> list[Tuple[int, Tuple[str, ...]]]:\n",
    "    \"\"\" Returns the n most frequent n-grams\n",
    "\n",
    "    :param grams: a list of dictionaries\n",
    "    :param n: the number of n-grams to return\n",
    "    :return: a list of tuples containing the frequency and the n-gram\n",
    "    \"\"\"\n",
    "    combined_grams = grams.aggregate(combine)\n",
    "    return sorted([(v, k) for k, v in combined_grams.items()], reverse=True)[:n]"
   ],
   "metadata": {
    "collapsed": false,
    "pycharm": {
     "name": "#%%\n"
    }
   }
  },
  {
   "cell_type": "code",
   "execution_count": 81,
   "outputs": [
    {
     "data": {
      "text/plain": "[(160, ('behavior',)),\n (156, ('analysis',)),\n (150, ('data',)),\n (148, ('business',)),\n (103, ('also',)),\n (102, ('text',)),\n (86, ('anpr',)),\n (85, ('use',)),\n (84, ('used',)),\n (84, ('plate',))]"
     },
     "execution_count": 81,
     "metadata": {},
     "output_type": "execute_result"
    }
   ],
   "source": [
    "get_most_frequent(df['unigrams'], 10)"
   ],
   "metadata": {
    "collapsed": false,
    "pycharm": {
     "name": "#%%\n"
    }
   }
  },
  {
   "cell_type": "code",
   "execution_count": 82,
   "outputs": [
    {
     "data": {
      "text/plain": "[(43, ('text', 'mining')),\n (43, ('license', 'plate')),\n (33, ('business', 'analysis')),\n (22, ('data', 'mining')),\n (20, ('open', 'access')),\n (19, ('document', 'processing')),\n (17, ('business', 'analysts')),\n (17, ('anpr', 'systems')),\n (16, ('radical', 'behaviorism')),\n (16, ('behavior', 'analysis'))]"
     },
     "execution_count": 82,
     "metadata": {},
     "output_type": "execute_result"
    }
   ],
   "source": [
    "get_most_frequent(df['bigrams'], 10)"
   ],
   "metadata": {
    "collapsed": false
   }
  },
  {
   "cell_type": "code",
   "execution_count": 83,
   "outputs": [
    {
     "data": {
      "text/plain": "[(8, ('number', 'plate', 'recognition')),\n (7, ('b', 'f', 'skinner')),\n (7, ('automatic', 'number', 'plate')),\n (6, ('optical', 'character', 'recognition')),\n (6, ('license', 'plate', 'capture')),\n (6, ('average', 'speed', 'cameras')),\n (5, ('text', 'data', 'mining')),\n (5, ('open', 'access', 'content')),\n (5, ('natural', 'language', 'processing')),\n (4, ('text', 'mining', 'software'))]"
     },
     "execution_count": 83,
     "metadata": {},
     "output_type": "execute_result"
    }
   ],
   "source": [
    "get_most_frequent(df['trigrams'], 10)"
   ],
   "metadata": {
    "collapsed": false
   }
  },
  {
   "cell_type": "code",
   "execution_count": 86,
   "outputs": [],
   "source": [
    "def get_count_matrix(ngram: str) -> pd.DataFrame:\n",
    "    \"\"\"Returns a raw count matrix for the given n-gram.\n",
    "\n",
    "    The matrix should contain the n most frequent n-grams as columns and the titles as rows.\n",
    "\n",
    "    :param ngram: the n-gram to use. Can be 'unigram', 'bigram', or 'trigram'\n",
    "    :return: a count matrix. The columns are the n-grams, the rows are the titles.\n",
    "    \"\"\"\n",
    "    assert ngram in ['unigrams', 'bigrams', 'trigrams', \"all_grams\"]\n",
    "    mfw = get_most_frequent(df[ngram], 1700)\n",
    "    arr = np.zeros([17, 1700])\n",
    "    for doc_idx, doc in df.iterrows():\n",
    "        mfw_doc = doc[ngram]\n",
    "        for w_idx, (_, words) in enumerate(mfw):\n",
    "            count = mfw_doc[words] if words in mfw_doc else 0\n",
    "            arr[doc_idx][w_idx] = count\n",
    "    words_ls = [words for _, words in mfw]\n",
    "    return pd.DataFrame(arr, columns=words_ls, index=df['title'])"
   ],
   "metadata": {
    "collapsed": false
   }
  },
  {
   "cell_type": "code",
   "execution_count": 87,
   "outputs": [
    {
     "data": {
      "text/plain": "                                                    (number, plate, recognition)  \\\ntitle                                                                              \nAnomaly Detection at Multiple Scales                                         0.0   \nBehavioral analytics                                                         0.0   \nBusiness analytics                                                           0.0   \nCORE (research service)                                                      0.0   \nDaisy Intelligence                                                           0.0   \nData Applied                                                                 0.0   \nData mining in agriculture                                                   0.0   \nData thinking                                                                0.0   \nDocument processing                                                          0.0   \nEquifax Workforce Solutions                                                  0.0   \nGame analytics                                                               0.0   \nInference attack                                                             0.0   \nPath analysis (computing)                                                    0.0   \nAutomatic number-plate recognition in the Unite...                           8.0   \nPRODIGAL (computer system)                                                   0.0   \nText mining                                                                  0.0   \nZapaday                                                                      0.0   \n\n                                                    (b, f, skinner)  \\\ntitle                                                                 \nAnomaly Detection at Multiple Scales                            0.0   \nBehavioral analytics                                            7.0   \nBusiness analytics                                              0.0   \nCORE (research service)                                         0.0   \nDaisy Intelligence                                              0.0   \nData Applied                                                    0.0   \nData mining in agriculture                                      0.0   \nData thinking                                                   0.0   \nDocument processing                                             0.0   \nEquifax Workforce Solutions                                     0.0   \nGame analytics                                                  0.0   \nInference attack                                                0.0   \nPath analysis (computing)                                       0.0   \nAutomatic number-plate recognition in the Unite...              0.0   \nPRODIGAL (computer system)                                      0.0   \nText mining                                                     0.0   \nZapaday                                                         0.0   \n\n                                                    (automatic, number, plate)  \\\ntitle                                                                            \nAnomaly Detection at Multiple Scales                                       0.0   \nBehavioral analytics                                                       0.0   \nBusiness analytics                                                         0.0   \nCORE (research service)                                                    0.0   \nDaisy Intelligence                                                         0.0   \nData Applied                                                               0.0   \nData mining in agriculture                                                 0.0   \nData thinking                                                              0.0   \nDocument processing                                                        0.0   \nEquifax Workforce Solutions                                                0.0   \nGame analytics                                                             0.0   \nInference attack                                                           0.0   \nPath analysis (computing)                                                  0.0   \nAutomatic number-plate recognition in the Unite...                         7.0   \nPRODIGAL (computer system)                                                 0.0   \nText mining                                                                0.0   \nZapaday                                                                    0.0   \n\n                                                    (optical, character, recognition)  \\\ntitle                                                                                   \nAnomaly Detection at Multiple Scales                                              0.0   \nBehavioral analytics                                                              0.0   \nBusiness analytics                                                                0.0   \nCORE (research service)                                                           0.0   \nDaisy Intelligence                                                                0.0   \nData Applied                                                                      0.0   \nData mining in agriculture                                                        0.0   \nData thinking                                                                     0.0   \nDocument processing                                                               2.0   \nEquifax Workforce Solutions                                                       0.0   \nGame analytics                                                                    0.0   \nInference attack                                                                  0.0   \nPath analysis (computing)                                                         0.0   \nAutomatic number-plate recognition in the Unite...                                4.0   \nPRODIGAL (computer system)                                                        0.0   \nText mining                                                                       0.0   \nZapaday                                                                           0.0   \n\n                                                    (license, plate, capture)  \\\ntitle                                                                           \nAnomaly Detection at Multiple Scales                                      0.0   \nBehavioral analytics                                                      0.0   \nBusiness analytics                                                        0.0   \nCORE (research service)                                                   0.0   \nDaisy Intelligence                                                        0.0   \nData Applied                                                              0.0   \nData mining in agriculture                                                0.0   \nData thinking                                                             0.0   \nDocument processing                                                       0.0   \nEquifax Workforce Solutions                                               0.0   \nGame analytics                                                            0.0   \nInference attack                                                          0.0   \nPath analysis (computing)                                                 0.0   \nAutomatic number-plate recognition in the Unite...                        6.0   \nPRODIGAL (computer system)                                                0.0   \nText mining                                                               0.0   \nZapaday                                                                   0.0   \n\n                                                    (average, speed, cameras)  \\\ntitle                                                                           \nAnomaly Detection at Multiple Scales                                      0.0   \nBehavioral analytics                                                      0.0   \nBusiness analytics                                                        0.0   \nCORE (research service)                                                   0.0   \nDaisy Intelligence                                                        0.0   \nData Applied                                                              0.0   \nData mining in agriculture                                                0.0   \nData thinking                                                             0.0   \nDocument processing                                                       0.0   \nEquifax Workforce Solutions                                               0.0   \nGame analytics                                                            0.0   \nInference attack                                                          0.0   \nPath analysis (computing)                                                 0.0   \nAutomatic number-plate recognition in the Unite...                        6.0   \nPRODIGAL (computer system)                                                0.0   \nText mining                                                               0.0   \nZapaday                                                                   0.0   \n\n                                                    (text, data, mining)  \\\ntitle                                                                      \nAnomaly Detection at Multiple Scales                                 0.0   \nBehavioral analytics                                                 0.0   \nBusiness analytics                                                   0.0   \nCORE (research service)                                              1.0   \nDaisy Intelligence                                                   0.0   \nData Applied                                                         0.0   \nData mining in agriculture                                           0.0   \nData thinking                                                        0.0   \nDocument processing                                                  0.0   \nEquifax Workforce Solutions                                          0.0   \nGame analytics                                                       0.0   \nInference attack                                                     0.0   \nPath analysis (computing)                                            0.0   \nAutomatic number-plate recognition in the Unite...                   0.0   \nPRODIGAL (computer system)                                           0.0   \nText mining                                                          4.0   \nZapaday                                                              0.0   \n\n                                                    (open, access, content)  \\\ntitle                                                                         \nAnomaly Detection at Multiple Scales                                    0.0   \nBehavioral analytics                                                    0.0   \nBusiness analytics                                                      0.0   \nCORE (research service)                                                 5.0   \nDaisy Intelligence                                                      0.0   \nData Applied                                                            0.0   \nData mining in agriculture                                              0.0   \nData thinking                                                           0.0   \nDocument processing                                                     0.0   \nEquifax Workforce Solutions                                             0.0   \nGame analytics                                                          0.0   \nInference attack                                                        0.0   \nPath analysis (computing)                                               0.0   \nAutomatic number-plate recognition in the Unite...                      0.0   \nPRODIGAL (computer system)                                              0.0   \nText mining                                                             0.0   \nZapaday                                                                 0.0   \n\n                                                    (natural, language, processing)  \\\ntitle                                                                                 \nAnomaly Detection at Multiple Scales                                            0.0   \nBehavioral analytics                                                            0.0   \nBusiness analytics                                                              0.0   \nCORE (research service)                                                         0.0   \nDaisy Intelligence                                                              0.0   \nData Applied                                                                    0.0   \nData mining in agriculture                                                      0.0   \nData thinking                                                                   0.0   \nDocument processing                                                             3.0   \nEquifax Workforce Solutions                                                     0.0   \nGame analytics                                                                  0.0   \nInference attack                                                                0.0   \nPath analysis (computing)                                                       0.0   \nAutomatic number-plate recognition in the Unite...                              0.0   \nPRODIGAL (computer system)                                                      0.0   \nText mining                                                                     2.0   \nZapaday                                                                         0.0   \n\n                                                    (text, mining, software)  \\\ntitle                                                                          \nAnomaly Detection at Multiple Scales                                     0.0   \nBehavioral analytics                                                     0.0   \nBusiness analytics                                                       0.0   \nCORE (research service)                                                  0.0   \nDaisy Intelligence                                                       0.0   \nData Applied                                                             0.0   \nData mining in agriculture                                               0.0   \nData thinking                                                            0.0   \nDocument processing                                                      0.0   \nEquifax Workforce Solutions                                              0.0   \nGame analytics                                                           0.0   \nInference attack                                                         0.0   \nPath analysis (computing)                                                0.0   \nAutomatic number-plate recognition in the Unite...                       0.0   \nPRODIGAL (computer system)                                               0.0   \nText mining                                                              4.0   \nZapaday                                                                  0.0   \n\n                                                    ...  \\\ntitle                                               ...   \nAnomaly Detection at Multiple Scales                ...   \nBehavioral analytics                                ...   \nBusiness analytics                                  ...   \nCORE (research service)                             ...   \nDaisy Intelligence                                  ...   \nData Applied                                        ...   \nData mining in agriculture                          ...   \nData thinking                                       ...   \nDocument processing                                 ...   \nEquifax Workforce Solutions                         ...   \nGame analytics                                      ...   \nInference attack                                    ...   \nPath analysis (computing)                           ...   \nAutomatic number-plate recognition in the Unite...  ...   \nPRODIGAL (computer system)                          ...   \nText mining                                         ...   \nZapaday                                             ...   \n\n                                                    (tolman, based, upon)  \\\ntitle                                                                       \nAnomaly Detection at Multiple Scales                                  0.0   \nBehavioral analytics                                                  1.0   \nBusiness analytics                                                    0.0   \nCORE (research service)                                               0.0   \nDaisy Intelligence                                                    0.0   \nData Applied                                                          0.0   \nData mining in agriculture                                            0.0   \nData thinking                                                         0.0   \nDocument processing                                                   0.0   \nEquifax Workforce Solutions                                           0.0   \nGame analytics                                                        0.0   \nInference attack                                                      0.0   \nPath analysis (computing)                                             0.0   \nAutomatic number-plate recognition in the Unite...                    0.0   \nPRODIGAL (computer system)                                            0.0   \nText mining                                                           0.0   \nZapaday                                                               0.0   \n\n                                                    (tolltag, north, texas)  \\\ntitle                                                                         \nAnomaly Detection at Multiple Scales                                    0.0   \nBehavioral analytics                                                    0.0   \nBusiness analytics                                                      0.0   \nCORE (research service)                                                 0.0   \nDaisy Intelligence                                                      0.0   \nData Applied                                                            0.0   \nData mining in agriculture                                              0.0   \nData thinking                                                           0.0   \nDocument processing                                                     0.0   \nEquifax Workforce Solutions                                             0.0   \nGame analytics                                                          0.0   \nInference attack                                                        0.0   \nPath analysis (computing)                                               0.0   \nAutomatic number-plate recognition in the Unite...                      1.0   \nPRODIGAL (computer system)                                              0.0   \nText mining                                                             0.0   \nZapaday                                                                 0.0   \n\n                                                    (tolls, rd, th)  \\\ntitle                                                                 \nAnomaly Detection at Multiple Scales                            0.0   \nBehavioral analytics                                            0.0   \nBusiness analytics                                              0.0   \nCORE (research service)                                         0.0   \nDaisy Intelligence                                              0.0   \nData Applied                                                    0.0   \nData mining in agriculture                                      0.0   \nData thinking                                                   0.0   \nDocument processing                                             0.0   \nEquifax Workforce Solutions                                     0.0   \nGame analytics                                                  0.0   \nInference attack                                                0.0   \nPath analysis (computing)                                       0.0   \nAutomatic number-plate recognition in the Unite...              1.0   \nPRODIGAL (computer system)                                      0.0   \nText mining                                                     0.0   \nZapaday                                                         0.0   \n\n                                                    (tolls, passed, depends)  \\\ntitle                                                                          \nAnomaly Detection at Multiple Scales                                     0.0   \nBehavioral analytics                                                     0.0   \nBusiness analytics                                                       0.0   \nCORE (research service)                                                  0.0   \nDaisy Intelligence                                                       0.0   \nData Applied                                                             0.0   \nData mining in agriculture                                               0.0   \nData thinking                                                            0.0   \nDocument processing                                                      0.0   \nEquifax Workforce Solutions                                              0.0   \nGame analytics                                                           0.0   \nInference attack                                                         0.0   \nPath analysis (computing)                                                0.0   \nAutomatic number-plate recognition in the Unite...                       1.0   \nPRODIGAL (computer system)                                               0.0   \nText mining                                                              0.0   \nZapaday                                                                  0.0   \n\n                                                    (tolling, system, combining)  \\\ntitle                                                                              \nAnomaly Detection at Multiple Scales                                         0.0   \nBehavioral analytics                                                         0.0   \nBusiness analytics                                                           0.0   \nCORE (research service)                                                      0.0   \nDaisy Intelligence                                                           0.0   \nData Applied                                                                 0.0   \nData mining in agriculture                                                   0.0   \nData thinking                                                                0.0   \nDocument processing                                                          0.0   \nEquifax Workforce Solutions                                                  0.0   \nGame analytics                                                               0.0   \nInference attack                                                             0.0   \nPath analysis (computing)                                                    0.0   \nAutomatic number-plate recognition in the Unite...                           1.0   \nPRODIGAL (computer system)                                                   0.0   \nText mining                                                                  0.0   \nZapaday                                                                      0.0   \n\n                                                    (toll, vehicles, entering)  \\\ntitle                                                                            \nAnomaly Detection at Multiple Scales                                       0.0   \nBehavioral analytics                                                       0.0   \nBusiness analytics                                                         0.0   \nCORE (research service)                                                    0.0   \nDaisy Intelligence                                                         0.0   \nData Applied                                                               0.0   \nData mining in agriculture                                                 0.0   \nData thinking                                                              0.0   \nDocument processing                                                        0.0   \nEquifax Workforce Solutions                                                0.0   \nGame analytics                                                             0.0   \nInference attack                                                           0.0   \nPath analysis (computing)                                                  0.0   \nAutomatic number-plate recognition in the Unite...                         1.0   \nPRODIGAL (computer system)                                                 0.0   \nText mining                                                                0.0   \nZapaday                                                                    0.0   \n\n                                                    (toll, stations, drivers)  \\\ntitle                                                                           \nAnomaly Detection at Multiple Scales                                      0.0   \nBehavioral analytics                                                      0.0   \nBusiness analytics                                                        0.0   \nCORE (research service)                                                   0.0   \nDaisy Intelligence                                                        0.0   \nData Applied                                                              0.0   \nData mining in agriculture                                                0.0   \nData thinking                                                             0.0   \nDocument processing                                                       0.0   \nEquifax Workforce Solutions                                               0.0   \nGame analytics                                                            0.0   \nInference attack                                                          0.0   \nPath analysis (computing)                                                 0.0   \nAutomatic number-plate recognition in the Unite...                        1.0   \nPRODIGAL (computer system)                                                0.0   \nText mining                                                               0.0   \nZapaday                                                                   0.0   \n\n                                                    (toll, routes, parking)  \\\ntitle                                                                         \nAnomaly Detection at Multiple Scales                                    0.0   \nBehavioral analytics                                                    0.0   \nBusiness analytics                                                      0.0   \nCORE (research service)                                                 0.0   \nDaisy Intelligence                                                      0.0   \nData Applied                                                            0.0   \nData mining in agriculture                                              0.0   \nData thinking                                                           0.0   \nDocument processing                                                     0.0   \nEquifax Workforce Solutions                                             0.0   \nGame analytics                                                          0.0   \nInference attack                                                        0.0   \nPath analysis (computing)                                               0.0   \nAutomatic number-plate recognition in the Unite...                      1.0   \nPRODIGAL (computer system)                                              0.0   \nText mining                                                             0.0   \nZapaday                                                                 0.0   \n\n                                                    (toll, roads, ontario)  \\\ntitle                                                                        \nAnomaly Detection at Multiple Scales                                   0.0   \nBehavioral analytics                                                   0.0   \nBusiness analytics                                                     0.0   \nCORE (research service)                                                0.0   \nDaisy Intelligence                                                     0.0   \nData Applied                                                           0.0   \nData mining in agriculture                                             0.0   \nData thinking                                                          0.0   \nDocument processing                                                    0.0   \nEquifax Workforce Solutions                                            0.0   \nGame analytics                                                         0.0   \nInference attack                                                       0.0   \nPath analysis (computing)                                              0.0   \nAutomatic number-plate recognition in the Unite...                     1.0   \nPRODIGAL (computer system)                                             0.0   \nText mining                                                            0.0   \nZapaday                                                                0.0   \n\n                                                    (toll, dublin, ireland)  \ntitle                                                                        \nAnomaly Detection at Multiple Scales                                    0.0  \nBehavioral analytics                                                    0.0  \nBusiness analytics                                                      0.0  \nCORE (research service)                                                 0.0  \nDaisy Intelligence                                                      0.0  \nData Applied                                                            0.0  \nData mining in agriculture                                              0.0  \nData thinking                                                           0.0  \nDocument processing                                                     0.0  \nEquifax Workforce Solutions                                             0.0  \nGame analytics                                                          0.0  \nInference attack                                                        0.0  \nPath analysis (computing)                                               0.0  \nAutomatic number-plate recognition in the Unite...                      1.0  \nPRODIGAL (computer system)                                              0.0  \nText mining                                                             0.0  \nZapaday                                                                 0.0  \n\n[17 rows x 1700 columns]",
      "text/html": "<div>\n<style scoped>\n    .dataframe tbody tr th:only-of-type {\n        vertical-align: middle;\n    }\n\n    .dataframe tbody tr th {\n        vertical-align: top;\n    }\n\n    .dataframe thead th {\n        text-align: right;\n    }\n</style>\n<table border=\"1\" class=\"dataframe\">\n  <thead>\n    <tr style=\"text-align: right;\">\n      <th></th>\n      <th>(number, plate, recognition)</th>\n      <th>(b, f, skinner)</th>\n      <th>(automatic, number, plate)</th>\n      <th>(optical, character, recognition)</th>\n      <th>(license, plate, capture)</th>\n      <th>(average, speed, cameras)</th>\n      <th>(text, data, mining)</th>\n      <th>(open, access, content)</th>\n      <th>(natural, language, processing)</th>\n      <th>(text, mining, software)</th>\n      <th>...</th>\n      <th>(tolman, based, upon)</th>\n      <th>(tolltag, north, texas)</th>\n      <th>(tolls, rd, th)</th>\n      <th>(tolls, passed, depends)</th>\n      <th>(tolling, system, combining)</th>\n      <th>(toll, vehicles, entering)</th>\n      <th>(toll, stations, drivers)</th>\n      <th>(toll, routes, parking)</th>\n      <th>(toll, roads, ontario)</th>\n      <th>(toll, dublin, ireland)</th>\n    </tr>\n    <tr>\n      <th>title</th>\n      <th></th>\n      <th></th>\n      <th></th>\n      <th></th>\n      <th></th>\n      <th></th>\n      <th></th>\n      <th></th>\n      <th></th>\n      <th></th>\n      <th></th>\n      <th></th>\n      <th></th>\n      <th></th>\n      <th></th>\n      <th></th>\n      <th></th>\n      <th></th>\n      <th></th>\n      <th></th>\n      <th></th>\n    </tr>\n  </thead>\n  <tbody>\n    <tr>\n      <th>Anomaly Detection at Multiple Scales</th>\n      <td>0.0</td>\n      <td>0.0</td>\n      <td>0.0</td>\n      <td>0.0</td>\n      <td>0.0</td>\n      <td>0.0</td>\n      <td>0.0</td>\n      <td>0.0</td>\n      <td>0.0</td>\n      <td>0.0</td>\n      <td>...</td>\n      <td>0.0</td>\n      <td>0.0</td>\n      <td>0.0</td>\n      <td>0.0</td>\n      <td>0.0</td>\n      <td>0.0</td>\n      <td>0.0</td>\n      <td>0.0</td>\n      <td>0.0</td>\n      <td>0.0</td>\n    </tr>\n    <tr>\n      <th>Behavioral analytics</th>\n      <td>0.0</td>\n      <td>7.0</td>\n      <td>0.0</td>\n      <td>0.0</td>\n      <td>0.0</td>\n      <td>0.0</td>\n      <td>0.0</td>\n      <td>0.0</td>\n      <td>0.0</td>\n      <td>0.0</td>\n      <td>...</td>\n      <td>1.0</td>\n      <td>0.0</td>\n      <td>0.0</td>\n      <td>0.0</td>\n      <td>0.0</td>\n      <td>0.0</td>\n      <td>0.0</td>\n      <td>0.0</td>\n      <td>0.0</td>\n      <td>0.0</td>\n    </tr>\n    <tr>\n      <th>Business analytics</th>\n      <td>0.0</td>\n      <td>0.0</td>\n      <td>0.0</td>\n      <td>0.0</td>\n      <td>0.0</td>\n      <td>0.0</td>\n      <td>0.0</td>\n      <td>0.0</td>\n      <td>0.0</td>\n      <td>0.0</td>\n      <td>...</td>\n      <td>0.0</td>\n      <td>0.0</td>\n      <td>0.0</td>\n      <td>0.0</td>\n      <td>0.0</td>\n      <td>0.0</td>\n      <td>0.0</td>\n      <td>0.0</td>\n      <td>0.0</td>\n      <td>0.0</td>\n    </tr>\n    <tr>\n      <th>CORE (research service)</th>\n      <td>0.0</td>\n      <td>0.0</td>\n      <td>0.0</td>\n      <td>0.0</td>\n      <td>0.0</td>\n      <td>0.0</td>\n      <td>1.0</td>\n      <td>5.0</td>\n      <td>0.0</td>\n      <td>0.0</td>\n      <td>...</td>\n      <td>0.0</td>\n      <td>0.0</td>\n      <td>0.0</td>\n      <td>0.0</td>\n      <td>0.0</td>\n      <td>0.0</td>\n      <td>0.0</td>\n      <td>0.0</td>\n      <td>0.0</td>\n      <td>0.0</td>\n    </tr>\n    <tr>\n      <th>Daisy Intelligence</th>\n      <td>0.0</td>\n      <td>0.0</td>\n      <td>0.0</td>\n      <td>0.0</td>\n      <td>0.0</td>\n      <td>0.0</td>\n      <td>0.0</td>\n      <td>0.0</td>\n      <td>0.0</td>\n      <td>0.0</td>\n      <td>...</td>\n      <td>0.0</td>\n      <td>0.0</td>\n      <td>0.0</td>\n      <td>0.0</td>\n      <td>0.0</td>\n      <td>0.0</td>\n      <td>0.0</td>\n      <td>0.0</td>\n      <td>0.0</td>\n      <td>0.0</td>\n    </tr>\n    <tr>\n      <th>Data Applied</th>\n      <td>0.0</td>\n      <td>0.0</td>\n      <td>0.0</td>\n      <td>0.0</td>\n      <td>0.0</td>\n      <td>0.0</td>\n      <td>0.0</td>\n      <td>0.0</td>\n      <td>0.0</td>\n      <td>0.0</td>\n      <td>...</td>\n      <td>0.0</td>\n      <td>0.0</td>\n      <td>0.0</td>\n      <td>0.0</td>\n      <td>0.0</td>\n      <td>0.0</td>\n      <td>0.0</td>\n      <td>0.0</td>\n      <td>0.0</td>\n      <td>0.0</td>\n    </tr>\n    <tr>\n      <th>Data mining in agriculture</th>\n      <td>0.0</td>\n      <td>0.0</td>\n      <td>0.0</td>\n      <td>0.0</td>\n      <td>0.0</td>\n      <td>0.0</td>\n      <td>0.0</td>\n      <td>0.0</td>\n      <td>0.0</td>\n      <td>0.0</td>\n      <td>...</td>\n      <td>0.0</td>\n      <td>0.0</td>\n      <td>0.0</td>\n      <td>0.0</td>\n      <td>0.0</td>\n      <td>0.0</td>\n      <td>0.0</td>\n      <td>0.0</td>\n      <td>0.0</td>\n      <td>0.0</td>\n    </tr>\n    <tr>\n      <th>Data thinking</th>\n      <td>0.0</td>\n      <td>0.0</td>\n      <td>0.0</td>\n      <td>0.0</td>\n      <td>0.0</td>\n      <td>0.0</td>\n      <td>0.0</td>\n      <td>0.0</td>\n      <td>0.0</td>\n      <td>0.0</td>\n      <td>...</td>\n      <td>0.0</td>\n      <td>0.0</td>\n      <td>0.0</td>\n      <td>0.0</td>\n      <td>0.0</td>\n      <td>0.0</td>\n      <td>0.0</td>\n      <td>0.0</td>\n      <td>0.0</td>\n      <td>0.0</td>\n    </tr>\n    <tr>\n      <th>Document processing</th>\n      <td>0.0</td>\n      <td>0.0</td>\n      <td>0.0</td>\n      <td>2.0</td>\n      <td>0.0</td>\n      <td>0.0</td>\n      <td>0.0</td>\n      <td>0.0</td>\n      <td>3.0</td>\n      <td>0.0</td>\n      <td>...</td>\n      <td>0.0</td>\n      <td>0.0</td>\n      <td>0.0</td>\n      <td>0.0</td>\n      <td>0.0</td>\n      <td>0.0</td>\n      <td>0.0</td>\n      <td>0.0</td>\n      <td>0.0</td>\n      <td>0.0</td>\n    </tr>\n    <tr>\n      <th>Equifax Workforce Solutions</th>\n      <td>0.0</td>\n      <td>0.0</td>\n      <td>0.0</td>\n      <td>0.0</td>\n      <td>0.0</td>\n      <td>0.0</td>\n      <td>0.0</td>\n      <td>0.0</td>\n      <td>0.0</td>\n      <td>0.0</td>\n      <td>...</td>\n      <td>0.0</td>\n      <td>0.0</td>\n      <td>0.0</td>\n      <td>0.0</td>\n      <td>0.0</td>\n      <td>0.0</td>\n      <td>0.0</td>\n      <td>0.0</td>\n      <td>0.0</td>\n      <td>0.0</td>\n    </tr>\n    <tr>\n      <th>Game analytics</th>\n      <td>0.0</td>\n      <td>0.0</td>\n      <td>0.0</td>\n      <td>0.0</td>\n      <td>0.0</td>\n      <td>0.0</td>\n      <td>0.0</td>\n      <td>0.0</td>\n      <td>0.0</td>\n      <td>0.0</td>\n      <td>...</td>\n      <td>0.0</td>\n      <td>0.0</td>\n      <td>0.0</td>\n      <td>0.0</td>\n      <td>0.0</td>\n      <td>0.0</td>\n      <td>0.0</td>\n      <td>0.0</td>\n      <td>0.0</td>\n      <td>0.0</td>\n    </tr>\n    <tr>\n      <th>Inference attack</th>\n      <td>0.0</td>\n      <td>0.0</td>\n      <td>0.0</td>\n      <td>0.0</td>\n      <td>0.0</td>\n      <td>0.0</td>\n      <td>0.0</td>\n      <td>0.0</td>\n      <td>0.0</td>\n      <td>0.0</td>\n      <td>...</td>\n      <td>0.0</td>\n      <td>0.0</td>\n      <td>0.0</td>\n      <td>0.0</td>\n      <td>0.0</td>\n      <td>0.0</td>\n      <td>0.0</td>\n      <td>0.0</td>\n      <td>0.0</td>\n      <td>0.0</td>\n    </tr>\n    <tr>\n      <th>Path analysis (computing)</th>\n      <td>0.0</td>\n      <td>0.0</td>\n      <td>0.0</td>\n      <td>0.0</td>\n      <td>0.0</td>\n      <td>0.0</td>\n      <td>0.0</td>\n      <td>0.0</td>\n      <td>0.0</td>\n      <td>0.0</td>\n      <td>...</td>\n      <td>0.0</td>\n      <td>0.0</td>\n      <td>0.0</td>\n      <td>0.0</td>\n      <td>0.0</td>\n      <td>0.0</td>\n      <td>0.0</td>\n      <td>0.0</td>\n      <td>0.0</td>\n      <td>0.0</td>\n    </tr>\n    <tr>\n      <th>Automatic number-plate recognition in the United Kingdom</th>\n      <td>8.0</td>\n      <td>0.0</td>\n      <td>7.0</td>\n      <td>4.0</td>\n      <td>6.0</td>\n      <td>6.0</td>\n      <td>0.0</td>\n      <td>0.0</td>\n      <td>0.0</td>\n      <td>0.0</td>\n      <td>...</td>\n      <td>0.0</td>\n      <td>1.0</td>\n      <td>1.0</td>\n      <td>1.0</td>\n      <td>1.0</td>\n      <td>1.0</td>\n      <td>1.0</td>\n      <td>1.0</td>\n      <td>1.0</td>\n      <td>1.0</td>\n    </tr>\n    <tr>\n      <th>PRODIGAL (computer system)</th>\n      <td>0.0</td>\n      <td>0.0</td>\n      <td>0.0</td>\n      <td>0.0</td>\n      <td>0.0</td>\n      <td>0.0</td>\n      <td>0.0</td>\n      <td>0.0</td>\n      <td>0.0</td>\n      <td>0.0</td>\n      <td>...</td>\n      <td>0.0</td>\n      <td>0.0</td>\n      <td>0.0</td>\n      <td>0.0</td>\n      <td>0.0</td>\n      <td>0.0</td>\n      <td>0.0</td>\n      <td>0.0</td>\n      <td>0.0</td>\n      <td>0.0</td>\n    </tr>\n    <tr>\n      <th>Text mining</th>\n      <td>0.0</td>\n      <td>0.0</td>\n      <td>0.0</td>\n      <td>0.0</td>\n      <td>0.0</td>\n      <td>0.0</td>\n      <td>4.0</td>\n      <td>0.0</td>\n      <td>2.0</td>\n      <td>4.0</td>\n      <td>...</td>\n      <td>0.0</td>\n      <td>0.0</td>\n      <td>0.0</td>\n      <td>0.0</td>\n      <td>0.0</td>\n      <td>0.0</td>\n      <td>0.0</td>\n      <td>0.0</td>\n      <td>0.0</td>\n      <td>0.0</td>\n    </tr>\n    <tr>\n      <th>Zapaday</th>\n      <td>0.0</td>\n      <td>0.0</td>\n      <td>0.0</td>\n      <td>0.0</td>\n      <td>0.0</td>\n      <td>0.0</td>\n      <td>0.0</td>\n      <td>0.0</td>\n      <td>0.0</td>\n      <td>0.0</td>\n      <td>...</td>\n      <td>0.0</td>\n      <td>0.0</td>\n      <td>0.0</td>\n      <td>0.0</td>\n      <td>0.0</td>\n      <td>0.0</td>\n      <td>0.0</td>\n      <td>0.0</td>\n      <td>0.0</td>\n      <td>0.0</td>\n    </tr>\n  </tbody>\n</table>\n<p>17 rows × 1700 columns</p>\n</div>"
     },
     "execution_count": 87,
     "metadata": {},
     "output_type": "execute_result"
    }
   ],
   "source": [
    "X_raw = get_count_matrix(\"all_grams\")\n",
    "X_raw"
   ],
   "metadata": {
    "collapsed": false
   }
  },
  {
   "cell_type": "code",
   "execution_count": 88,
   "outputs": [],
   "source": [
    "def tf(term: Tuple[str, ...], document: str, X_raw: pd.DataFrame, all_data: pd.DataFrame, ngram: str) -> float:\n",
    "    \"\"\"Calculates the term frequency of a term in a document.\n",
    "\n",
    "        The term frequency is calculated as the number of times the term appears in the document divided by the number of words in the document.\n",
    "\n",
    "        :param term: the term to calculate the frequency of\n",
    "        :param document: the title of the document to calculate the frequency in\n",
    "        :param X_raw: the raw count matrix\n",
    "        :param all_data: the dataframe containing all the data\n",
    "        :param ngram: the n-gram to use. Can be 'unigram', 'bigram', or 'trigram'\n",
    "        :return: the term frequency\n",
    "        \"\"\"\n",
    "    assert ngram in ['unigrams', 'bigrams', 'trigrams']\n",
    "    numerator = X_raw.loc[document][term]\n",
    "    terms: dict = all_data.loc[all_data['title'] == document][ngram].values[0]\n",
    "    denominator = len(terms)\n",
    "    return numerator / denominator"
   ],
   "metadata": {
    "collapsed": false
   }
  },
  {
   "cell_type": "code",
   "execution_count": 89,
   "outputs": [],
   "source": [
    "def idf(term: Tuple[str, ...], all_data: pd.DataFrame, ngram: str) -> float:\n",
    "    \"\"\"Calculates the inverse document frequency of a term.\n",
    "\n",
    "    :param term: the term to calculate the frequency of\n",
    "    :param all_data: the dataframe containing all the data\n",
    "    :param ngram: the n-gram to use. Can be 'unigram', 'bigram', or 'trigram'\n",
    "    :return: the inverse document frequency of the term\n",
    "    \"\"\"\n",
    "    assert ngram in ['unigrams', 'bigrams', 'trigrams']\n",
    "    total_documents = all_data.shape[0]\n",
    "    has_term = all_data[ngram].map(lambda x: 1 if term in x else 0)\n",
    "    docs_with_term = has_term.aggregate(sum)\n",
    "    return np.log(total_documents / (docs_with_term + 1) + 1)"
   ],
   "metadata": {
    "collapsed": false
   }
  },
  {
   "cell_type": "code",
   "execution_count": 90,
   "outputs": [],
   "source": [
    "def tf_idf(tf: float, idf: float) -> float:\n",
    "    \"\"\"Calculates the tf-idf score of a term in a document.\n",
    "\n",
    "    :param tf: the term frequency of the term in the document\n",
    "    :param idf: the inverse document frequency of the term\n",
    "    :return: the tf-idf score of the term in the document\n",
    "    \"\"\"\n",
    "    tf = (1 + np.log(tf)) if tf > 0 else 0\n",
    "    return (1 + np.log(tf)) * idf"
   ],
   "metadata": {
    "collapsed": false,
    "pycharm": {
     "name": "#%%\n"
    }
   }
  },
  {
   "cell_type": "code",
   "execution_count": 72,
   "outputs": [
    {
     "data": {
      "text/plain": "                                                title  \\\n0                Anomaly Detection at Multiple Scales   \n1                                Behavioral analytics   \n2                                  Business analytics   \n3                             CORE (research service)   \n4                                  Daisy Intelligence   \n5                                        Data Applied   \n6                          Data mining in agriculture   \n7                                       Data thinking   \n8                                 Document processing   \n9                         Equifax Workforce Solutions   \n10                                     Game analytics   \n11                                   Inference attack   \n12                          Path analysis (computing)   \n13  Automatic number-plate recognition in the Unit...   \n14                         PRODIGAL (computer system)   \n15                                        Text mining   \n16                                            Zapaday   \n\n                                                 text  \\\n0   Anomaly Detection at Multiple Scales, or ADAMS...   \n1   Behaviorism is a systematic approach to unders...   \n2   Business analysis is a professional discipline...   \n3   CORE (Connecting Repositories) is a service pr...   \n4   Daisy Intelligence is a Canadian Artificial In...   \n5   Data Applied is a software vendor headquartere...   \n6   Data mining in agriculture is a recent researc...   \n7   Data thinking is a buzzword for the generic \"m...   \n8   Document processing is a field of research and...   \n9   Equifax Workforce Solutions, formerly known as...   \n10  Game analytics is the form of behavioral analy...   \n11  An Inference Attack is a data mining technique...   \n12  Path analysis, is the analysis of a path, whic...   \n13  Automatic number-plate recognition (ANPR; see ...   \n14  PRODIGAL (proactive discovery of insider threa...   \n15  Text mining, also referred to as text data min...   \n16  Zapaday is a global news calendar. The website...   \n\n                                        filtered_text  \\\n0   [anomaly, detection, multiple, scales, adams, ...   \n1   [behaviorism, systematic, approach, understand...   \n2   [business, analysis, professional, discipline,...   \n3   [core, connecting, repositories, service, prov...   \n4   [daisy, intelligence, canadian, artificial, in...   \n5   [data, applied, software, vendor, headquartere...   \n6   [data, mining, agriculture, recent, research, ...   \n7   [data, thinking, buzzword, generic, mental, pa...   \n8   [document, processing, field, research, set, p...   \n9   [equifax, workforce, solutions, formerly, know...   \n10  [game, analytics, form, behavioral, analytics,...   \n11  [inference, attack, data, mining, technique, p...   \n12  [path, analysis, analysis, path, portrayal, ch...   \n13  [automatic, number, plate, recognition, anpr, ...   \n14  [prodigal, proactive, discovery, insider, thre...   \n15  [text, mining, also, referred, text, data, min...   \n16  [zapaday, global, news, calendar, website, pub...   \n\n                                             unigrams  \\\n0   {('suicidal',): 1, ('commercial',): 1, ('innov...   \n1   {('colleagues',): 2, ('later',): 4, ('access',...   \n2   {('revenue',): 5, ('stage',): 2, ('g',): 4, ('...   \n3   {('later',): 1, ('g',): 1, ('less',): 1, ('int...   \n4   {('ranked',): 1, ('mail',): 1, ('analysis',): ...   \n5   {('analysis',): 2, ('supports',): 1, ('company...   \n6   {('recordings',): 1, ('predicted',): 1, ('impo...   \n7   {('similar',): 1, ('concrete',): 2, ('typicall...   \n8   {('resolution',): 1, ('line',): 1, ('scanners'...   \n9   {('revenue',): 2, ('employer',): 1, ('restated...   \n10  {('statistical',): 1, ('used',): 1, ('number',...   \n11  {('inference',): 4, ('recordings',): 1, ('g',)...   \n12  {('representation',): 1, ('etc',): 1, ('concre...   \n13  {('killers',): 1, ('later',): 3, ('unprotected...   \n14  {('nsa',): 1, ('massachusetts',): 1, ('college...   \n15  {('names',): 1, ('needing',): 1, ('revenue',):...   \n16  {('agence',): 1, ('headlines',): 1, ('foreign'...   \n\n                                              bigrams  \\\n0   {('specific', 'cases'): 1, ('operators', 'coun...   \n1   {('science', 'journal'): 1, ('learning', 'prin...   \n2   {('managing', 'change'): 1, ('task', 'called')...   \n3   {('also', 'provides'): 1, ('access', 'set'): 1...   \n4   {('startups', 'concentrated'): 1, ('ontario', ...   \n5   {('maps', 'time'): 1, ('trees', 'association')...   \n6   {('type', 'results'): 1, ('lead', 'producing')...   \n7   {('digital', 'strategy'): 1, ('combined', 'pha...   \n8   {('processing', 'nap'): 1, ('also', 'widely'):...   \n9   {('created', 'number'): 1, ('auditors', 'sec')...   \n10  {('aim', 'using'): 1, ('example', 'would'): 1,...   \n11  {('today', 'also'): 1, ('recorded', 'motion'):...   \n12  {('shelves', 'products'): 2, ('also', 'wants')...   \n13  {('giving', 'high'): 1, ('related', 'controlli...   \n14  {('analysis', 'five'): 1, ('project', 'initial...   \n15  {('areas', 'dating'): 1, ('emotion', 'text'): ...   \n16  {('cover', 'story'): 1, ('publish', 'premium')...   \n\n                                             trigrams  \\\n0   {('privileges', 'share', 'classified'): 1, ('i...   \n1   {('experimented', 'animals', 'spoke'): 1, ('pr...   \n2   {('impact', 'particular', 'businesses'): 1, ('...   \n3   {('collections', 'programmable', 'machine'): 1...   \n4   {('artificial', 'intelligence', 'ai'): 1, ('co...   \n5   {('former', 'microsoft', 'employees'): 1, ('vi...   \n6   {('pakistan', 'hence', 'excessive'): 1, ('wate...   \n7   {('focus', 'approach', 'lie'): 1, ('thinking',...   \n8   {('process', 'high', 'volumes'): 1, ('processi...   \n9   {('april', 'new', 'york'): 1, ('financial', 'r...   \n10  {('developers', 'regards', 'player'): 1, ('lev...   \n11  {('security', 'level', 'inference'): 1, ('infe...   \n12  {('look', 'strongest', 'paths'): 1, ('profile'...   \n13  {('novelty', 'frames', 'anpr'): 1, ('used', 's...   \n14  {('insider', 'threats', 'using'): 1, ('learnin...   \n15  {('linguistics', 'community', 'viewed'): 1, ('...   \n16  {('either', 'content', 'creator'): 1, ('dutch'...   \n\n                                            all_grams  \n0   {('privileges', 'share', 'classified'): 1, ('i...  \n1   {('experimented', 'animals', 'spoke'): 1, ('pr...  \n2   {('impact', 'particular', 'businesses'): 1, ('...  \n3   {('collections', 'programmable', 'machine'): 1...  \n4   {('artificial', 'intelligence', 'ai'): 1, ('co...  \n5   {('former', 'microsoft', 'employees'): 1, ('vi...  \n6   {('pakistan', 'hence', 'excessive'): 1, ('wate...  \n7   {('focus', 'approach', 'lie'): 1, ('thinking',...  \n8   {('process', 'high', 'volumes'): 1, ('processi...  \n9   {('april', 'new', 'york'): 1, ('financial', 'r...  \n10  {('developers', 'regards', 'player'): 1, ('lev...  \n11  {('security', 'level', 'inference'): 1, ('infe...  \n12  {('look', 'strongest', 'paths'): 1, ('profile'...  \n13  {('novelty', 'frames', 'anpr'): 1, ('used', 's...  \n14  {('insider', 'threats', 'using'): 1, ('learnin...  \n15  {('linguistics', 'community', 'viewed'): 1, ('...  \n16  {('either', 'content', 'creator'): 1, ('dutch'...  ",
      "text/html": "<div>\n<style scoped>\n    .dataframe tbody tr th:only-of-type {\n        vertical-align: middle;\n    }\n\n    .dataframe tbody tr th {\n        vertical-align: top;\n    }\n\n    .dataframe thead th {\n        text-align: right;\n    }\n</style>\n<table border=\"1\" class=\"dataframe\">\n  <thead>\n    <tr style=\"text-align: right;\">\n      <th></th>\n      <th>title</th>\n      <th>text</th>\n      <th>filtered_text</th>\n      <th>unigrams</th>\n      <th>bigrams</th>\n      <th>trigrams</th>\n      <th>all_grams</th>\n    </tr>\n  </thead>\n  <tbody>\n    <tr>\n      <th>0</th>\n      <td>Anomaly Detection at Multiple Scales</td>\n      <td>Anomaly Detection at Multiple Scales, or ADAMS...</td>\n      <td>[anomaly, detection, multiple, scales, adams, ...</td>\n      <td>{('suicidal',): 1, ('commercial',): 1, ('innov...</td>\n      <td>{('specific', 'cases'): 1, ('operators', 'coun...</td>\n      <td>{('privileges', 'share', 'classified'): 1, ('i...</td>\n      <td>{('privileges', 'share', 'classified'): 1, ('i...</td>\n    </tr>\n    <tr>\n      <th>1</th>\n      <td>Behavioral analytics</td>\n      <td>Behaviorism is a systematic approach to unders...</td>\n      <td>[behaviorism, systematic, approach, understand...</td>\n      <td>{('colleagues',): 2, ('later',): 4, ('access',...</td>\n      <td>{('science', 'journal'): 1, ('learning', 'prin...</td>\n      <td>{('experimented', 'animals', 'spoke'): 1, ('pr...</td>\n      <td>{('experimented', 'animals', 'spoke'): 1, ('pr...</td>\n    </tr>\n    <tr>\n      <th>2</th>\n      <td>Business analytics</td>\n      <td>Business analysis is a professional discipline...</td>\n      <td>[business, analysis, professional, discipline,...</td>\n      <td>{('revenue',): 5, ('stage',): 2, ('g',): 4, ('...</td>\n      <td>{('managing', 'change'): 1, ('task', 'called')...</td>\n      <td>{('impact', 'particular', 'businesses'): 1, ('...</td>\n      <td>{('impact', 'particular', 'businesses'): 1, ('...</td>\n    </tr>\n    <tr>\n      <th>3</th>\n      <td>CORE (research service)</td>\n      <td>CORE (Connecting Repositories) is a service pr...</td>\n      <td>[core, connecting, repositories, service, prov...</td>\n      <td>{('later',): 1, ('g',): 1, ('less',): 1, ('int...</td>\n      <td>{('also', 'provides'): 1, ('access', 'set'): 1...</td>\n      <td>{('collections', 'programmable', 'machine'): 1...</td>\n      <td>{('collections', 'programmable', 'machine'): 1...</td>\n    </tr>\n    <tr>\n      <th>4</th>\n      <td>Daisy Intelligence</td>\n      <td>Daisy Intelligence is a Canadian Artificial In...</td>\n      <td>[daisy, intelligence, canadian, artificial, in...</td>\n      <td>{('ranked',): 1, ('mail',): 1, ('analysis',): ...</td>\n      <td>{('startups', 'concentrated'): 1, ('ontario', ...</td>\n      <td>{('artificial', 'intelligence', 'ai'): 1, ('co...</td>\n      <td>{('artificial', 'intelligence', 'ai'): 1, ('co...</td>\n    </tr>\n    <tr>\n      <th>5</th>\n      <td>Data Applied</td>\n      <td>Data Applied is a software vendor headquartere...</td>\n      <td>[data, applied, software, vendor, headquartere...</td>\n      <td>{('analysis',): 2, ('supports',): 1, ('company...</td>\n      <td>{('maps', 'time'): 1, ('trees', 'association')...</td>\n      <td>{('former', 'microsoft', 'employees'): 1, ('vi...</td>\n      <td>{('former', 'microsoft', 'employees'): 1, ('vi...</td>\n    </tr>\n    <tr>\n      <th>6</th>\n      <td>Data mining in agriculture</td>\n      <td>Data mining in agriculture is a recent researc...</td>\n      <td>[data, mining, agriculture, recent, research, ...</td>\n      <td>{('recordings',): 1, ('predicted',): 1, ('impo...</td>\n      <td>{('type', 'results'): 1, ('lead', 'producing')...</td>\n      <td>{('pakistan', 'hence', 'excessive'): 1, ('wate...</td>\n      <td>{('pakistan', 'hence', 'excessive'): 1, ('wate...</td>\n    </tr>\n    <tr>\n      <th>7</th>\n      <td>Data thinking</td>\n      <td>Data thinking is a buzzword for the generic \"m...</td>\n      <td>[data, thinking, buzzword, generic, mental, pa...</td>\n      <td>{('similar',): 1, ('concrete',): 2, ('typicall...</td>\n      <td>{('digital', 'strategy'): 1, ('combined', 'pha...</td>\n      <td>{('focus', 'approach', 'lie'): 1, ('thinking',...</td>\n      <td>{('focus', 'approach', 'lie'): 1, ('thinking',...</td>\n    </tr>\n    <tr>\n      <th>8</th>\n      <td>Document processing</td>\n      <td>Document processing is a field of research and...</td>\n      <td>[document, processing, field, research, set, p...</td>\n      <td>{('resolution',): 1, ('line',): 1, ('scanners'...</td>\n      <td>{('processing', 'nap'): 1, ('also', 'widely'):...</td>\n      <td>{('process', 'high', 'volumes'): 1, ('processi...</td>\n      <td>{('process', 'high', 'volumes'): 1, ('processi...</td>\n    </tr>\n    <tr>\n      <th>9</th>\n      <td>Equifax Workforce Solutions</td>\n      <td>Equifax Workforce Solutions, formerly known as...</td>\n      <td>[equifax, workforce, solutions, formerly, know...</td>\n      <td>{('revenue',): 2, ('employer',): 1, ('restated...</td>\n      <td>{('created', 'number'): 1, ('auditors', 'sec')...</td>\n      <td>{('april', 'new', 'york'): 1, ('financial', 'r...</td>\n      <td>{('april', 'new', 'york'): 1, ('financial', 'r...</td>\n    </tr>\n    <tr>\n      <th>10</th>\n      <td>Game analytics</td>\n      <td>Game analytics is the form of behavioral analy...</td>\n      <td>[game, analytics, form, behavioral, analytics,...</td>\n      <td>{('statistical',): 1, ('used',): 1, ('number',...</td>\n      <td>{('aim', 'using'): 1, ('example', 'would'): 1,...</td>\n      <td>{('developers', 'regards', 'player'): 1, ('lev...</td>\n      <td>{('developers', 'regards', 'player'): 1, ('lev...</td>\n    </tr>\n    <tr>\n      <th>11</th>\n      <td>Inference attack</td>\n      <td>An Inference Attack is a data mining technique...</td>\n      <td>[inference, attack, data, mining, technique, p...</td>\n      <td>{('inference',): 4, ('recordings',): 1, ('g',)...</td>\n      <td>{('today', 'also'): 1, ('recorded', 'motion'):...</td>\n      <td>{('security', 'level', 'inference'): 1, ('infe...</td>\n      <td>{('security', 'level', 'inference'): 1, ('infe...</td>\n    </tr>\n    <tr>\n      <th>12</th>\n      <td>Path analysis (computing)</td>\n      <td>Path analysis, is the analysis of a path, whic...</td>\n      <td>[path, analysis, analysis, path, portrayal, ch...</td>\n      <td>{('representation',): 1, ('etc',): 1, ('concre...</td>\n      <td>{('shelves', 'products'): 2, ('also', 'wants')...</td>\n      <td>{('look', 'strongest', 'paths'): 1, ('profile'...</td>\n      <td>{('look', 'strongest', 'paths'): 1, ('profile'...</td>\n    </tr>\n    <tr>\n      <th>13</th>\n      <td>Automatic number-plate recognition in the Unit...</td>\n      <td>Automatic number-plate recognition (ANPR; see ...</td>\n      <td>[automatic, number, plate, recognition, anpr, ...</td>\n      <td>{('killers',): 1, ('later',): 3, ('unprotected...</td>\n      <td>{('giving', 'high'): 1, ('related', 'controlli...</td>\n      <td>{('novelty', 'frames', 'anpr'): 1, ('used', 's...</td>\n      <td>{('novelty', 'frames', 'anpr'): 1, ('used', 's...</td>\n    </tr>\n    <tr>\n      <th>14</th>\n      <td>PRODIGAL (computer system)</td>\n      <td>PRODIGAL (proactive discovery of insider threa...</td>\n      <td>[prodigal, proactive, discovery, insider, thre...</td>\n      <td>{('nsa',): 1, ('massachusetts',): 1, ('college...</td>\n      <td>{('analysis', 'five'): 1, ('project', 'initial...</td>\n      <td>{('insider', 'threats', 'using'): 1, ('learnin...</td>\n      <td>{('insider', 'threats', 'using'): 1, ('learnin...</td>\n    </tr>\n    <tr>\n      <th>15</th>\n      <td>Text mining</td>\n      <td>Text mining, also referred to as text data min...</td>\n      <td>[text, mining, also, referred, text, data, min...</td>\n      <td>{('names',): 1, ('needing',): 1, ('revenue',):...</td>\n      <td>{('areas', 'dating'): 1, ('emotion', 'text'): ...</td>\n      <td>{('linguistics', 'community', 'viewed'): 1, ('...</td>\n      <td>{('linguistics', 'community', 'viewed'): 1, ('...</td>\n    </tr>\n    <tr>\n      <th>16</th>\n      <td>Zapaday</td>\n      <td>Zapaday is a global news calendar. The website...</td>\n      <td>[zapaday, global, news, calendar, website, pub...</td>\n      <td>{('agence',): 1, ('headlines',): 1, ('foreign'...</td>\n      <td>{('cover', 'story'): 1, ('publish', 'premium')...</td>\n      <td>{('either', 'content', 'creator'): 1, ('dutch'...</td>\n      <td>{('either', 'content', 'creator'): 1, ('dutch'...</td>\n    </tr>\n  </tbody>\n</table>\n</div>"
     },
     "execution_count": 72,
     "metadata": {},
     "output_type": "execute_result"
    }
   ],
   "source": [
    "df"
   ],
   "metadata": {
    "collapsed": false
   }
  },
  {
   "cell_type": "markdown",
   "source": [
    "c) Using SVD, decompose and truncate your numerical features $X = U \\Sigma V^\\top$ into ($docs \\times topics$) and ($topics \\times terms$) matrices (left/right singular vectors, respectively) using $6$ topics. List $5$ most significant $n$-grams for each topic, measured by values of the ($topics \\times terms$) matrix. Do this for both features $X_\\mathrm{raw}$ and $X_\\mathrm{tf-idf}$."
   ],
   "metadata": {
    "collapsed": false,
    "pycharm": {
     "name": "#%% md\n"
    }
   }
  },
  {
   "cell_type": "code",
   "execution_count": 72,
   "outputs": [],
   "source": [],
   "metadata": {
    "collapsed": false,
    "pycharm": {
     "name": "#%%\n"
    }
   }
  },
  {
   "cell_type": "markdown",
   "source": [
    "d) Compare and comment the results with respect to the selection of features and the $n$ value in $n$-grams."
   ],
   "metadata": {
    "collapsed": false,
    "pycharm": {
     "name": "#%% md\n"
    }
   }
  },
  {
   "cell_type": "code",
   "execution_count": 72,
   "outputs": [],
   "source": [],
   "metadata": {
    "collapsed": false,
    "pycharm": {
     "name": "#%%\n"
    }
   }
  },
  {
   "cell_type": "markdown",
   "source": [
    "**The format of tf-idf you need to use:**\n",
    "\n",
    "$$ f(tf, idf) = (1 + \\ln (tf)) \\cdot idf $$\n",
    "\n",
    "where:\n",
    "\n",
    "$$ tf = \\frac{number\\ of\\ times\\ term\\ w\\ appears\\ in\\ a\\ document}{total\\ number\\ of\\ terms\\ in\\ that\\ document} $$\n",
    "\n",
    "and\n",
    "\n",
    "$$ idf = \\ln(\\frac{total\\ number\\ of\\ documents}{number\\ of\\ documents\\ with\\ term\\ w\\ in\\ them + 1} + 1) $$"
   ],
   "metadata": {
    "collapsed": false,
    "pycharm": {
     "name": "#%% md\n"
    }
   }
  },
  {
   "cell_type": "code",
   "execution_count": 72,
   "outputs": [],
   "source": [],
   "metadata": {
    "collapsed": false,
    "pycharm": {
     "name": "#%%\n"
    }
   }
  }
 ],
 "metadata": {
  "kernelspec": {
   "display_name": "Python 3",
   "language": "python",
   "name": "python3"
  },
  "language_info": {
   "codemirror_mode": {
    "name": "ipython",
    "version": 2
   },
   "file_extension": ".py",
   "mimetype": "text/x-python",
   "name": "python",
   "nbconvert_exporter": "python",
   "pygments_lexer": "ipython2",
   "version": "2.7.6"
  }
 },
 "nbformat": 4,
 "nbformat_minor": 0
}
