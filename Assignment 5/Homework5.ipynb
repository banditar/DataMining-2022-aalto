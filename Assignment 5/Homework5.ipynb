{
 "cells": [
  {
   "cell_type": "markdown",
   "source": [
    "# Topic modeling\n",
    "\n",
    "| Student Name         | Student-ID |\n",
    "|----------------------|------------|\n",
    "| Marco Di Francesco   | 100632815  |\n",
    "| Loreto García Tejada | 100643862  |\n",
    "| György Bence Józsa   | 100633270  |\n",
    "| József-Hunor Jánosi  | 100516724  |\n",
    "| Sara-Jane Bittner    | 100498554  |"
   ],
   "metadata": {
    "collapsed": false
   }
  },
  {
   "cell_type": "markdown",
   "source": [
    "_Learning goal: Processing text data, converting it into a numerical format and performing topic analysis using SVD._\n",
    "\n",
    "To complete the assignment you are allowed to use the NLTK natural language toolkit."
   ],
   "metadata": {
    "collapsed": false
   }
  },
  {
   "cell_type": "code",
   "execution_count": 1,
   "outputs": [],
   "source": [
    "import re\n",
    "import nltk\n",
    "import pandas as pd\n",
    "from nltk import ngrams\n",
    "from nltk.corpus import stopwords\n",
    "from typing import Union, Tuple, Dict, List\n",
    "from functools import reduce\n",
    "import numpy as np"
   ],
   "metadata": {
    "collapsed": false,
    "pycharm": {
     "name": "#%%\n"
    }
   }
  },
  {
   "cell_type": "code",
   "execution_count": 2,
   "outputs": [
    {
     "name": "stderr",
     "output_type": "stream",
     "text": [
      "[nltk_data] Downloading package stopwords to\n",
      "[nltk_data]     C:\\Users\\Gyuri\\AppData\\Roaming\\nltk_data...\n",
      "[nltk_data]   Package stopwords is already up-to-date!\n"
     ]
    },
    {
     "data": {
      "text/plain": "True"
     },
     "execution_count": 2,
     "metadata": {},
     "output_type": "execute_result"
    }
   ],
   "source": [
    "nltk.download('stopwords')"
   ],
   "metadata": {
    "collapsed": false,
    "pycharm": {
     "name": "#%%\n"
    }
   }
  },
  {
   "cell_type": "markdown",
   "source": [
    "a) Load _applications_of_DM.csv_, e.g. with `pandas` in Python. It has titles and text content of Wikipedia articles on data mining. In the following tasks, you are to work with the \"tex\"-attribute."
   ],
   "metadata": {
    "collapsed": false,
    "pycharm": {
     "name": "#%% md\n"
    }
   }
  },
  {
   "cell_type": "code",
   "execution_count": 3,
   "outputs": [
    {
     "data": {
      "text/plain": "                                                title  \\\n0                Anomaly Detection at Multiple Scales   \n1                                Behavioral analytics   \n2                                  Business analytics   \n3                             CORE (research service)   \n4                                  Daisy Intelligence   \n5                                        Data Applied   \n6                          Data mining in agriculture   \n7                                       Data thinking   \n8                                 Document processing   \n9                         Equifax Workforce Solutions   \n10                                     Game analytics   \n11                                   Inference attack   \n12                          Path analysis (computing)   \n13  Automatic number-plate recognition in the Unit...   \n14                         PRODIGAL (computer system)   \n15                                        Text mining   \n16                                            Zapaday   \n\n                                                 text  \n0   Anomaly Detection at Multiple Scales, or ADAMS...  \n1   Behaviorism is a systematic approach to unders...  \n2   Business analysis is a professional discipline...  \n3   CORE (Connecting Repositories) is a service pr...  \n4   Daisy Intelligence is a Canadian Artificial In...  \n5   Data Applied is a software vendor headquartere...  \n6   Data mining in agriculture is a recent researc...  \n7   Data thinking is a buzzword for the generic \"m...  \n8   Document processing is a field of research and...  \n9   Equifax Workforce Solutions, formerly known as...  \n10  Game analytics is the form of behavioral analy...  \n11  An Inference Attack is a data mining technique...  \n12  Path analysis, is the analysis of a path, whic...  \n13  Automatic number-plate recognition (ANPR; see ...  \n14  PRODIGAL (proactive discovery of insider threa...  \n15  Text mining, also referred to as text data min...  \n16  Zapaday is a global news calendar. The website...  ",
      "text/html": "<div>\n<style scoped>\n    .dataframe tbody tr th:only-of-type {\n        vertical-align: middle;\n    }\n\n    .dataframe tbody tr th {\n        vertical-align: top;\n    }\n\n    .dataframe thead th {\n        text-align: right;\n    }\n</style>\n<table border=\"1\" class=\"dataframe\">\n  <thead>\n    <tr style=\"text-align: right;\">\n      <th></th>\n      <th>title</th>\n      <th>text</th>\n    </tr>\n  </thead>\n  <tbody>\n    <tr>\n      <th>0</th>\n      <td>Anomaly Detection at Multiple Scales</td>\n      <td>Anomaly Detection at Multiple Scales, or ADAMS...</td>\n    </tr>\n    <tr>\n      <th>1</th>\n      <td>Behavioral analytics</td>\n      <td>Behaviorism is a systematic approach to unders...</td>\n    </tr>\n    <tr>\n      <th>2</th>\n      <td>Business analytics</td>\n      <td>Business analysis is a professional discipline...</td>\n    </tr>\n    <tr>\n      <th>3</th>\n      <td>CORE (research service)</td>\n      <td>CORE (Connecting Repositories) is a service pr...</td>\n    </tr>\n    <tr>\n      <th>4</th>\n      <td>Daisy Intelligence</td>\n      <td>Daisy Intelligence is a Canadian Artificial In...</td>\n    </tr>\n    <tr>\n      <th>5</th>\n      <td>Data Applied</td>\n      <td>Data Applied is a software vendor headquartere...</td>\n    </tr>\n    <tr>\n      <th>6</th>\n      <td>Data mining in agriculture</td>\n      <td>Data mining in agriculture is a recent researc...</td>\n    </tr>\n    <tr>\n      <th>7</th>\n      <td>Data thinking</td>\n      <td>Data thinking is a buzzword for the generic \"m...</td>\n    </tr>\n    <tr>\n      <th>8</th>\n      <td>Document processing</td>\n      <td>Document processing is a field of research and...</td>\n    </tr>\n    <tr>\n      <th>9</th>\n      <td>Equifax Workforce Solutions</td>\n      <td>Equifax Workforce Solutions, formerly known as...</td>\n    </tr>\n    <tr>\n      <th>10</th>\n      <td>Game analytics</td>\n      <td>Game analytics is the form of behavioral analy...</td>\n    </tr>\n    <tr>\n      <th>11</th>\n      <td>Inference attack</td>\n      <td>An Inference Attack is a data mining technique...</td>\n    </tr>\n    <tr>\n      <th>12</th>\n      <td>Path analysis (computing)</td>\n      <td>Path analysis, is the analysis of a path, whic...</td>\n    </tr>\n    <tr>\n      <th>13</th>\n      <td>Automatic number-plate recognition in the Unit...</td>\n      <td>Automatic number-plate recognition (ANPR; see ...</td>\n    </tr>\n    <tr>\n      <th>14</th>\n      <td>PRODIGAL (computer system)</td>\n      <td>PRODIGAL (proactive discovery of insider threa...</td>\n    </tr>\n    <tr>\n      <th>15</th>\n      <td>Text mining</td>\n      <td>Text mining, also referred to as text data min...</td>\n    </tr>\n    <tr>\n      <th>16</th>\n      <td>Zapaday</td>\n      <td>Zapaday is a global news calendar. The website...</td>\n    </tr>\n  </tbody>\n</table>\n</div>"
     },
     "execution_count": 3,
     "metadata": {},
     "output_type": "execute_result"
    }
   ],
   "source": [
    "df = pd.read_csv('applications_of_DM.csv')\n",
    "df"
   ],
   "metadata": {
    "collapsed": false,
    "pycharm": {
     "name": "#%%\n"
    }
   }
  },
  {
   "cell_type": "markdown",
   "source": [
    "b) Process and tokenize the text data: lowercase all words, remove digits, punctuation, any special characters and NLTK’s common English stopwords. List $10$ most frequent $n$-grams, $n = 1, 2, 3,$ and their raw counts. Then, convert $1700$ most frequent $n$-grams, across all $n$-values, into numerical matrices, i.e., features $X_\\mathrm{raw},X_\\mathrm{tf-idf} \\in \\mathbb{R}^{docs \\times terms}$. Features $X_\\mathrm{raw}$ are raw $n$-gram counts, $X_\\mathrm{tf-idf}$ are tf-idf values (see the specific format below)."
   ],
   "metadata": {
    "collapsed": false,
    "pycharm": {
     "name": "#%% md\n"
    }
   }
  },
  {
   "cell_type": "code",
   "execution_count": 4,
   "outputs": [],
   "source": [
    "def process_text(text: str) -> list[str]:\n",
    "    \"\"\"Removes special characters and numbers from a given text and returns a list of words of that text in lower case, removing common english stopwords.\n",
    "\n",
    "    :param text: the raw text to be processed\n",
    "    :return: a list of words in the original text with no special characters, numbers and common english stopwords in lower case.\n",
    "    \"\"\"\n",
    "    # remove special characters and numbers\n",
    "    text = re.sub(r'[^a-zA-Z]', ' ', text.lower())\n",
    "    words = text.split()\n",
    "    # filter out common english stopwords and return list\n",
    "    return [word for word in words if word not in stopwords.words('english')]"
   ],
   "metadata": {
    "collapsed": false,
    "pycharm": {
     "name": "#%%\n"
    }
   }
  },
  {
   "cell_type": "code",
   "execution_count": 5,
   "outputs": [
    {
     "data": {
      "text/plain": "                                                title  \\\n0                Anomaly Detection at Multiple Scales   \n1                                Behavioral analytics   \n2                                  Business analytics   \n3                             CORE (research service)   \n4                                  Daisy Intelligence   \n5                                        Data Applied   \n6                          Data mining in agriculture   \n7                                       Data thinking   \n8                                 Document processing   \n9                         Equifax Workforce Solutions   \n10                                     Game analytics   \n11                                   Inference attack   \n12                          Path analysis (computing)   \n13  Automatic number-plate recognition in the Unit...   \n14                         PRODIGAL (computer system)   \n15                                        Text mining   \n16                                            Zapaday   \n\n                                                 text  \\\n0   Anomaly Detection at Multiple Scales, or ADAMS...   \n1   Behaviorism is a systematic approach to unders...   \n2   Business analysis is a professional discipline...   \n3   CORE (Connecting Repositories) is a service pr...   \n4   Daisy Intelligence is a Canadian Artificial In...   \n5   Data Applied is a software vendor headquartere...   \n6   Data mining in agriculture is a recent researc...   \n7   Data thinking is a buzzword for the generic \"m...   \n8   Document processing is a field of research and...   \n9   Equifax Workforce Solutions, formerly known as...   \n10  Game analytics is the form of behavioral analy...   \n11  An Inference Attack is a data mining technique...   \n12  Path analysis, is the analysis of a path, whic...   \n13  Automatic number-plate recognition (ANPR; see ...   \n14  PRODIGAL (proactive discovery of insider threa...   \n15  Text mining, also referred to as text data min...   \n16  Zapaday is a global news calendar. The website...   \n\n                                        filtered_text  \n0   [anomaly, detection, multiple, scales, adams, ...  \n1   [behaviorism, systematic, approach, understand...  \n2   [business, analysis, professional, discipline,...  \n3   [core, connecting, repositories, service, prov...  \n4   [daisy, intelligence, canadian, artificial, in...  \n5   [data, applied, software, vendor, headquartere...  \n6   [data, mining, agriculture, recent, research, ...  \n7   [data, thinking, buzzword, generic, mental, pa...  \n8   [document, processing, field, research, set, p...  \n9   [equifax, workforce, solutions, formerly, know...  \n10  [game, analytics, form, behavioral, analytics,...  \n11  [inference, attack, data, mining, technique, p...  \n12  [path, analysis, analysis, path, portrayal, ch...  \n13  [automatic, number, plate, recognition, anpr, ...  \n14  [prodigal, proactive, discovery, insider, thre...  \n15  [text, mining, also, referred, text, data, min...  \n16  [zapaday, global, news, calendar, website, pub...  ",
      "text/html": "<div>\n<style scoped>\n    .dataframe tbody tr th:only-of-type {\n        vertical-align: middle;\n    }\n\n    .dataframe tbody tr th {\n        vertical-align: top;\n    }\n\n    .dataframe thead th {\n        text-align: right;\n    }\n</style>\n<table border=\"1\" class=\"dataframe\">\n  <thead>\n    <tr style=\"text-align: right;\">\n      <th></th>\n      <th>title</th>\n      <th>text</th>\n      <th>filtered_text</th>\n    </tr>\n  </thead>\n  <tbody>\n    <tr>\n      <th>0</th>\n      <td>Anomaly Detection at Multiple Scales</td>\n      <td>Anomaly Detection at Multiple Scales, or ADAMS...</td>\n      <td>[anomaly, detection, multiple, scales, adams, ...</td>\n    </tr>\n    <tr>\n      <th>1</th>\n      <td>Behavioral analytics</td>\n      <td>Behaviorism is a systematic approach to unders...</td>\n      <td>[behaviorism, systematic, approach, understand...</td>\n    </tr>\n    <tr>\n      <th>2</th>\n      <td>Business analytics</td>\n      <td>Business analysis is a professional discipline...</td>\n      <td>[business, analysis, professional, discipline,...</td>\n    </tr>\n    <tr>\n      <th>3</th>\n      <td>CORE (research service)</td>\n      <td>CORE (Connecting Repositories) is a service pr...</td>\n      <td>[core, connecting, repositories, service, prov...</td>\n    </tr>\n    <tr>\n      <th>4</th>\n      <td>Daisy Intelligence</td>\n      <td>Daisy Intelligence is a Canadian Artificial In...</td>\n      <td>[daisy, intelligence, canadian, artificial, in...</td>\n    </tr>\n    <tr>\n      <th>5</th>\n      <td>Data Applied</td>\n      <td>Data Applied is a software vendor headquartere...</td>\n      <td>[data, applied, software, vendor, headquartere...</td>\n    </tr>\n    <tr>\n      <th>6</th>\n      <td>Data mining in agriculture</td>\n      <td>Data mining in agriculture is a recent researc...</td>\n      <td>[data, mining, agriculture, recent, research, ...</td>\n    </tr>\n    <tr>\n      <th>7</th>\n      <td>Data thinking</td>\n      <td>Data thinking is a buzzword for the generic \"m...</td>\n      <td>[data, thinking, buzzword, generic, mental, pa...</td>\n    </tr>\n    <tr>\n      <th>8</th>\n      <td>Document processing</td>\n      <td>Document processing is a field of research and...</td>\n      <td>[document, processing, field, research, set, p...</td>\n    </tr>\n    <tr>\n      <th>9</th>\n      <td>Equifax Workforce Solutions</td>\n      <td>Equifax Workforce Solutions, formerly known as...</td>\n      <td>[equifax, workforce, solutions, formerly, know...</td>\n    </tr>\n    <tr>\n      <th>10</th>\n      <td>Game analytics</td>\n      <td>Game analytics is the form of behavioral analy...</td>\n      <td>[game, analytics, form, behavioral, analytics,...</td>\n    </tr>\n    <tr>\n      <th>11</th>\n      <td>Inference attack</td>\n      <td>An Inference Attack is a data mining technique...</td>\n      <td>[inference, attack, data, mining, technique, p...</td>\n    </tr>\n    <tr>\n      <th>12</th>\n      <td>Path analysis (computing)</td>\n      <td>Path analysis, is the analysis of a path, whic...</td>\n      <td>[path, analysis, analysis, path, portrayal, ch...</td>\n    </tr>\n    <tr>\n      <th>13</th>\n      <td>Automatic number-plate recognition in the Unit...</td>\n      <td>Automatic number-plate recognition (ANPR; see ...</td>\n      <td>[automatic, number, plate, recognition, anpr, ...</td>\n    </tr>\n    <tr>\n      <th>14</th>\n      <td>PRODIGAL (computer system)</td>\n      <td>PRODIGAL (proactive discovery of insider threa...</td>\n      <td>[prodigal, proactive, discovery, insider, thre...</td>\n    </tr>\n    <tr>\n      <th>15</th>\n      <td>Text mining</td>\n      <td>Text mining, also referred to as text data min...</td>\n      <td>[text, mining, also, referred, text, data, min...</td>\n    </tr>\n    <tr>\n      <th>16</th>\n      <td>Zapaday</td>\n      <td>Zapaday is a global news calendar. The website...</td>\n      <td>[zapaday, global, news, calendar, website, pub...</td>\n    </tr>\n  </tbody>\n</table>\n</div>"
     },
     "execution_count": 5,
     "metadata": {},
     "output_type": "execute_result"
    }
   ],
   "source": [
    "df['filtered_text'] = df['text'].map(process_text)\n",
    "df"
   ],
   "metadata": {
    "collapsed": false,
    "pycharm": {
     "name": "#%%\n"
    }
   }
  },
  {
   "cell_type": "code",
   "execution_count": 6,
   "outputs": [],
   "source": [
    "def make_ngram(corpus: list[str], n: int) -> Dict[Tuple[str, ...], int]:\n",
    "    \"\"\"Creates a frequency-list of specified n-grams in the given corpus\n",
    "\n",
    "    :param corpus: Ordered list of words in the corpus\n",
    "    :param n: number of elements in n-gram creation\n",
    "    :return: dictionary with keys being unique n-grams and values being the frequencies of them\n",
    "    \"\"\"\n",
    "    grams = list(ngrams(corpus, n))\n",
    "    return {i:grams.count(i) for i in set(grams)}"
   ],
   "metadata": {
    "collapsed": false,
    "pycharm": {
     "name": "#%%\n"
    }
   }
  },
  {
   "cell_type": "code",
   "execution_count": 7,
   "outputs": [
    {
     "data": {
      "text/plain": "                                                title  \\\n0                Anomaly Detection at Multiple Scales   \n1                                Behavioral analytics   \n2                                  Business analytics   \n3                             CORE (research service)   \n4                                  Daisy Intelligence   \n5                                        Data Applied   \n6                          Data mining in agriculture   \n7                                       Data thinking   \n8                                 Document processing   \n9                         Equifax Workforce Solutions   \n10                                     Game analytics   \n11                                   Inference attack   \n12                          Path analysis (computing)   \n13  Automatic number-plate recognition in the Unit...   \n14                         PRODIGAL (computer system)   \n15                                        Text mining   \n16                                            Zapaday   \n\n                                                 text  \\\n0   Anomaly Detection at Multiple Scales, or ADAMS...   \n1   Behaviorism is a systematic approach to unders...   \n2   Business analysis is a professional discipline...   \n3   CORE (Connecting Repositories) is a service pr...   \n4   Daisy Intelligence is a Canadian Artificial In...   \n5   Data Applied is a software vendor headquartere...   \n6   Data mining in agriculture is a recent researc...   \n7   Data thinking is a buzzword for the generic \"m...   \n8   Document processing is a field of research and...   \n9   Equifax Workforce Solutions, formerly known as...   \n10  Game analytics is the form of behavioral analy...   \n11  An Inference Attack is a data mining technique...   \n12  Path analysis, is the analysis of a path, whic...   \n13  Automatic number-plate recognition (ANPR; see ...   \n14  PRODIGAL (proactive discovery of insider threa...   \n15  Text mining, also referred to as text data min...   \n16  Zapaday is a global news calendar. The website...   \n\n                                        filtered_text  \\\n0   [anomaly, detection, multiple, scales, adams, ...   \n1   [behaviorism, systematic, approach, understand...   \n2   [business, analysis, professional, discipline,...   \n3   [core, connecting, repositories, service, prov...   \n4   [daisy, intelligence, canadian, artificial, in...   \n5   [data, applied, software, vendor, headquartere...   \n6   [data, mining, agriculture, recent, research, ...   \n7   [data, thinking, buzzword, generic, mental, pa...   \n8   [document, processing, field, research, set, p...   \n9   [equifax, workforce, solutions, formerly, know...   \n10  [game, analytics, form, behavioral, analytics,...   \n11  [inference, attack, data, mining, technique, p...   \n12  [path, analysis, analysis, path, portrayal, ch...   \n13  [automatic, number, plate, recognition, anpr, ...   \n14  [prodigal, proactive, discovery, insider, thre...   \n15  [text, mining, also, referred, text, data, min...   \n16  [zapaday, global, news, calendar, website, pub...   \n\n                                             unigrams  \\\n0   {('may',): 1, ('insider',): 4, ('wikileaks',):...   \n1   {('verification',): 1, ('early',): 9, ('instru...   \n2   {('outsourced',): 1, ('transformation',): 2, (...   \n3   {('monitor',): 2, ('ideas',): 1, ('base',): 1,...   \n4   {('helps',): 1, ('east',): 1, ('ranked',): 1, ...   \n5   {('headquartered',): 1, ('microsoft',): 1, ('s...   \n6   {('early',): 2, ('practices',): 1, ('monitor',...   \n7   {('concrete',): 2, ('proofed',): 1, ('transfor...   \n8   {('volumes',): 1, ('automation',): 2, ('nap',)...   \n9   {('verification',): 2, ('submitted',): 2, ('ea...   \n10  {('track',): 1, ('events',): 1, ('regards',): ...   \n11  {('highly',): 1, ('inputs',): 1, ('e',): 2, ('...   \n12  {('concrete',): 1, ('percentage',): 1, ('items...   \n13  {('verification',): 1, ('early',): 4, ('outbou...   \n14  {('may',): 1, ('insider',): 2, ('wikileaks',):...   \n15  {('contained',): 2, ('librarian',): 1, ('recen...   \n16  {('monitor',): 1, ('scientists',): 1, ('foreig...   \n\n                                              bigrams  \\\n0   {('darpa', 'information'): 1, ('employee', 'ab...   \n1   {('observer', 'recalls'): 1, ('concept', 'mind...   \n2   {('describes', 'character'): 1, ('costs', 'div...   \n3   {('overtaken', 'internet'): 1, ('million', 'co...   \n4   {('supermarkets', 'determine'): 1, ('fraudulen...   \n5   {('headquartered', 'washington'): 1, ('maps', ...   \n6   {('allow', 'farmer'): 1, ('pesticide', 'use'):...   \n7   {('driven', 'transformation'): 1, ('approach',...   \n8   {('scanners', 'must'): 1, ('broadly', 'transcr...   \n9   {('talx', 'business'): 1, ('revenue', 'profit'...   \n10  {('need', 'redesign'): 1, ('redesign', 'aim'):...   \n11  {('party', 'apps'): 1, ('many', 'mobile'): 1, ...   \n12  {('fell', 'broad'): 1, ('following', 'path'): ...   \n13  {('misidentification', 'high'): 1, ('footage',...   \n14  {('behavior', 'among'): 1, ('behavior', 'syste...   \n15  {('publicly', 'funded'): 1, ('three', 'differe...   \n16  {('news', 'calendars'): 2, ('renewed', 'anp'):...   \n\n                                             trigrams  \n0   {('insider', 'becoming', 'malicious'): 1, ('us...  \n1   {('used', 'desired', 'actions'): 1, ('explains...  \n2   {('done', 'well', 'e'): 1, ('forward', 'tactic...  \n3   {('sustainability', 'model', 'core'): 1, ('ava...  \n4   {('company', 'moved', 'suburban'): 1, ('canadi...  \n5   {('forecasting', 'correlation', 'analysis'): 1...  \n6   {('birth', 'type', 'platform'): 1, ('conveyor'...  \n7   {('rogerio', 'panigassi', 'writing'): 1, ('com...  \n8   {('character', 'recognition', 'ocr'): 2, ('pro...  \n9   {('service', 'work', 'number'): 2, ('known', '...  \n10  {('analytics', 'form', 'behavioral'): 1, ('met...  \n11  {('user', 'permission', 'many'): 1, ('gain', '...  \n12  {('path', 'analysis', 'able'): 1, ('many', 'vi...  \n13  {('alpr', 'automatic', 'license'): 1, ('steady...  \n14  {('uses', 'graph', 'theory'): 1, ('us', 'cert'...  \n15  {('mining', 'nactem', 'first'): 1, ('practice'...  \n16  {('relation', 'professionals', 'scientists'): ...  ",
      "text/html": "<div>\n<style scoped>\n    .dataframe tbody tr th:only-of-type {\n        vertical-align: middle;\n    }\n\n    .dataframe tbody tr th {\n        vertical-align: top;\n    }\n\n    .dataframe thead th {\n        text-align: right;\n    }\n</style>\n<table border=\"1\" class=\"dataframe\">\n  <thead>\n    <tr style=\"text-align: right;\">\n      <th></th>\n      <th>title</th>\n      <th>text</th>\n      <th>filtered_text</th>\n      <th>unigrams</th>\n      <th>bigrams</th>\n      <th>trigrams</th>\n    </tr>\n  </thead>\n  <tbody>\n    <tr>\n      <th>0</th>\n      <td>Anomaly Detection at Multiple Scales</td>\n      <td>Anomaly Detection at Multiple Scales, or ADAMS...</td>\n      <td>[anomaly, detection, multiple, scales, adams, ...</td>\n      <td>{('may',): 1, ('insider',): 4, ('wikileaks',):...</td>\n      <td>{('darpa', 'information'): 1, ('employee', 'ab...</td>\n      <td>{('insider', 'becoming', 'malicious'): 1, ('us...</td>\n    </tr>\n    <tr>\n      <th>1</th>\n      <td>Behavioral analytics</td>\n      <td>Behaviorism is a systematic approach to unders...</td>\n      <td>[behaviorism, systematic, approach, understand...</td>\n      <td>{('verification',): 1, ('early',): 9, ('instru...</td>\n      <td>{('observer', 'recalls'): 1, ('concept', 'mind...</td>\n      <td>{('used', 'desired', 'actions'): 1, ('explains...</td>\n    </tr>\n    <tr>\n      <th>2</th>\n      <td>Business analytics</td>\n      <td>Business analysis is a professional discipline...</td>\n      <td>[business, analysis, professional, discipline,...</td>\n      <td>{('outsourced',): 1, ('transformation',): 2, (...</td>\n      <td>{('describes', 'character'): 1, ('costs', 'div...</td>\n      <td>{('done', 'well', 'e'): 1, ('forward', 'tactic...</td>\n    </tr>\n    <tr>\n      <th>3</th>\n      <td>CORE (research service)</td>\n      <td>CORE (Connecting Repositories) is a service pr...</td>\n      <td>[core, connecting, repositories, service, prov...</td>\n      <td>{('monitor',): 2, ('ideas',): 1, ('base',): 1,...</td>\n      <td>{('overtaken', 'internet'): 1, ('million', 'co...</td>\n      <td>{('sustainability', 'model', 'core'): 1, ('ava...</td>\n    </tr>\n    <tr>\n      <th>4</th>\n      <td>Daisy Intelligence</td>\n      <td>Daisy Intelligence is a Canadian Artificial In...</td>\n      <td>[daisy, intelligence, canadian, artificial, in...</td>\n      <td>{('helps',): 1, ('east',): 1, ('ranked',): 1, ...</td>\n      <td>{('supermarkets', 'determine'): 1, ('fraudulen...</td>\n      <td>{('company', 'moved', 'suburban'): 1, ('canadi...</td>\n    </tr>\n    <tr>\n      <th>5</th>\n      <td>Data Applied</td>\n      <td>Data Applied is a software vendor headquartere...</td>\n      <td>[data, applied, software, vendor, headquartere...</td>\n      <td>{('headquartered',): 1, ('microsoft',): 1, ('s...</td>\n      <td>{('headquartered', 'washington'): 1, ('maps', ...</td>\n      <td>{('forecasting', 'correlation', 'analysis'): 1...</td>\n    </tr>\n    <tr>\n      <th>6</th>\n      <td>Data mining in agriculture</td>\n      <td>Data mining in agriculture is a recent researc...</td>\n      <td>[data, mining, agriculture, recent, research, ...</td>\n      <td>{('early',): 2, ('practices',): 1, ('monitor',...</td>\n      <td>{('allow', 'farmer'): 1, ('pesticide', 'use'):...</td>\n      <td>{('birth', 'type', 'platform'): 1, ('conveyor'...</td>\n    </tr>\n    <tr>\n      <th>7</th>\n      <td>Data thinking</td>\n      <td>Data thinking is a buzzword for the generic \"m...</td>\n      <td>[data, thinking, buzzword, generic, mental, pa...</td>\n      <td>{('concrete',): 2, ('proofed',): 1, ('transfor...</td>\n      <td>{('driven', 'transformation'): 1, ('approach',...</td>\n      <td>{('rogerio', 'panigassi', 'writing'): 1, ('com...</td>\n    </tr>\n    <tr>\n      <th>8</th>\n      <td>Document processing</td>\n      <td>Document processing is a field of research and...</td>\n      <td>[document, processing, field, research, set, p...</td>\n      <td>{('volumes',): 1, ('automation',): 2, ('nap',)...</td>\n      <td>{('scanners', 'must'): 1, ('broadly', 'transcr...</td>\n      <td>{('character', 'recognition', 'ocr'): 2, ('pro...</td>\n    </tr>\n    <tr>\n      <th>9</th>\n      <td>Equifax Workforce Solutions</td>\n      <td>Equifax Workforce Solutions, formerly known as...</td>\n      <td>[equifax, workforce, solutions, formerly, know...</td>\n      <td>{('verification',): 2, ('submitted',): 2, ('ea...</td>\n      <td>{('talx', 'business'): 1, ('revenue', 'profit'...</td>\n      <td>{('service', 'work', 'number'): 2, ('known', '...</td>\n    </tr>\n    <tr>\n      <th>10</th>\n      <td>Game analytics</td>\n      <td>Game analytics is the form of behavioral analy...</td>\n      <td>[game, analytics, form, behavioral, analytics,...</td>\n      <td>{('track',): 1, ('events',): 1, ('regards',): ...</td>\n      <td>{('need', 'redesign'): 1, ('redesign', 'aim'):...</td>\n      <td>{('analytics', 'form', 'behavioral'): 1, ('met...</td>\n    </tr>\n    <tr>\n      <th>11</th>\n      <td>Inference attack</td>\n      <td>An Inference Attack is a data mining technique...</td>\n      <td>[inference, attack, data, mining, technique, p...</td>\n      <td>{('highly',): 1, ('inputs',): 1, ('e',): 2, ('...</td>\n      <td>{('party', 'apps'): 1, ('many', 'mobile'): 1, ...</td>\n      <td>{('user', 'permission', 'many'): 1, ('gain', '...</td>\n    </tr>\n    <tr>\n      <th>12</th>\n      <td>Path analysis (computing)</td>\n      <td>Path analysis, is the analysis of a path, whic...</td>\n      <td>[path, analysis, analysis, path, portrayal, ch...</td>\n      <td>{('concrete',): 1, ('percentage',): 1, ('items...</td>\n      <td>{('fell', 'broad'): 1, ('following', 'path'): ...</td>\n      <td>{('path', 'analysis', 'able'): 1, ('many', 'vi...</td>\n    </tr>\n    <tr>\n      <th>13</th>\n      <td>Automatic number-plate recognition in the Unit...</td>\n      <td>Automatic number-plate recognition (ANPR; see ...</td>\n      <td>[automatic, number, plate, recognition, anpr, ...</td>\n      <td>{('verification',): 1, ('early',): 4, ('outbou...</td>\n      <td>{('misidentification', 'high'): 1, ('footage',...</td>\n      <td>{('alpr', 'automatic', 'license'): 1, ('steady...</td>\n    </tr>\n    <tr>\n      <th>14</th>\n      <td>PRODIGAL (computer system)</td>\n      <td>PRODIGAL (proactive discovery of insider threa...</td>\n      <td>[prodigal, proactive, discovery, insider, thre...</td>\n      <td>{('may',): 1, ('insider',): 2, ('wikileaks',):...</td>\n      <td>{('behavior', 'among'): 1, ('behavior', 'syste...</td>\n      <td>{('uses', 'graph', 'theory'): 1, ('us', 'cert'...</td>\n    </tr>\n    <tr>\n      <th>15</th>\n      <td>Text mining</td>\n      <td>Text mining, also referred to as text data min...</td>\n      <td>[text, mining, also, referred, text, data, min...</td>\n      <td>{('contained',): 2, ('librarian',): 1, ('recen...</td>\n      <td>{('publicly', 'funded'): 1, ('three', 'differe...</td>\n      <td>{('mining', 'nactem', 'first'): 1, ('practice'...</td>\n    </tr>\n    <tr>\n      <th>16</th>\n      <td>Zapaday</td>\n      <td>Zapaday is a global news calendar. The website...</td>\n      <td>[zapaday, global, news, calendar, website, pub...</td>\n      <td>{('monitor',): 1, ('scientists',): 1, ('foreig...</td>\n      <td>{('news', 'calendars'): 2, ('renewed', 'anp'):...</td>\n      <td>{('relation', 'professionals', 'scientists'): ...</td>\n    </tr>\n  </tbody>\n</table>\n</div>"
     },
     "execution_count": 7,
     "metadata": {},
     "output_type": "execute_result"
    }
   ],
   "source": [
    "df['unigrams'] = df['filtered_text'].map(lambda x: make_ngram(x, n=1))\n",
    "df['bigrams'] = df['filtered_text'].map(lambda x: make_ngram(x, n=2))\n",
    "df['trigrams'] = df['filtered_text'].map(lambda x: make_ngram(x, n=3))\n",
    "df"
   ],
   "metadata": {
    "collapsed": false,
    "pycharm": {
     "name": "#%%\n"
    }
   }
  },
  {
   "cell_type": "code",
   "execution_count": 8,
   "outputs": [],
   "source": [
    "def merge_frequency_dictionaries(first: Dict[Tuple[str, ...], int], second: Dict[Tuple[str, ...], int]) -> Dict[Tuple[str, ...], int]:\n",
    "    \"\"\"Merges two dictionaries of frequencies\n",
    "\n",
    "    :param first: first dictionary containing frequencies\n",
    "    :param second: second dictionary containing frequencies\n",
    "    :return: a merged dictionary\n",
    "    \"\"\"\n",
    "    res = {}\n",
    "    for key, value in first.items():\n",
    "        res[key] = value\n",
    "    for key, value in second.items():\n",
    "        if key in res:\n",
    "            res[key] += value\n",
    "        else:\n",
    "            res[key] = value\n",
    "    return res"
   ],
   "metadata": {
    "collapsed": false,
    "pycharm": {
     "name": "#%%\n"
    }
   }
  },
  {
   "cell_type": "code",
   "execution_count": 9,
   "outputs": [],
   "source": [
    "def combine(series):\n",
    "    \"\"\" Combines a list of dictionaries into a single dictionary\n",
    "\n",
    "    :param series: a list of dictionaries\n",
    "    :return: a single dictionary\n",
    "    \"\"\"\n",
    "    return reduce(lambda x,y: merge_frequency_dictionaries(x,y), series)"
   ],
   "metadata": {
    "collapsed": false,
    "pycharm": {
     "name": "#%%\n"
    }
   }
  },
  {
   "cell_type": "code",
   "execution_count": 10,
   "outputs": [],
   "source": [
    "def get_most_frequent(grams: pd.Series, n: int) -> list[Tuple[int, Tuple[str, ...]]]:\n",
    "    \"\"\" Returns the n most frequent n-grams\n",
    "\n",
    "    :param grams: a list of dictionaries\n",
    "    :param n: the number of n-grams to return\n",
    "    :return: a list of tuples containing the frequency and the n-gram\n",
    "    \"\"\"\n",
    "    combined_grams = grams.aggregate(combine)\n",
    "    return sorted([(v, k) for k, v in combined_grams.items()], reverse=True)[:n]"
   ],
   "metadata": {
    "collapsed": false,
    "pycharm": {
     "name": "#%%\n"
    }
   }
  },
  {
   "cell_type": "code",
   "execution_count": 11,
   "outputs": [
    {
     "data": {
      "text/plain": "[(160, ('behavior',)),\n (156, ('analysis',)),\n (150, ('data',)),\n (148, ('business',)),\n (103, ('also',)),\n (102, ('text',)),\n (86, ('anpr',)),\n (85, ('use',)),\n (84, ('used',)),\n (84, ('plate',))]"
     },
     "execution_count": 11,
     "metadata": {},
     "output_type": "execute_result"
    }
   ],
   "source": [
    "get_most_frequent(df['unigrams'], 10)"
   ],
   "metadata": {
    "collapsed": false,
    "pycharm": {
     "name": "#%%\n"
    }
   }
  },
  {
   "cell_type": "code",
   "execution_count": 12,
   "outputs": [
    {
     "data": {
      "text/plain": "[(43, ('text', 'mining')),\n (43, ('license', 'plate')),\n (33, ('business', 'analysis')),\n (22, ('data', 'mining')),\n (20, ('open', 'access')),\n (19, ('document', 'processing')),\n (17, ('business', 'analysts')),\n (17, ('anpr', 'systems')),\n (16, ('radical', 'behaviorism')),\n (16, ('behavior', 'analysis'))]"
     },
     "execution_count": 12,
     "metadata": {},
     "output_type": "execute_result"
    }
   ],
   "source": [
    "get_most_frequent(df['bigrams'], 10)\n"
   ],
   "metadata": {
    "collapsed": false,
    "pycharm": {
     "name": "#%%\n"
    }
   }
  },
  {
   "cell_type": "code",
   "execution_count": 13,
   "outputs": [
    {
     "data": {
      "text/plain": "[(8, ('number', 'plate', 'recognition')),\n (7, ('b', 'f', 'skinner')),\n (7, ('automatic', 'number', 'plate')),\n (6, ('optical', 'character', 'recognition')),\n (6, ('license', 'plate', 'capture')),\n (6, ('average', 'speed', 'cameras')),\n (5, ('text', 'data', 'mining')),\n (5, ('open', 'access', 'content')),\n (5, ('natural', 'language', 'processing')),\n (4, ('text', 'mining', 'software'))]"
     },
     "execution_count": 13,
     "metadata": {},
     "output_type": "execute_result"
    }
   ],
   "source": [
    "get_most_frequent(df['trigrams'], 10)\n"
   ],
   "metadata": {
    "collapsed": false,
    "pycharm": {
     "name": "#%%\n"
    }
   }
  },
  {
   "cell_type": "code",
   "execution_count": 16,
   "outputs": [],
   "source": [
    "def get_count_matrix(ngram: str) -> pd.DataFrame:\n",
    "    \"\"\"Returns a raw count matrix for the given n-gram.\n",
    "\n",
    "    The matrix should contain the n most frequent n-grams as columns and the titles as rows.\n",
    "\n",
    "    :param ngram: the n-gram to use. Can be 'unigram', 'bigram', or 'trigram'\n",
    "    :return: a count matrix. The columns are the n-grams, the rows are the titles.\n",
    "    \"\"\"\n",
    "    assert ngram in ['unigrams', 'bigrams', 'trigrams']\n",
    "    mfw = get_most_frequent(df[ngram], 1700)\n",
    "    arr = np.zeros([17, 1700])\n",
    "    for doc_idx, doc in df.iterrows():\n",
    "        mfw_doc = doc[ngram]\n",
    "        words_ls = []\n",
    "        for w_idx, (_, words) in enumerate(mfw):\n",
    "            words_ls.append(words)\n",
    "            count = mfw_doc[words] if words in mfw_doc else 0\n",
    "            arr[doc_idx][w_idx] = count\n",
    "    return pd.DataFrame(arr, columns=words_ls, index=df['title'])"
   ],
   "metadata": {
    "collapsed": false,
    "pycharm": {
     "name": "#%%\n"
    }
   }
  },
  {
   "cell_type": "code",
   "execution_count": 19,
   "outputs": [],
   "source": [
    "X_raw = get_count_matrix(\"unigrams\")"
   ],
   "metadata": {
    "collapsed": false,
    "pycharm": {
     "name": "#%%\n"
    }
   }
  },
  {
   "cell_type": "code",
   "execution_count": 49,
   "outputs": [],
   "source": [
    "def tf(term: Tuple[str, ...], document: str, X_raw: pd.DataFrame, all_data: pd.DataFrame, ngram: str) -> float:\n",
    "    assert ngram in ['unigrams', 'bigrams', 'trigrams']\n",
    "    numerator = X_raw.loc[document][term]\n",
    "    terms: dict = all_data.loc[all_data['title'] == document][ngram].values[0]\n",
    "    denominator = len(terms)\n",
    "    return numerator/denominator"
   ],
   "metadata": {
    "collapsed": false,
    "pycharm": {
     "name": "#%%\n"
    }
   }
  },
  {
   "cell_type": "code",
   "execution_count": 47,
   "outputs": [],
   "source": [
    "def idf(term: Tuple[str, ...], all_data: pd.DataFrame, ngram: str) -> float:\n",
    "    assert ngram in ['unigrams', 'bigrams', 'trigrams']\n",
    "    total_documents = all_data.shape[0]\n",
    "    has_term = all_data[ngram].map(lambda x: 1 if term in x else 0)\n",
    "    docs_with_term = has_term.aggregate(sum)\n",
    "    return np.log(total_documents/(docs_with_term + 1) + 1)"
   ],
   "metadata": {
    "collapsed": false,
    "pycharm": {
     "name": "#%%\n"
    }
   }
  },
  {
   "cell_type": "code",
   "execution_count": 48,
   "outputs": [
    {
     "data": {
      "text/plain": "1.3437347467010947"
     },
     "execution_count": 48,
     "metadata": {},
     "output_type": "execute_result"
    }
   ],
   "source": [
    "def tf_idf(tf: float, idf: float) -> float:\n",
    "    return (1 + np.log(tf)) * idf"
   ],
   "metadata": {
    "collapsed": false,
    "pycharm": {
     "name": "#%%\n"
    }
   }
  },
  {
   "cell_type": "code",
   "execution_count": null,
   "outputs": [],
   "source": [],
   "metadata": {
    "collapsed": false,
    "pycharm": {
     "name": "#%%\n"
    }
   }
  },
  {
   "cell_type": "markdown",
   "source": [
    "c) Using SVD, decompose and truncate your numerical features $X = U \\Sigma V^\\top$ into ($docs \\times topics$) and ($topics \\times terms$) matrices (left/right singular vectors, respectively) using $6$ topics. List $5$ most significant $n$-grams for each topic, measured by values of the ($topics \\times terms$) matrix. Do this for both features $X_\\mathrm{raw}$ and $X_\\mathrm{tf-idf}$."
   ],
   "metadata": {
    "collapsed": false,
    "pycharm": {
     "name": "#%% md\n"
    }
   }
  },
  {
   "cell_type": "code",
   "execution_count": 15,
   "outputs": [],
   "source": [],
   "metadata": {
    "collapsed": false,
    "pycharm": {
     "name": "#%%\n"
    }
   }
  },
  {
   "cell_type": "markdown",
   "source": [
    "d) Compare and comment the results with respect to the selection of features and the $n$ value in $n$-grams."
   ],
   "metadata": {
    "collapsed": false,
    "pycharm": {
     "name": "#%% md\n"
    }
   }
  },
  {
   "cell_type": "code",
   "execution_count": 15,
   "outputs": [],
   "source": [],
   "metadata": {
    "collapsed": false,
    "pycharm": {
     "name": "#%%\n"
    }
   }
  },
  {
   "cell_type": "markdown",
   "source": [
    "**The format of tf-idf you need to use:**\n",
    "\n",
    "$$ f(tf, idf) = (1 + \\ln (tf)) \\cdot idf $$\n",
    "\n",
    "where:\n",
    "\n",
    "$$ tf = \\frac{number\\ of\\ times\\ term\\ w\\ appears\\ in\\ a\\ document}{total\\ number\\ of\\ terms\\ in\\ that\\ document} $$\n",
    "\n",
    "and\n",
    "\n",
    "$$ idf = \\ln(\\frac{total\\ number\\ of\\ documents}{number\\ of\\ documents\\ with\\ term\\ w\\ in\\ them + 1} + 1) $$"
   ],
   "metadata": {
    "collapsed": false,
    "pycharm": {
     "name": "#%% md\n"
    }
   }
  },
  {
   "cell_type": "code",
   "execution_count": 15,
   "outputs": [],
   "source": [],
   "metadata": {
    "collapsed": false,
    "pycharm": {
     "name": "#%%\n"
    }
   }
  }
 ],
 "metadata": {
  "kernelspec": {
   "display_name": "Python 3",
   "language": "python",
   "name": "python3"
  },
  "language_info": {
   "codemirror_mode": {
    "name": "ipython",
    "version": 2
   },
   "file_extension": ".py",
   "mimetype": "text/x-python",
   "name": "python",
   "nbconvert_exporter": "python",
   "pygments_lexer": "ipython2",
   "version": "2.7.6"
  }
 },
 "nbformat": 4,
 "nbformat_minor": 0
}