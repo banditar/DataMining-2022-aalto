{
 "cells": [
  {
   "cell_type": "markdown",
   "source": [
    "# Topic modeling\n",
    "\n",
    "| Student Name         | Student-ID |\n",
    "|----------------------|------------|\n",
    "| Marco Di Francesco   | 100632815  |\n",
    "| Loreto García Tejada | 100643862  |\n",
    "| György Bence Józsa   | 100633270  |\n",
    "| József-Hunor Jánosi  | 100516724  |\n",
    "| Sara-Jane Bittner    | 100498554  |"
   ],
   "metadata": {
    "collapsed": false,
    "pycharm": {
     "name": "#%% md\n"
    }
   }
  },
  {
   "cell_type": "markdown",
   "source": [
    "_Learning goal: Processing text data, converting it into a numerical format and performing topic analysis using SVD._\n",
    "\n",
    "To complete the assignment you are allowed to use the NLTK natural language toolkit."
   ],
   "metadata": {
    "collapsed": false,
    "pycharm": {
     "name": "#%% md\n"
    }
   }
  },
  {
   "cell_type": "code",
   "execution_count": 2,
   "outputs": [],
   "source": [
    "import re\n",
    "import nltk\n",
    "import pandas as pd\n",
    "from nltk import ngrams\n",
    "from nltk.corpus import stopwords\n",
    "from typing import Union, Tuple, Dict, List"
   ],
   "metadata": {
    "collapsed": false,
    "pycharm": {
     "name": "#%%\n"
    }
   }
  },
  {
   "cell_type": "code",
   "execution_count": 3,
   "outputs": [
    {
     "name": "stderr",
     "output_type": "stream",
     "text": [
      "[nltk_data] Downloading package stopwords to\n",
      "[nltk_data]     C:\\Users\\Gyuri\\AppData\\Roaming\\nltk_data...\n",
      "[nltk_data]   Package stopwords is already up-to-date!\n"
     ]
    },
    {
     "data": {
      "text/plain": "True"
     },
     "execution_count": 3,
     "metadata": {},
     "output_type": "execute_result"
    }
   ],
   "source": [
    "nltk.download('stopwords')"
   ],
   "metadata": {
    "collapsed": false,
    "pycharm": {
     "name": "#%%\n"
    }
   }
  },
  {
   "cell_type": "markdown",
   "source": [
    "a) Load _applications_of_DM.csv_, e.g. with `pandas` in Python. It has titles and text content of Wikipedia articles on data mining. In the following tasks, you are to work with the \"tex\"-attribute."
   ],
   "metadata": {
    "collapsed": false,
    "pycharm": {
     "name": "#%% md\n"
    }
   }
  },
  {
   "cell_type": "code",
   "execution_count": 4,
   "outputs": [
    {
     "data": {
      "text/plain": "                                                title  \\\n0                Anomaly Detection at Multiple Scales   \n1                                Behavioral analytics   \n2                                  Business analytics   \n3                             CORE (research service)   \n4                                  Daisy Intelligence   \n5                                        Data Applied   \n6                          Data mining in agriculture   \n7                                       Data thinking   \n8                                 Document processing   \n9                         Equifax Workforce Solutions   \n10                                     Game analytics   \n11                                   Inference attack   \n12                          Path analysis (computing)   \n13  Automatic number-plate recognition in the Unit...   \n14                         PRODIGAL (computer system)   \n15                                        Text mining   \n16                                            Zapaday   \n\n                                                 text  \n0   Anomaly Detection at Multiple Scales, or ADAMS...  \n1   Behaviorism is a systematic approach to unders...  \n2   Business analysis is a professional discipline...  \n3   CORE (Connecting Repositories) is a service pr...  \n4   Daisy Intelligence is a Canadian Artificial In...  \n5   Data Applied is a software vendor headquartere...  \n6   Data mining in agriculture is a recent researc...  \n7   Data thinking is a buzzword for the generic \"m...  \n8   Document processing is a field of research and...  \n9   Equifax Workforce Solutions, formerly known as...  \n10  Game analytics is the form of behavioral analy...  \n11  An Inference Attack is a data mining technique...  \n12  Path analysis, is the analysis of a path, whic...  \n13  Automatic number-plate recognition (ANPR; see ...  \n14  PRODIGAL (proactive discovery of insider threa...  \n15  Text mining, also referred to as text data min...  \n16  Zapaday is a global news calendar. The website...  ",
      "text/html": "<div>\n<style scoped>\n    .dataframe tbody tr th:only-of-type {\n        vertical-align: middle;\n    }\n\n    .dataframe tbody tr th {\n        vertical-align: top;\n    }\n\n    .dataframe thead th {\n        text-align: right;\n    }\n</style>\n<table border=\"1\" class=\"dataframe\">\n  <thead>\n    <tr style=\"text-align: right;\">\n      <th></th>\n      <th>title</th>\n      <th>text</th>\n    </tr>\n  </thead>\n  <tbody>\n    <tr>\n      <th>0</th>\n      <td>Anomaly Detection at Multiple Scales</td>\n      <td>Anomaly Detection at Multiple Scales, or ADAMS...</td>\n    </tr>\n    <tr>\n      <th>1</th>\n      <td>Behavioral analytics</td>\n      <td>Behaviorism is a systematic approach to unders...</td>\n    </tr>\n    <tr>\n      <th>2</th>\n      <td>Business analytics</td>\n      <td>Business analysis is a professional discipline...</td>\n    </tr>\n    <tr>\n      <th>3</th>\n      <td>CORE (research service)</td>\n      <td>CORE (Connecting Repositories) is a service pr...</td>\n    </tr>\n    <tr>\n      <th>4</th>\n      <td>Daisy Intelligence</td>\n      <td>Daisy Intelligence is a Canadian Artificial In...</td>\n    </tr>\n    <tr>\n      <th>5</th>\n      <td>Data Applied</td>\n      <td>Data Applied is a software vendor headquartere...</td>\n    </tr>\n    <tr>\n      <th>6</th>\n      <td>Data mining in agriculture</td>\n      <td>Data mining in agriculture is a recent researc...</td>\n    </tr>\n    <tr>\n      <th>7</th>\n      <td>Data thinking</td>\n      <td>Data thinking is a buzzword for the generic \"m...</td>\n    </tr>\n    <tr>\n      <th>8</th>\n      <td>Document processing</td>\n      <td>Document processing is a field of research and...</td>\n    </tr>\n    <tr>\n      <th>9</th>\n      <td>Equifax Workforce Solutions</td>\n      <td>Equifax Workforce Solutions, formerly known as...</td>\n    </tr>\n    <tr>\n      <th>10</th>\n      <td>Game analytics</td>\n      <td>Game analytics is the form of behavioral analy...</td>\n    </tr>\n    <tr>\n      <th>11</th>\n      <td>Inference attack</td>\n      <td>An Inference Attack is a data mining technique...</td>\n    </tr>\n    <tr>\n      <th>12</th>\n      <td>Path analysis (computing)</td>\n      <td>Path analysis, is the analysis of a path, whic...</td>\n    </tr>\n    <tr>\n      <th>13</th>\n      <td>Automatic number-plate recognition in the Unit...</td>\n      <td>Automatic number-plate recognition (ANPR; see ...</td>\n    </tr>\n    <tr>\n      <th>14</th>\n      <td>PRODIGAL (computer system)</td>\n      <td>PRODIGAL (proactive discovery of insider threa...</td>\n    </tr>\n    <tr>\n      <th>15</th>\n      <td>Text mining</td>\n      <td>Text mining, also referred to as text data min...</td>\n    </tr>\n    <tr>\n      <th>16</th>\n      <td>Zapaday</td>\n      <td>Zapaday is a global news calendar. The website...</td>\n    </tr>\n  </tbody>\n</table>\n</div>"
     },
     "execution_count": 4,
     "metadata": {},
     "output_type": "execute_result"
    }
   ],
   "source": [
    "df = pd.read_csv('applications_of_DM.csv')\n",
    "df"
   ],
   "metadata": {
    "collapsed": false,
    "pycharm": {
     "name": "#%%\n"
    }
   }
  },
  {
   "cell_type": "markdown",
   "source": [
    "b) Process and tokenize the text data: lowercase all words, remove digits, punctuation, any special characters and NLTK’s common English stopwords. List $10$ most frequent $n$-grams, $n = 1, 2, 3,$ and their raw counts. Then, convert $1700$ most frequent $n$-grams, across all $n$-values, into numerical matrices, i.e., features $X_\\mathrm{raw},X_\\mathrm{tf-idf} \\in \\mathbb{R}^{docs \\times terms}$. Features $X_\\mathrm{raw}$ are raw $n$-gram counts, $X_\\mathrm{tf-idf}$ are tf-idf values (see the specific format below)."
   ],
   "metadata": {
    "collapsed": false,
    "pycharm": {
     "name": "#%% md\n"
    }
   }
  },
  {
   "cell_type": "code",
   "execution_count": 5,
   "outputs": [],
   "source": [
    "def process_text(text: str) -> list[str]:\n",
    "    \"\"\"Removes special characters and numbers from a given text and returns a list of words of that text in lower case, removing common english stopwords.\n",
    "\n",
    "    :param text: the raw text to be processed\n",
    "    :return: a list of words in the original text with no special characters, numbers and common english stopwords in lower case.\n",
    "    \"\"\"\n",
    "    # remove special characters and numbers\n",
    "    text = re.sub(r'[^a-zA-Z]', ' ', text.lower())\n",
    "    words = text.split()\n",
    "    # filter out common english stopwords and return list\n",
    "    return [word for word in words if word not in stopwords.words('english')]"
   ],
   "metadata": {
    "collapsed": false,
    "pycharm": {
     "name": "#%%\n"
    }
   }
  },
  {
   "cell_type": "code",
   "execution_count": 6,
   "outputs": [
    {
     "data": {
      "text/plain": "                                                title  \\\n0                Anomaly Detection at Multiple Scales   \n1                                Behavioral analytics   \n2                                  Business analytics   \n3                             CORE (research service)   \n4                                  Daisy Intelligence   \n5                                        Data Applied   \n6                          Data mining in agriculture   \n7                                       Data thinking   \n8                                 Document processing   \n9                         Equifax Workforce Solutions   \n10                                     Game analytics   \n11                                   Inference attack   \n12                          Path analysis (computing)   \n13  Automatic number-plate recognition in the Unit...   \n14                         PRODIGAL (computer system)   \n15                                        Text mining   \n16                                            Zapaday   \n\n                                                 text  \\\n0   Anomaly Detection at Multiple Scales, or ADAMS...   \n1   Behaviorism is a systematic approach to unders...   \n2   Business analysis is a professional discipline...   \n3   CORE (Connecting Repositories) is a service pr...   \n4   Daisy Intelligence is a Canadian Artificial In...   \n5   Data Applied is a software vendor headquartere...   \n6   Data mining in agriculture is a recent researc...   \n7   Data thinking is a buzzword for the generic \"m...   \n8   Document processing is a field of research and...   \n9   Equifax Workforce Solutions, formerly known as...   \n10  Game analytics is the form of behavioral analy...   \n11  An Inference Attack is a data mining technique...   \n12  Path analysis, is the analysis of a path, whic...   \n13  Automatic number-plate recognition (ANPR; see ...   \n14  PRODIGAL (proactive discovery of insider threa...   \n15  Text mining, also referred to as text data min...   \n16  Zapaday is a global news calendar. The website...   \n\n                                        filtered_text  \n0   [anomaly, detection, multiple, scales, adams, ...  \n1   [behaviorism, systematic, approach, understand...  \n2   [business, analysis, professional, discipline,...  \n3   [core, connecting, repositories, service, prov...  \n4   [daisy, intelligence, canadian, artificial, in...  \n5   [data, applied, software, vendor, headquartere...  \n6   [data, mining, agriculture, recent, research, ...  \n7   [data, thinking, buzzword, generic, mental, pa...  \n8   [document, processing, field, research, set, p...  \n9   [equifax, workforce, solutions, formerly, know...  \n10  [game, analytics, form, behavioral, analytics,...  \n11  [inference, attack, data, mining, technique, p...  \n12  [path, analysis, analysis, path, portrayal, ch...  \n13  [automatic, number, plate, recognition, anpr, ...  \n14  [prodigal, proactive, discovery, insider, thre...  \n15  [text, mining, also, referred, text, data, min...  \n16  [zapaday, global, news, calendar, website, pub...  ",
      "text/html": "<div>\n<style scoped>\n    .dataframe tbody tr th:only-of-type {\n        vertical-align: middle;\n    }\n\n    .dataframe tbody tr th {\n        vertical-align: top;\n    }\n\n    .dataframe thead th {\n        text-align: right;\n    }\n</style>\n<table border=\"1\" class=\"dataframe\">\n  <thead>\n    <tr style=\"text-align: right;\">\n      <th></th>\n      <th>title</th>\n      <th>text</th>\n      <th>filtered_text</th>\n    </tr>\n  </thead>\n  <tbody>\n    <tr>\n      <th>0</th>\n      <td>Anomaly Detection at Multiple Scales</td>\n      <td>Anomaly Detection at Multiple Scales, or ADAMS...</td>\n      <td>[anomaly, detection, multiple, scales, adams, ...</td>\n    </tr>\n    <tr>\n      <th>1</th>\n      <td>Behavioral analytics</td>\n      <td>Behaviorism is a systematic approach to unders...</td>\n      <td>[behaviorism, systematic, approach, understand...</td>\n    </tr>\n    <tr>\n      <th>2</th>\n      <td>Business analytics</td>\n      <td>Business analysis is a professional discipline...</td>\n      <td>[business, analysis, professional, discipline,...</td>\n    </tr>\n    <tr>\n      <th>3</th>\n      <td>CORE (research service)</td>\n      <td>CORE (Connecting Repositories) is a service pr...</td>\n      <td>[core, connecting, repositories, service, prov...</td>\n    </tr>\n    <tr>\n      <th>4</th>\n      <td>Daisy Intelligence</td>\n      <td>Daisy Intelligence is a Canadian Artificial In...</td>\n      <td>[daisy, intelligence, canadian, artificial, in...</td>\n    </tr>\n    <tr>\n      <th>5</th>\n      <td>Data Applied</td>\n      <td>Data Applied is a software vendor headquartere...</td>\n      <td>[data, applied, software, vendor, headquartere...</td>\n    </tr>\n    <tr>\n      <th>6</th>\n      <td>Data mining in agriculture</td>\n      <td>Data mining in agriculture is a recent researc...</td>\n      <td>[data, mining, agriculture, recent, research, ...</td>\n    </tr>\n    <tr>\n      <th>7</th>\n      <td>Data thinking</td>\n      <td>Data thinking is a buzzword for the generic \"m...</td>\n      <td>[data, thinking, buzzword, generic, mental, pa...</td>\n    </tr>\n    <tr>\n      <th>8</th>\n      <td>Document processing</td>\n      <td>Document processing is a field of research and...</td>\n      <td>[document, processing, field, research, set, p...</td>\n    </tr>\n    <tr>\n      <th>9</th>\n      <td>Equifax Workforce Solutions</td>\n      <td>Equifax Workforce Solutions, formerly known as...</td>\n      <td>[equifax, workforce, solutions, formerly, know...</td>\n    </tr>\n    <tr>\n      <th>10</th>\n      <td>Game analytics</td>\n      <td>Game analytics is the form of behavioral analy...</td>\n      <td>[game, analytics, form, behavioral, analytics,...</td>\n    </tr>\n    <tr>\n      <th>11</th>\n      <td>Inference attack</td>\n      <td>An Inference Attack is a data mining technique...</td>\n      <td>[inference, attack, data, mining, technique, p...</td>\n    </tr>\n    <tr>\n      <th>12</th>\n      <td>Path analysis (computing)</td>\n      <td>Path analysis, is the analysis of a path, whic...</td>\n      <td>[path, analysis, analysis, path, portrayal, ch...</td>\n    </tr>\n    <tr>\n      <th>13</th>\n      <td>Automatic number-plate recognition in the Unit...</td>\n      <td>Automatic number-plate recognition (ANPR; see ...</td>\n      <td>[automatic, number, plate, recognition, anpr, ...</td>\n    </tr>\n    <tr>\n      <th>14</th>\n      <td>PRODIGAL (computer system)</td>\n      <td>PRODIGAL (proactive discovery of insider threa...</td>\n      <td>[prodigal, proactive, discovery, insider, thre...</td>\n    </tr>\n    <tr>\n      <th>15</th>\n      <td>Text mining</td>\n      <td>Text mining, also referred to as text data min...</td>\n      <td>[text, mining, also, referred, text, data, min...</td>\n    </tr>\n    <tr>\n      <th>16</th>\n      <td>Zapaday</td>\n      <td>Zapaday is a global news calendar. The website...</td>\n      <td>[zapaday, global, news, calendar, website, pub...</td>\n    </tr>\n  </tbody>\n</table>\n</div>"
     },
     "execution_count": 6,
     "metadata": {},
     "output_type": "execute_result"
    }
   ],
   "source": [
    "df['filtered_text'] = df['text'].map(process_text)\n",
    "df"
   ],
   "metadata": {
    "collapsed": false,
    "pycharm": {
     "name": "#%%\n"
    }
   }
  },
  {
   "cell_type": "code",
   "execution_count": 7,
   "outputs": [],
   "source": [
    "def make_ngram(corpus: list[str], n: int) -> Dict[Tuple[str, ...], int]:\n",
    "    \"\"\"Creates a frequency-list of specified n-grams in the given corpus\n",
    "\n",
    "    :param corpus: Ordered list of words in the corpus\n",
    "    :param n: number of elements in n-gram creation\n",
    "    :return: dictionary with keys being unique n-grams and values being the frequencies of them\n",
    "    \"\"\"\n",
    "    grams = list(ngrams(corpus, n))\n",
    "    return {i:grams.count(i) for i in set(grams)}"
   ],
   "metadata": {
    "collapsed": false,
    "pycharm": {
     "name": "#%%\n"
    }
   }
  },
  {
   "cell_type": "code",
   "execution_count": 13,
   "outputs": [
    {
     "data": {
      "text/plain": "                                                title  \\\n0                Anomaly Detection at Multiple Scales   \n1                                Behavioral analytics   \n2                                  Business analytics   \n3                             CORE (research service)   \n4                                  Daisy Intelligence   \n5                                        Data Applied   \n6                          Data mining in agriculture   \n7                                       Data thinking   \n8                                 Document processing   \n9                         Equifax Workforce Solutions   \n10                                     Game analytics   \n11                                   Inference attack   \n12                          Path analysis (computing)   \n13  Automatic number-plate recognition in the Unit...   \n14                         PRODIGAL (computer system)   \n15                                        Text mining   \n16                                            Zapaday   \n\n                                                 text  \\\n0   Anomaly Detection at Multiple Scales, or ADAMS...   \n1   Behaviorism is a systematic approach to unders...   \n2   Business analysis is a professional discipline...   \n3   CORE (Connecting Repositories) is a service pr...   \n4   Daisy Intelligence is a Canadian Artificial In...   \n5   Data Applied is a software vendor headquartere...   \n6   Data mining in agriculture is a recent researc...   \n7   Data thinking is a buzzword for the generic \"m...   \n8   Document processing is a field of research and...   \n9   Equifax Workforce Solutions, formerly known as...   \n10  Game analytics is the form of behavioral analy...   \n11  An Inference Attack is a data mining technique...   \n12  Path analysis, is the analysis of a path, whic...   \n13  Automatic number-plate recognition (ANPR; see ...   \n14  PRODIGAL (proactive discovery of insider threa...   \n15  Text mining, also referred to as text data min...   \n16  Zapaday is a global news calendar. The website...   \n\n                                        filtered_text  \\\n0   [anomaly, detection, multiple, scales, adams, ...   \n1   [behaviorism, systematic, approach, understand...   \n2   [business, analysis, professional, discipline,...   \n3   [core, connecting, repositories, service, prov...   \n4   [daisy, intelligence, canadian, artificial, in...   \n5   [data, applied, software, vendor, headquartere...   \n6   [data, mining, agriculture, recent, research, ...   \n7   [data, thinking, buzzword, generic, mental, pa...   \n8   [document, processing, field, research, set, p...   \n9   [equifax, workforce, solutions, formerly, know...   \n10  [game, analytics, form, behavioral, analytics,...   \n11  [inference, attack, data, mining, technique, p...   \n12  [path, analysis, analysis, path, portrayal, ch...   \n13  [automatic, number, plate, recognition, anpr, ...   \n14  [prodigal, proactive, discovery, insider, thre...   \n15  [text, mining, also, referred, text, data, min...   \n16  [zapaday, global, news, calendar, website, pub...   \n\n                                             unigrams  \\\n0   {('detect',): 1, ('anomaly',): 1, ('system',):...   \n1   {('common',): 3, ('practices',): 1, ('traumati...   \n2   {('meet',): 2, ('common',): 5, ('needs',): 7, ...   \n3   {('status',): 1, ('paperity',): 1, ('example',...   \n4   {('optimal',): 1, ('detect',): 1, ('pricing',)...   \n5   {('product',): 1, ('mining',): 2, ('maps',): 2...   \n6   {('practices',): 1, ('primary',): 1, ('example...   \n7   {('successful',): 2, ('test',): 1, ('practices...   \n8   {('detect',): 1, ('identified',): 1, ('weigh',...   \n9   {('liability',): 2, ('inflated',): 1, ('meet',...   \n10  {('form',): 1, ('games',): 1, ('goal',): 1, ('...   \n11  {('accelerometers',): 1, ('directly',): 1, ('e...   \n12  {('app',): 1, ('home',): 1, ('test',): 1, ('ne...   \n13  {('detect',): 3, ('establish',): 1, ('deadline...   \n14  {('detect',): 1, ('anomaly',): 2, ('amount',):...   \n15  {('detect',): 2, ('common',): 1, ('needs',): 1...   \n16  {('marketers',): 1, ('anp',): 6, ('website',):...   \n\n                                              bigrams  \\\n0   {('million', 'darpa'): 1, ('counterintelligenc...   \n1   {('psychology', 'traditional'): 1, ('shed', 'l...   \n2   {('solely', 'project'): 1, ('give', 'enough'):...   \n3   {('picked', 'units'): 1, ('access', 'mandates'...   \n4   {('companies', 'three'): 1, ('companies', 'det...   \n5   {('collection', 'visualization'): 1, ('tree', ...   \n6   {('many', 'countries'): 1, ('sheep', 'artifici...   \n7   {('concept', 'data'): 1, ('process', 'cost'): ...   \n8   {('entities', 'technology'): 1, ('scan', 'docu...   \n9   {('owned', 'subsidiary'): 1, ('became', 'known...   \n10  {('game', 'goal'): 1, ('example', 'would'): 1,...   \n11  {('sensitive', 'inferences'): 1, ('user', 'abl...   \n12  {('way', 'understand'): 1, ('able', 'analyze')...   \n13  {('entering', 'motorway'): 1, ('cope', 'differ...   \n14  {('schedule', 'two'): 1, ('prodigal', 'proacti...   \n15  {('data', 'finally'): 1, ('process', 'interpre...   \n16  {('events', 'categorized'): 1, ('day', 'per'):...   \n\n                                             trigrams  \n0   {('anomalies', 'large', 'data'): 1, ('insider'...  \n1   {('approach', 'used', 'depression'): 1, ('lovi...  \n2   {('documents', 'conversations', 'messages'): 1...  \n3   {('usage', 'statistics', 'irus'): 1, ('based',...  \n4   {('data', 'analysis', 'services'): 1, ('ai', '...  \n5   {('software', 'vendor', 'headquartered'): 1, (...  \n6   {('practices', 'along', 'pesticide'): 1, ('ray...  \n7   {('dm', 'typically', 'utilized'): 1, ('based',...  \n8   {('combining', 'artificial', 'intelligence'): ...  \n9   {('would', 'pay', 'state'): 1, ('collects', 'i...  \n10  {('time', 'players', 'die'): 1, ('whether', 'l...  \n11  {('occurs', 'user', 'able'): 1, ('data', 'smar...  \n12  {('analytics', 'business', 'intelligence'): 1,...  \n13  {('principle', 'machine', 'says'): 1, ('system...  \n14  {('intrusion', 'detection', 'echelon'): 1, ('s...  \n15  {('article', 'h', 'p'): 1, ('reports', 'automa...  \n16  {('remaining', 'per', 'cent'): 1, ('calendars'...  ",
      "text/html": "<div>\n<style scoped>\n    .dataframe tbody tr th:only-of-type {\n        vertical-align: middle;\n    }\n\n    .dataframe tbody tr th {\n        vertical-align: top;\n    }\n\n    .dataframe thead th {\n        text-align: right;\n    }\n</style>\n<table border=\"1\" class=\"dataframe\">\n  <thead>\n    <tr style=\"text-align: right;\">\n      <th></th>\n      <th>title</th>\n      <th>text</th>\n      <th>filtered_text</th>\n      <th>unigrams</th>\n      <th>bigrams</th>\n      <th>trigrams</th>\n    </tr>\n  </thead>\n  <tbody>\n    <tr>\n      <th>0</th>\n      <td>Anomaly Detection at Multiple Scales</td>\n      <td>Anomaly Detection at Multiple Scales, or ADAMS...</td>\n      <td>[anomaly, detection, multiple, scales, adams, ...</td>\n      <td>{('detect',): 1, ('anomaly',): 1, ('system',):...</td>\n      <td>{('million', 'darpa'): 1, ('counterintelligenc...</td>\n      <td>{('anomalies', 'large', 'data'): 1, ('insider'...</td>\n    </tr>\n    <tr>\n      <th>1</th>\n      <td>Behavioral analytics</td>\n      <td>Behaviorism is a systematic approach to unders...</td>\n      <td>[behaviorism, systematic, approach, understand...</td>\n      <td>{('common',): 3, ('practices',): 1, ('traumati...</td>\n      <td>{('psychology', 'traditional'): 1, ('shed', 'l...</td>\n      <td>{('approach', 'used', 'depression'): 1, ('lovi...</td>\n    </tr>\n    <tr>\n      <th>2</th>\n      <td>Business analytics</td>\n      <td>Business analysis is a professional discipline...</td>\n      <td>[business, analysis, professional, discipline,...</td>\n      <td>{('meet',): 2, ('common',): 5, ('needs',): 7, ...</td>\n      <td>{('solely', 'project'): 1, ('give', 'enough'):...</td>\n      <td>{('documents', 'conversations', 'messages'): 1...</td>\n    </tr>\n    <tr>\n      <th>3</th>\n      <td>CORE (research service)</td>\n      <td>CORE (Connecting Repositories) is a service pr...</td>\n      <td>[core, connecting, repositories, service, prov...</td>\n      <td>{('status',): 1, ('paperity',): 1, ('example',...</td>\n      <td>{('picked', 'units'): 1, ('access', 'mandates'...</td>\n      <td>{('usage', 'statistics', 'irus'): 1, ('based',...</td>\n    </tr>\n    <tr>\n      <th>4</th>\n      <td>Daisy Intelligence</td>\n      <td>Daisy Intelligence is a Canadian Artificial In...</td>\n      <td>[daisy, intelligence, canadian, artificial, in...</td>\n      <td>{('optimal',): 1, ('detect',): 1, ('pricing',)...</td>\n      <td>{('companies', 'three'): 1, ('companies', 'det...</td>\n      <td>{('data', 'analysis', 'services'): 1, ('ai', '...</td>\n    </tr>\n    <tr>\n      <th>5</th>\n      <td>Data Applied</td>\n      <td>Data Applied is a software vendor headquartere...</td>\n      <td>[data, applied, software, vendor, headquartere...</td>\n      <td>{('product',): 1, ('mining',): 2, ('maps',): 2...</td>\n      <td>{('collection', 'visualization'): 1, ('tree', ...</td>\n      <td>{('software', 'vendor', 'headquartered'): 1, (...</td>\n    </tr>\n    <tr>\n      <th>6</th>\n      <td>Data mining in agriculture</td>\n      <td>Data mining in agriculture is a recent researc...</td>\n      <td>[data, mining, agriculture, recent, research, ...</td>\n      <td>{('practices',): 1, ('primary',): 1, ('example...</td>\n      <td>{('many', 'countries'): 1, ('sheep', 'artifici...</td>\n      <td>{('practices', 'along', 'pesticide'): 1, ('ray...</td>\n    </tr>\n    <tr>\n      <th>7</th>\n      <td>Data thinking</td>\n      <td>Data thinking is a buzzword for the generic \"m...</td>\n      <td>[data, thinking, buzzword, generic, mental, pa...</td>\n      <td>{('successful',): 2, ('test',): 1, ('practices...</td>\n      <td>{('concept', 'data'): 1, ('process', 'cost'): ...</td>\n      <td>{('dm', 'typically', 'utilized'): 1, ('based',...</td>\n    </tr>\n    <tr>\n      <th>8</th>\n      <td>Document processing</td>\n      <td>Document processing is a field of research and...</td>\n      <td>[document, processing, field, research, set, p...</td>\n      <td>{('detect',): 1, ('identified',): 1, ('weigh',...</td>\n      <td>{('entities', 'technology'): 1, ('scan', 'docu...</td>\n      <td>{('combining', 'artificial', 'intelligence'): ...</td>\n    </tr>\n    <tr>\n      <th>9</th>\n      <td>Equifax Workforce Solutions</td>\n      <td>Equifax Workforce Solutions, formerly known as...</td>\n      <td>[equifax, workforce, solutions, formerly, know...</td>\n      <td>{('liability',): 2, ('inflated',): 1, ('meet',...</td>\n      <td>{('owned', 'subsidiary'): 1, ('became', 'known...</td>\n      <td>{('would', 'pay', 'state'): 1, ('collects', 'i...</td>\n    </tr>\n    <tr>\n      <th>10</th>\n      <td>Game analytics</td>\n      <td>Game analytics is the form of behavioral analy...</td>\n      <td>[game, analytics, form, behavioral, analytics,...</td>\n      <td>{('form',): 1, ('games',): 1, ('goal',): 1, ('...</td>\n      <td>{('game', 'goal'): 1, ('example', 'would'): 1,...</td>\n      <td>{('time', 'players', 'die'): 1, ('whether', 'l...</td>\n    </tr>\n    <tr>\n      <th>11</th>\n      <td>Inference attack</td>\n      <td>An Inference Attack is a data mining technique...</td>\n      <td>[inference, attack, data, mining, technique, p...</td>\n      <td>{('accelerometers',): 1, ('directly',): 1, ('e...</td>\n      <td>{('sensitive', 'inferences'): 1, ('user', 'abl...</td>\n      <td>{('occurs', 'user', 'able'): 1, ('data', 'smar...</td>\n    </tr>\n    <tr>\n      <th>12</th>\n      <td>Path analysis (computing)</td>\n      <td>Path analysis, is the analysis of a path, whic...</td>\n      <td>[path, analysis, analysis, path, portrayal, ch...</td>\n      <td>{('app',): 1, ('home',): 1, ('test',): 1, ('ne...</td>\n      <td>{('way', 'understand'): 1, ('able', 'analyze')...</td>\n      <td>{('analytics', 'business', 'intelligence'): 1,...</td>\n    </tr>\n    <tr>\n      <th>13</th>\n      <td>Automatic number-plate recognition in the Unit...</td>\n      <td>Automatic number-plate recognition (ANPR; see ...</td>\n      <td>[automatic, number, plate, recognition, anpr, ...</td>\n      <td>{('detect',): 3, ('establish',): 1, ('deadline...</td>\n      <td>{('entering', 'motorway'): 1, ('cope', 'differ...</td>\n      <td>{('principle', 'machine', 'says'): 1, ('system...</td>\n    </tr>\n    <tr>\n      <th>14</th>\n      <td>PRODIGAL (computer system)</td>\n      <td>PRODIGAL (proactive discovery of insider threa...</td>\n      <td>[prodigal, proactive, discovery, insider, thre...</td>\n      <td>{('detect',): 1, ('anomaly',): 2, ('amount',):...</td>\n      <td>{('schedule', 'two'): 1, ('prodigal', 'proacti...</td>\n      <td>{('intrusion', 'detection', 'echelon'): 1, ('s...</td>\n    </tr>\n    <tr>\n      <th>15</th>\n      <td>Text mining</td>\n      <td>Text mining, also referred to as text data min...</td>\n      <td>[text, mining, also, referred, text, data, min...</td>\n      <td>{('detect',): 2, ('common',): 1, ('needs',): 1...</td>\n      <td>{('data', 'finally'): 1, ('process', 'interpre...</td>\n      <td>{('article', 'h', 'p'): 1, ('reports', 'automa...</td>\n    </tr>\n    <tr>\n      <th>16</th>\n      <td>Zapaday</td>\n      <td>Zapaday is a global news calendar. The website...</td>\n      <td>[zapaday, global, news, calendar, website, pub...</td>\n      <td>{('marketers',): 1, ('anp',): 6, ('website',):...</td>\n      <td>{('events', 'categorized'): 1, ('day', 'per'):...</td>\n      <td>{('remaining', 'per', 'cent'): 1, ('calendars'...</td>\n    </tr>\n  </tbody>\n</table>\n</div>"
     },
     "execution_count": 13,
     "metadata": {},
     "output_type": "execute_result"
    }
   ],
   "source": [
    "df['unigrams'] = df['filtered_text'].map(lambda x: make_ngram(x, n=1))\n",
    "df['bigrams'] = df['filtered_text'].map(lambda x: make_ngram(x, n=2))\n",
    "df['trigrams'] = df['filtered_text'].map(lambda x: make_ngram(x, n=3))\n",
    "df"
   ],
   "metadata": {
    "collapsed": false,
    "pycharm": {
     "name": "#%%\n"
    }
   }
  },
  {
   "cell_type": "code",
   "execution_count": null,
   "outputs": [],
   "source": [],
   "metadata": {
    "collapsed": false,
    "pycharm": {
     "name": "#%%\n"
    }
   }
  },
  {
   "cell_type": "markdown",
   "source": [
    "c) Using SVD, decompose and truncate your numerical features $X = U \\Sigma V^\\top$ into ($docs \\times topics$) and ($topics \\times terms$) matrices (left/right singular vectors, respectively) using $6$ topics. List $5$ most significant $n$-grams for each topic, measured by values of the ($topics \\times terms$) matrix. Do this for both features $X_\\mathrm{raw}$ and $X_\\mathrm{tf-idf}$."
   ],
   "metadata": {
    "collapsed": false,
    "pycharm": {
     "name": "#%% md\n"
    }
   }
  },
  {
   "cell_type": "code",
   "execution_count": null,
   "outputs": [],
   "source": [],
   "metadata": {
    "collapsed": false,
    "pycharm": {
     "name": "#%%\n"
    }
   }
  },
  {
   "cell_type": "markdown",
   "source": [
    "d) Compare and comment the results with respect to the selection of features and the $n$ value in $n$-grams."
   ],
   "metadata": {
    "collapsed": false,
    "pycharm": {
     "name": "#%% md\n"
    }
   }
  },
  {
   "cell_type": "code",
   "execution_count": null,
   "outputs": [],
   "source": [],
   "metadata": {
    "collapsed": false,
    "pycharm": {
     "name": "#%%\n"
    }
   }
  },
  {
   "cell_type": "markdown",
   "source": [
    "**The format of tf-idf you need to use:**\n",
    "\n",
    "$$ f(tf, idf) = (1 + \\ln (tf)) \\cdot idf $$\n",
    "\n",
    "where:\n",
    "\n",
    "$$ tf = \\frac{number\\ of\\ times\\ term\\ w\\ appears\\ in\\ a\\ document}{total\\ number\\ of\\ terms\\ in\\ that\\ document} $$\n",
    "\n",
    "and\n",
    "\n",
    "$$ idf = \\ln(\\frac{total\\ number\\ of\\ documents}{number\\ of\\ documents\\ with\\ term\\ w\\ in\\ them + 1} + 1) $$"
   ],
   "metadata": {
    "collapsed": false,
    "pycharm": {
     "name": "#%% md\n"
    }
   }
  }
 ],
 "metadata": {
  "kernelspec": {
   "display_name": "Python 3",
   "language": "python",
   "name": "python3"
  },
  "language_info": {
   "codemirror_mode": {
    "name": "ipython",
    "version": 2
   },
   "file_extension": ".py",
   "mimetype": "text/x-python",
   "name": "python",
   "nbconvert_exporter": "python",
   "pygments_lexer": "ipython2",
   "version": "2.7.6"
  }
 },
 "nbformat": 4,
 "nbformat_minor": 0
}