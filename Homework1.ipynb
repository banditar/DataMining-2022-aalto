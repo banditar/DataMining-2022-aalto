{
 "cells": [
  {
   "cell_type": "markdown",
   "id": "a3bdc618",
   "metadata": {
    "pycharm": {
     "name": "#%% md\n"
    }
   },
   "source": [
    "# Exercise 4 "
   ]
  },
  {
   "cell_type": "code",
   "execution_count": 1,
   "id": "fb706112",
   "metadata": {
    "pycharm": {
     "name": "#%%\n"
    }
   },
   "outputs": [],
   "source": [
    "import math\n",
    "import numpy as np\n",
    "import pandas as pd"
   ]
  },
  {
   "cell_type": "code",
   "execution_count": 2,
   "id": "1b95c470",
   "metadata": {
    "pycharm": {
     "name": "#%%\n"
    }
   },
   "outputs": [],
   "source": [
    "### Generate dataset for specific dimension\n",
    "def generate_data(d = 5, n=100):\n",
    "\n",
    "    #create empty data frame\n",
    "    df = pd.DataFrame()\n",
    "\n",
    "    #for each dimension add dimension to data frame\n",
    "    # for i in range(0, d):\n",
    "        #create 100 data points\n",
    "    input_feature = np.random.uniform(size=[100, d])\n",
    "\n",
    "        # add created feature into data frame\n",
    "        # df[\"feature_\"+str(i+1)] = input_feature\n",
    "\n",
    "    df = pd.DataFrame(input_feature, columns=[f'feature_{x}' for x in range(d)])\n",
    "\n",
    "    return df\n"
   ]
  },
  {
   "cell_type": "code",
   "execution_count": null,
   "id": "29d0adcc",
   "metadata": {},
   "outputs": [],
   "source": [
    "def lp_norm(p,v1,v2):\n",
    "    sumOfFeatures = 0\n",
    "    for i in range(0, len(v1)):\n",
    "        sumOfFeatures += abs((v2[i]-v1[i])**p)\n",
    "    l2_value = (sumOfFeatures)**(1/p)\n",
    "    return l2_value"
   ]
  },
  {
   "cell_type": "code",
   "execution_count": 3,
   "id": "ba7085f1",
   "metadata": {
    "pycharm": {
     "name": "#%%\n"
    }
   },
   "outputs": [],
   "source": [
    "# calculating l2_value for changeable amount of features\n",
    "def l2_norm(v1,v2):\n",
    "    sumOfFeatures = 0\n",
    "    for i in range(0, len(v1)):\n",
    "        sumOfFeatures += (v2[i]-v1[i])**2\n",
    "    l2_value = math.sqrt(sumOfFeatures)\n",
    "    return l2_value"
   ]
  },
  {
   "cell_type": "code",
   "execution_count": 4,
   "id": "c91d188d",
   "metadata": {
    "pycharm": {
     "name": "#%%\n"
    }
   },
   "outputs": [],
   "source": [
    "# formula contrast Value\n",
    "def contrastValue(dMax,dMin):\n",
    "    return (dMax -dMin)/ dMin\n"
   ]
  },
  {
   "cell_type": "code",
   "execution_count": 5,
   "metadata": {
    "collapsed": false,
    "pycharm": {
     "name": "#%%\n"
    }
   },
   "outputs": [],
   "source": [
    "def get_values(dim: int, n: int, generator, distance):\n",
    "    points = generator(dim, n).to_numpy()\n",
    "    min_sum = 0\n",
    "    max_sum = 0\n",
    "    avg_sum = 0\n",
    "    diff_sum = 0\n",
    "    cont_sum = 0\n",
    "    for i, p1 in enumerate(points):\n",
    "        distances = []\n",
    "        for j, p2 in enumerate(points):\n",
    "            if i == j:\n",
    "                continue\n",
    "            distances.append(distance(p1, p2))\n",
    "        minimum = np.min(distances)\n",
    "        maximum = np.max(distances)\n",
    "        min_sum += minimum\n",
    "        max_sum += maximum\n",
    "        avg_sum += np.mean(distances)\n",
    "        diff_sum += maximum - minimum\n",
    "        cont_sum += contrastValue(maximum, minimum)\n",
    "    avg_min = min_sum/n\n",
    "    avg_max = max_sum/n\n",
    "    avg_avg = avg_sum/n\n",
    "    avg_diff = diff_sum/n\n",
    "    avg_cont = cont_sum/n\n",
    "    return pd.DataFrame([[avg_min, avg_max, avg_avg, avg_diff, avg_cont]], columns=['min', 'max', 'avg', 'diff', 'cont'])"
   ]
  },
  {
   "cell_type": "code",
   "execution_count": 6,
   "id": "b202e597",
   "metadata": {
    "pycharm": {
     "name": "#%%\n"
    }
   },
   "outputs": [
    {
     "name": "stdout",
     "output_type": "stream",
     "text": [
      "        min       max       avg      diff      cont\n",
      "0  0.126436  1.157142  0.662671  1.030706  10.32627\n"
     ]
    }
   ],
   "source": [
    "print(get_values(3, 100, generate_data, l2_norm))"
   ]
  },
  {
   "cell_type": "code",
   "execution_count": 7,
   "id": "d587e9b0",
   "metadata": {
    "pycharm": {
     "name": "#%%\n"
    }
   },
   "outputs": [],
   "source": [
    "# set dimensions\n",
    "dims = [1,2,3,4,5,10,20,30,40,50,70,100]"
   ]
  },
  {
   "cell_type": "code",
   "execution_count": 8,
   "id": "584f8179",
   "metadata": {
    "pycharm": {
     "name": "#%%\n"
    }
   },
   "outputs": [],
   "source": [
    "# set distance measures\n",
    "# TODO: implement other measures\n",
    "dists = [l2_norm]"
   ]
  },
  {
   "cell_type": "code",
   "execution_count": 9,
   "metadata": {
    "collapsed": false,
    "pycharm": {
     "name": "#%%\n"
    }
   },
   "outputs": [],
   "source": [
    "# iterate over every measure and every dimension\n",
    "for dist in dists:\n",
    "    data = pd.DataFrame()\n",
    "    for dim in dims:\n",
    "        df = get_values(dim, 100, generate_data, dist)\n",
    "        data = pd.concat([data, df], sort=False)\n",
    "    data = data.reset_index().drop('index', axis=1, inplace=False)\n",
    "    # TODO: plot results"
   ]
  },
  {
   "cell_type": "code",
   "execution_count": null,
   "metadata": {
    "collapsed": false,
    "pycharm": {
     "name": "#%%\n"
    }
   },
   "outputs": [],
   "source": []
  }
 ],
 "metadata": {
  "kernelspec": {
   "display_name": "Python 3.7.3 64-bit",
   "language": "python",
   "name": "python3"
  },
  "language_info": {
   "codemirror_mode": {
    "name": "ipython",
    "version": 3
   },
   "file_extension": ".py",
   "mimetype": "text/x-python",
   "name": "python",
   "nbconvert_exporter": "python",
   "pygments_lexer": "ipython3",
   "version": "3.7.3"
  },
  "vscode": {
   "interpreter": {
    "hash": "aee8b7b246df8f9039afb4144a1f6fd8d2ca17a180786b69acc140d282b71a49"
   }
  }
 },
 "nbformat": 4,
 "nbformat_minor": 5
}
