{
 "cells": [
  {
   "cell_type": "markdown",
   "id": "a3bdc618",
   "metadata": {},
   "source": [
    "# Exercise 4 "
   ]
  },
  {
   "cell_type": "code",
   "execution_count": 99,
   "id": "fb706112",
   "metadata": {},
   "outputs": [],
   "source": [
    "import random\n",
    "import pandas as pd\n",
    "import numpy as np\n",
    "from scipy.stats import truncnorm"
   ]
  },
  {
   "cell_type": "code",
   "execution_count": 100,
   "id": "b46140ca",
   "metadata": {},
   "outputs": [],
   "source": [
    "# set dimensions\n",
    "d = [1,2,3,4,5,10,20,30,40,50,70,100]"
   ]
  },
  {
   "cell_type": "code",
   "execution_count": 101,
   "id": "1b95c470",
   "metadata": {},
   "outputs": [],
   "source": [
    "### Generate dataset for specific dimension\n",
    "def generate_data(d = 5, n=100):\n",
    "\n",
    "    #create empty data frame\n",
    "    df = pd.DataFrame()\n",
    "\n",
    "    #for each dimension add dimension to data frame\n",
    "    # for i in range(0, d):\n",
    "        #create 100 data points\n",
    "    input_feature = np.random.uniform(size=[100, d])\n",
    "\n",
    "        # add created feature into data frame\n",
    "        # df[\"feature_\"+str(i+1)] = input_feature\n",
    "\n",
    "    df = pd.DataFrame(input_feature, columns=[f'feature_{x}' for x in range(d)])\n",
    "\n",
    "    return df\n"
   ]
  },
  {
   "cell_type": "code",
   "execution_count": 102,
   "id": "ba7085f1",
   "metadata": {},
   "outputs": [],
   "source": [
    "# calculating l2_value for changable amount of features\n",
    "def l2_norm(v1,v2):\n",
    "    sumOfFeatures = 0\n",
    "    for i in range(0, len(v1)):\n",
    "        sumOfFeatures += (v2[i]-v1[i])**2\n",
    "    l2_value = math.sqrt(sumOfFeatures)\n",
    "    return l2_value"
   ]
  },
  {
   "cell_type": "code",
   "execution_count": 103,
   "id": "c91d188d",
   "metadata": {},
   "outputs": [],
   "source": [
    "# formula contrast Value\n",
    "def contrastValue(dMax,dMin):\n",
    "    return (dMax -dMin)/ dMin\n",
    "    "
   ]
  },
  {
   "cell_type": "code",
   "execution_count": 131,
   "id": "3989b066",
   "metadata": {},
   "outputs": [
    {
     "ename": "IndentationError",
     "evalue": "unindent does not match any outer indentation level (<tokenize>, line 40)",
     "output_type": "error",
     "traceback": [
      "\u001b[0;36m  File \u001b[0;32m\"<tokenize>\"\u001b[0;36m, line \u001b[0;32m40\u001b[0m\n\u001b[0;31m    np.max(v_matrix)diffSum += max-min\u001b[0m\n\u001b[0m    ^\u001b[0m\n\u001b[0;31mIndentationError\u001b[0m\u001b[0;31m:\u001b[0m unindent does not match any outer indentation level\n"
     ]
    }
   ],
   "source": [
    "n = len(df)\n",
    "#create vectors out of data points\n",
    "vectors = []\n",
    "for k in range(0,n):\n",
    "    v=0\n",
    "    v = np.asarray(list(df.loc[k]))\n",
    "    vectors += [v]\n",
    "    \n",
    "#print(vectors)\n",
    "maxSum = 0\n",
    "minSum= 0\n",
    "avgSum=0\n",
    "diffSum=0\n",
    "contrastVSum= 0\n",
    "\n",
    "# go through all data 100 data points\n",
    "for i in range(0, n):\n",
    "    v_matrix= []\n",
    "\n",
    "    for j in range(0,n):\n",
    "        \n",
    "        # get vectors to compare\n",
    "        if i == j:\n",
    "            continue\n",
    "        v1 = vectors[i]\n",
    "        v2 = vectors[j]\n",
    "        \n",
    "        #print(v1)\n",
    "        #print(v2)\n",
    "        #calculate distance\n",
    "        dis = l2_norm(v1,v2)\n",
    "        \n",
    "        v_matrix += [dis]\n",
    "    #print(v_matrix)\n",
    "\n",
    "    #get min and max of x_i\n",
    "    minSum += np.min(v_matrix)\n",
    "    maxSum += np.max(v_matrix)\n",
    "    avgSum += np.mea   n(v_matrix)np.max(v_matrix)nnp.min(v_matrix)ax(v_matrix)diffSum +contrastValue(np.max(v_matrix), np.min(v_matrix))\n",
    "x(v_matrix)axnp.min(v_matrix)i\n",
    "n)\n",
    "    #print(f\"min: {min}\")\n",
    "    #print(f\"max: {max}\")\n",
    "    #print(f\"dif: {dif}\")\n",
    "    #print(f\"contrast: {contrastV}\")\n",
    "\n",
    "avgMin = minSum/n\n",
    "avgMax= maxSum/n\n",
    "avgAvg= avgSum/n\n",
    "avgDif= diffSum/n\n",
    "avgContrastV= contrastVSum/n\n",
    "np.min(v_matrix)"
   ]
  },
  {
   "cell_type": "code",
   "execution_count": null,
   "id": "eb63fd6b",
   "metadata": {},
   "outputs": [],
   "source": [
    "# plot averages and logarithm\n",
    "import matplotlib.pyplot as plot\n",
    "\n"
   ]
  },
  {
   "cell_type": "code",
   "execution_count": null,
   "id": "b202e597",
   "metadata": {},
   "outputs": [],
   "source": [
    "print(get_values(3, 100, generate_data, l2_norm))"
   ]
  },
  {
   "cell_type": "code",
   "execution_count": 150,
   "id": "d587e9b0",
   "metadata": {},
   "outputs": [
    {
     "data": {
      "text/html": [
       "<div>\n",
       "<style scoped>\n",
       "    .dataframe tbody tr th:only-of-type {\n",
       "        vertical-align: middle;\n",
       "    }\n",
       "\n",
       "    .dataframe tbody tr th {\n",
       "        vertical-align: top;\n",
       "    }\n",
       "\n",
       "    .dataframe thead th {\n",
       "        text-align: right;\n",
       "    }\n",
       "</style>\n",
       "<table border=\"1\" class=\"dataframe\">\n",
       "  <thead>\n",
       "    <tr style=\"text-align: right;\">\n",
       "      <th></th>\n",
       "      <th>Min</th>\n",
       "      <th>Max</th>\n",
       "      <th>Avg</th>\n",
       "      <th>Diff</th>\n",
       "      <th>Contrast</th>\n",
       "    </tr>\n",
       "  </thead>\n",
       "  <tbody>\n",
       "    <tr>\n",
       "      <th>0</th>\n",
       "      <td>0.004569</td>\n",
       "      <td>0.727528</td>\n",
       "      <td>0.326481</td>\n",
       "      <td>1.722433</td>\n",
       "      <td>3.511041</td>\n",
       "    </tr>\n",
       "    <tr>\n",
       "      <th>0</th>\n",
       "      <td>0.052774</td>\n",
       "      <td>1.006028</td>\n",
       "      <td>0.531943</td>\n",
       "      <td>1.722433</td>\n",
       "      <td>3.511041</td>\n",
       "    </tr>\n",
       "    <tr>\n",
       "      <th>0</th>\n",
       "      <td>0.129320</td>\n",
       "      <td>1.161672</td>\n",
       "      <td>0.683092</td>\n",
       "      <td>1.722433</td>\n",
       "      <td>3.511041</td>\n",
       "    </tr>\n",
       "    <tr>\n",
       "      <th>0</th>\n",
       "      <td>0.222963</td>\n",
       "      <td>1.278540</td>\n",
       "      <td>0.762505</td>\n",
       "      <td>1.722433</td>\n",
       "      <td>3.511041</td>\n",
       "    </tr>\n",
       "    <tr>\n",
       "      <th>0</th>\n",
       "      <td>0.300522</td>\n",
       "      <td>1.425932</td>\n",
       "      <td>0.915195</td>\n",
       "      <td>1.722433</td>\n",
       "      <td>3.511041</td>\n",
       "    </tr>\n",
       "    <tr>\n",
       "      <th>0</th>\n",
       "      <td>0.663617</td>\n",
       "      <td>1.739107</td>\n",
       "      <td>1.256329</td>\n",
       "      <td>1.722433</td>\n",
       "      <td>3.511041</td>\n",
       "    </tr>\n",
       "    <tr>\n",
       "      <th>0</th>\n",
       "      <td>1.194231</td>\n",
       "      <td>2.291187</td>\n",
       "      <td>1.772997</td>\n",
       "      <td>1.722433</td>\n",
       "      <td>3.511041</td>\n",
       "    </tr>\n",
       "    <tr>\n",
       "      <th>0</th>\n",
       "      <td>1.670797</td>\n",
       "      <td>2.792208</td>\n",
       "      <td>2.244274</td>\n",
       "      <td>1.722433</td>\n",
       "      <td>3.511041</td>\n",
       "    </tr>\n",
       "    <tr>\n",
       "      <th>0</th>\n",
       "      <td>1.960620</td>\n",
       "      <td>3.080080</td>\n",
       "      <td>2.535464</td>\n",
       "      <td>1.722433</td>\n",
       "      <td>3.511041</td>\n",
       "    </tr>\n",
       "    <tr>\n",
       "      <th>0</th>\n",
       "      <td>2.309545</td>\n",
       "      <td>3.432769</td>\n",
       "      <td>2.884191</td>\n",
       "      <td>1.722433</td>\n",
       "      <td>3.511041</td>\n",
       "    </tr>\n",
       "    <tr>\n",
       "      <th>0</th>\n",
       "      <td>2.790017</td>\n",
       "      <td>3.902978</td>\n",
       "      <td>3.369801</td>\n",
       "      <td>1.722433</td>\n",
       "      <td>3.511041</td>\n",
       "    </tr>\n",
       "    <tr>\n",
       "      <th>0</th>\n",
       "      <td>3.497902</td>\n",
       "      <td>4.626131</td>\n",
       "      <td>4.078038</td>\n",
       "      <td>1.722433</td>\n",
       "      <td>3.511041</td>\n",
       "    </tr>\n",
       "  </tbody>\n",
       "</table>\n",
       "</div>"
      ],
      "text/plain": [
       "        Min       Max       Avg      Diff  Contrast\n",
       "0  0.004569  0.727528  0.326481  1.722433  3.511041\n",
       "0  0.052774  1.006028  0.531943  1.722433  3.511041\n",
       "0  0.129320  1.161672  0.683092  1.722433  3.511041\n",
       "0  0.222963  1.278540  0.762505  1.722433  3.511041\n",
       "0  0.300522  1.425932  0.915195  1.722433  3.511041\n",
       "0  0.663617  1.739107  1.256329  1.722433  3.511041\n",
       "0  1.194231  2.291187  1.772997  1.722433  3.511041\n",
       "0  1.670797  2.792208  2.244274  1.722433  3.511041\n",
       "0  1.960620  3.080080  2.535464  1.722433  3.511041\n",
       "0  2.309545  3.432769  2.884191  1.722433  3.511041\n",
       "0  2.790017  3.902978  3.369801  1.722433  3.511041\n",
       "0  3.497902  4.626131  4.078038  1.722433  3.511041"
      ]
     },
     "execution_count": 150,
     "metadata": {},
     "output_type": "execute_result"
    }
   ],
   "source": [
    "# l2_df = l2_df.reindex()\n",
    "l2_df"
   ]
  },
  {
   "cell_type": "code",
   "execution_count": null,
   "id": "584f8179",
   "metadata": {},
   "outputs": [],
   "source": []
  }
 ],
 "metadata": {
  "kernelspec": {
   "display_name": "Python 3.8.10 64-bit",
   "language": "python",
   "name": "python3"
  },
  "language_info": {
   "codemirror_mode": {
    "name": "ipython",
    "version": 3
   },
   "file_extension": ".py",
   "mimetype": "text/x-python",
   "name": "python",
   "nbconvert_exporter": "python",
   "pygments_lexer": "ipython3",
   "version": "3.8.10"
  },
  "vscode": {
   "interpreter": {
    "hash": "31f2aee4e71d21fbe5cf8b01ff0e069b9275f58929596ceb00d14d90e3e16cd6"
   }
  }
 },
 "nbformat": 4,
 "nbformat_minor": 5
}
