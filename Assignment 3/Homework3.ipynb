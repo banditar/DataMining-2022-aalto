{
 "cells": [
  {
   "cell_type": "code",
   "execution_count": 16,
   "metadata": {
    "collapsed": true,
    "pycharm": {
     "name": "#%%\n"
    }
   },
   "outputs": [],
   "source": [
    "import numpy as np"
   ]
  },
  {
   "cell_type": "code",
   "execution_count": 32,
   "outputs": [],
   "source": [
    "def f():\n",
    "    for x in np.arange(0.01, 1, 0.02):\n",
    "        for y in np.arange(0.01, 1, 0.02):\n",
    "            for z in np.arange(0.01, 1, 0.02):\n",
    "                for w in np.arange(0.01, 1, 0.02):\n",
    "                    if x + y + z - (w/x) - (w/y) - (w/z) + w == 1.0:\n",
    "                        return x, y, z, w"
   ],
   "metadata": {
    "collapsed": false,
    "pycharm": {
     "name": "#%%\n"
    }
   }
  },
  {
   "cell_type": "code",
   "execution_count": 33,
   "outputs": [
    {
     "name": "stdout",
     "output_type": "stream",
     "text": [
      "None\n"
     ]
    }
   ],
   "source": [
    "print(f())"
   ],
   "metadata": {
    "collapsed": false,
    "pycharm": {
     "name": "#%%\n"
    }
   }
  },
  {
   "cell_type": "code",
   "execution_count": 25,
   "outputs": [],
   "source": [
    "def f_gen():\n",
    "    for x in np.arange(1, 0.1, -0.01):\n",
    "        for y in np.arange(0.01, 1, 0.01):\n",
    "            for z in np.arange(0.01, 1, 0.01):\n",
    "                for w in np.arange(0.01, 1, 0.01):\n",
    "                    if x + y + z - (w/x) - (w/y) - (w/z) + w == 1.0:\n",
    "                        yield x, y, z, w"
   ],
   "metadata": {
    "collapsed": false,
    "pycharm": {
     "name": "#%%\n"
    }
   }
  },
  {
   "cell_type": "code",
   "execution_count": 22,
   "outputs": [
    {
     "name": "stdout",
     "output_type": "stream",
     "text": [
      "x=0.06999999999999999; y=0.7000000000000001; z=0.56; w=0.02\n",
      "x=0.08; y=0.72; z=0.9; w=0.05\n",
      "x=0.08; y=0.9; z=0.72; w=0.05\n",
      "x=0.09; y=0.45; z=0.6; w=0.01\n",
      "x=0.14; y=0.7000000000000001; z=0.7000000000000001; w=0.060000000000000005\n",
      "x=0.16; y=0.4; z=0.8; w=0.04\n",
      "x=0.16; y=0.8; z=0.25; w=0.02\n",
      "x=0.16; y=0.8; z=0.4; w=0.04\n",
      "x=0.17; y=0.85; z=0.34; w=0.04\n",
      "x=0.2; y=0.24000000000000002; z=0.75; w=0.02\n"
     ]
    }
   ],
   "source": [
    "i = 0\n",
    "for x, y, z, w in f_gen():\n",
    "    print(f'x={x}; y={y}; z={z}; w={w}')\n",
    "    i += 1\n",
    "    if i == 10:\n",
    "        break"
   ],
   "metadata": {
    "collapsed": false,
    "pycharm": {
     "name": "#%%\n"
    }
   }
  },
  {
   "cell_type": "code",
   "execution_count": 23,
   "outputs": [],
   "source": [
    "def has_associations(x, y, z, w):\n",
    "    AB = w/z\n",
    "    AC = w/y\n",
    "    BC = w/x\n",
    "    return (x*y != AB) or (x*z != AC) or (y*z != BC)"
   ],
   "metadata": {
    "collapsed": false,
    "pycharm": {
     "name": "#%%\n"
    }
   }
  },
  {
   "cell_type": "code",
   "execution_count": 24,
   "outputs": [
    {
     "name": "stdout",
     "output_type": "stream",
     "text": [
      "x=0.06999999999999999; y=0.7000000000000001; z=0.56; w=0.02\n"
     ]
    }
   ],
   "source": [
    "for x, y, z, w in f_gen():\n",
    "    if has_associations(x, y, z, w):\n",
    "        print(f'x={x}; y={y}; z={z}; w={w}')\n",
    "        break"
   ],
   "metadata": {
    "collapsed": false,
    "pycharm": {
     "name": "#%%\n"
    }
   }
  },
  {
   "cell_type": "code",
   "execution_count": null,
   "outputs": [],
   "source": [],
   "metadata": {
    "collapsed": false,
    "pycharm": {
     "name": "#%%\n"
    }
   }
  }
 ],
 "metadata": {
  "kernelspec": {
   "display_name": "Python 3",
   "language": "python",
   "name": "python3"
  },
  "language_info": {
   "codemirror_mode": {
    "name": "ipython",
    "version": 2
   },
   "file_extension": ".py",
   "mimetype": "text/x-python",
   "name": "python",
   "nbconvert_exporter": "python",
   "pygments_lexer": "ipython2",
   "version": "2.7.6"
  }
 },
 "nbformat": 4,
 "nbformat_minor": 0
}