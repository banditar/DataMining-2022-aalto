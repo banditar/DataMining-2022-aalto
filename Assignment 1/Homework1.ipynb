{
 "cells": [
  {
   "cell_type": "markdown",
   "id": "a3bdc618",
   "metadata": {
    "pycharm": {
     "name": "#%% md\n"
    }
   },
   "source": [
    "# Exercise 4 "
   ]
  },
  {
   "cell_type": "code",
   "execution_count": 27,
   "outputs": [],
   "source": [
    "import math\n",
    "import numpy as np\n",
    "import pandas as pd\n",
    "from typing import Callable\n",
    "from matplotlib import pyplot as plt"
   ],
   "metadata": {
    "collapsed": false,
    "pycharm": {
     "name": "#%%\n"
    }
   }
  },
  {
   "cell_type": "code",
   "execution_count": 28,
   "outputs": [],
   "source": [
    "### Generate dataset for specific dimension\n",
    "def generate_data(d = 5, n=100):\n",
    "\n",
    "    #create empty data frame\n",
    "    df = pd.DataFrame()\n",
    "    input_feature = np.random.uniform(size=[n, d])\n",
    "\n",
    "        # add created feature into data frame\n",
    "        # df[\"feature_\"+str(i+1)] = input_feature\n",
    "\n",
    "    df = pd.DataFrame(input_feature, columns=[f'feature_{x}' for x in range(d)])\n",
    "    return df\n"
   ],
   "metadata": {
    "collapsed": false,
    "pycharm": {
     "name": "#%%\n"
    }
   }
  },
  {
   "cell_type": "code",
   "execution_count": 29,
   "outputs": [],
   "source": [
    "def lp_norm(p, v1, v2):\n",
    "    sumOfFeatures = 0\n",
    "    for i in range(0, len(v1)):\n",
    "        sumOfFeatures += abs((v2[i] - v1[i])) ** p\n",
    "    l2_value = sumOfFeatures ** (1 / p)\n",
    "    return l2_value\n"
   ],
   "metadata": {
    "collapsed": false,
    "pycharm": {
     "name": "#%%\n"
    }
   }
  },
  {
   "cell_type": "code",
   "execution_count": 30,
   "outputs": [],
   "source": [
    "# # calculating l2_value for changeable amount of features\n",
    "# def l2_norm(v1,v2):\n",
    "#     sumOfFeatures = 0\n",
    "#     for i in range(0, len(v1)):\n",
    "#         sumOfFeatures += (v2[i]-v1[i])**2\n",
    "#     l2_value = math.sqrt(sumOfFeatures)\n",
    "#     return l2_value"
   ],
   "metadata": {
    "collapsed": false,
    "pycharm": {
     "name": "#%%\n"
    }
   }
  },
  {
   "cell_type": "code",
   "execution_count": 31,
   "outputs": [],
   "source": [
    "# formula contrast Value\n",
    "def contrastValue(dMax,dMin):\n",
    "    return (dMax -dMin)/ dMin\n"
   ],
   "metadata": {
    "collapsed": false,
    "pycharm": {
     "name": "#%%\n"
    }
   }
  },
  {
   "cell_type": "code",
   "execution_count": 46,
   "outputs": [
    {
     "name": "stdout",
     "output_type": "stream",
     "text": [
      "        min       max       avg     diff     cont2\n",
      "0  0.124519  1.136349  0.661398  1.01183  10.78139\n"
     ]
    }
   ],
   "source": [
    "def get_values(dim: int, n: int, generator: Callable, p_value: int):\n",
    "    \"\"\"Generate samples and compute statistics\n",
    "\n",
    "    Args:\n",
    "        dim (int): Number of dimensions/features\n",
    "        n (int): Number of samples\n",
    "        generator (Callable): Function that generates the samples\n",
    "        p_value (int): p value of lp-norm, e.g. 2 is used for l2-norm\n",
    "    \"\"\"\n",
    "    points = generator(dim, n).to_numpy()\n",
    "    min_sum = 0\n",
    "    max_sum = 0\n",
    "    avg_sum = 0\n",
    "    diff_sum = 0\n",
    "    cont_sum = 0\n",
    "    for i, p1 in enumerate(points):\n",
    "        distances = []\n",
    "        for j, p2 in enumerate(points):\n",
    "            if i == j:\n",
    "                continue\n",
    "            # TODO: substitute l2-norm to lp-norm\n",
    "            distances.append(np.linalg.norm(p1 - p2, ord=p_value))\n",
    "        minimum = np.min(distances)\n",
    "        maximum = np.max(distances)\n",
    "        min_sum += minimum\n",
    "        max_sum += maximum\n",
    "        avg_sum += np.mean(distances)\n",
    "        diff_sum += maximum - minimum\n",
    "        cont_sum += contrastValue(maximum, minimum)\n",
    "    avg_min = min_sum/n\n",
    "    avg_max = max_sum/n\n",
    "    avg_avg = avg_sum/n\n",
    "    avg_diff = diff_sum/n\n",
    "    avg_cont = cont_sum/n\n",
    "    return pd.DataFrame([[avg_min, avg_max, avg_avg, avg_diff, avg_cont]], columns=['min', 'max', 'avg', 'diff', f'cont{p_value}'])\n",
    "\n",
    "# print(get_values(3, 100, generate_data, l2_norm))\n",
    "print(get_values(3, 100, generate_data, 2))"
   ],
   "metadata": {
    "collapsed": false,
    "pycharm": {
     "name": "#%%\n"
    }
   }
  },
  {
   "cell_type": "code",
   "execution_count": 33,
   "outputs": [],
   "source": [
    "# set dimensions\n",
    "# dims = [1,2,3,4,5,10,20,30,40,50,70,100]\n",
    "dims = [1,2,3,4,5,10,20,30,40,50,60,70,80,90,100]"
   ],
   "metadata": {
    "collapsed": false,
    "pycharm": {
     "name": "#%%\n"
    }
   }
  },
  {
   "cell_type": "code",
   "execution_count": 40,
   "outputs": [],
   "source": [
    "# set distance measures\n",
    "# TODO: implement other measures\n",
    "# dists = [l2_norm]\n",
    "p_values = [0.5, 1, 2, 3]"
   ],
   "metadata": {
    "collapsed": false,
    "pycharm": {
     "name": "#%%\n"
    }
   }
  },
  {
   "cell_type": "code",
   "execution_count": 49,
   "outputs": [
    {
     "name": "stdout",
     "output_type": "stream",
     "text": [
      "        cont0.5       cont1       cont2       cont3\n",
      "1    846.093396  668.921001  972.549678  569.166672\n",
      "2     43.558516   35.650224   22.972776   30.592344\n",
      "3     12.623259   10.252185   11.418086    8.599997\n",
      "4      8.286499    6.438747    5.754681    5.381085\n",
      "5      6.509330    4.413400    4.064193    3.816350\n",
      "10     2.803130    2.286491    1.631804    1.642437\n",
      "20     1.499968    1.177174    0.904399    0.819036\n",
      "30     1.032410    0.848017    0.683068    0.606532\n",
      "40     0.874775    0.747374    0.571251    0.516852\n",
      "50     0.781598    0.584790    0.490988    0.452963\n",
      "60     0.689966    0.586078    0.421528    0.395884\n",
      "70     0.623841    0.517413    0.396245    0.348477\n",
      "80     0.542279    0.444401    0.361057    0.321277\n",
      "90     0.537217    0.432924    0.360581    0.294053\n",
      "100    0.500721    0.414447    0.324124    0.269776\n"
     ]
    }
   ],
   "source": [
    "def plot_average_values(data: pd.DataFrame, yscale: str):\n",
    "    \"\"\"\n",
    "    Args:\n",
    "        data (pd.DataFrame): Input dataframe\n",
    "        yscale (str, optional): y-scale value like [\"linear\", \"log\"]\n",
    "    \"\"\"\n",
    "    plt.plot(data[[\"min\", \"max\", \"avg\", \"diff\"]])\n",
    "    plt.title(f\"Stats for P-value: {p_value}\")\n",
    "    plt.xlabel(\"Dimension\")\n",
    "    plt.ylabel(\"Statistic value\")\n",
    "    plt.yscale(yscale)\n",
    "    plt.legend([\"min\", \"max\", \"avg\", \"diff\"])\n",
    "    plt.show()\n",
    "\n",
    "def plot_contrast_value(data: pd.DataFrame, yscale: str):\n",
    "    plt.plot(data[[\"cont\"]])\n",
    "    plt.title(\"Contrast value in multiple dimensions\")\n",
    "    plt.xlabel(\"Dimension\")\n",
    "    plt.ylabel(\"Contrast value\")\n",
    "    plt.yscale(yscale)\n",
    "    plt.show()\n",
    "\n",
    "conts = pd.DataFrame()\n",
    "# iterate over every measure and every dimension\n",
    "for p_value in p_values:\n",
    "    data = pd.DataFrame()\n",
    "    for dim in dims:\n",
    "        df = get_values(dim, 100, generate_data, p_value)\n",
    "        df[\"dim\"] = dim\n",
    "        data = pd.concat([data, df], sort=False)\n",
    "    # data = data.reset_index().drop('index', axis=1)\n",
    "    data = data.set_index(\"dim\")\n",
    "    # print(data['cont'])\n",
    "    conts = pd.concat([conts, data[f'cont{p_value}']], axis=1)\n",
    "print(conts)\n",
    "    # # Plot average values\n",
    "    # plot_average_values(data, \"linear\")\n",
    "    # plot_average_values(data, \"log\")\n",
    "    #\n",
    "    # # Plot contrast value\n",
    "    # plot_contrast_value(data, \"linear\")\n",
    "    # plot_contrast_value(data, \"log\")\n"
   ],
   "metadata": {
    "collapsed": false,
    "pycharm": {
     "name": "#%%\n"
    }
   }
  }
 ],
 "metadata": {
  "kernelspec": {
   "display_name": "Python 3.10.7 ('.venv': venv)",
   "language": "python",
   "name": "python3"
  },
  "language_info": {
   "codemirror_mode": {
    "name": "ipython",
    "version": 3
   },
   "file_extension": ".py",
   "mimetype": "text/x-python",
   "name": "python",
   "nbconvert_exporter": "python",
   "pygments_lexer": "ipython3",
   "version": "3.10.7"
  },
  "vscode": {
   "interpreter": {
    "hash": "1325539b70dd929b003b9ae49f918636dd68cee4cf6191e7ab5acbfab5f97287"
   }
  }
 },
 "nbformat": 4,
 "nbformat_minor": 5
}