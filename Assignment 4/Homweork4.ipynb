{
 "cells": [
  {
   "cell_type": "markdown",
   "metadata": {
    "collapsed": false,
    "pycharm": {
     "name": "#%% md\n"
    }
   },
   "source": [
    "# Dense subgraphs\n",
    "\n",
    "| Student Name         | Student-ID |\n",
    "|----------------------|------------|\n",
    "| Marco Di Francesco   | 100632815  |\n",
    "| Loreto García Tejada | 100643862  |\n",
    "| György Bence Józsa   | 100633270  |\n",
    "| József-Hunor Jánosi  | 100516724  |\n",
    "| Sara-Jane Bittner    | 100498554  |"
   ]
  },
  {
   "cell_type": "markdown",
   "metadata": {
    "collapsed": false,
    "pycharm": {
     "name": "#%% md\n"
    }
   },
   "source": [
    "_Learning goal: To familiarize oneself with one definition of the density of subgraphs._\n",
    "\n",
    "Consider a graph $G = (V, E)$. Given a subset of vertices $S \\subseteq V$ , we propose the following\n",
    "definition of density:\n",
    "\n",
    "$$ D(S) = \\frac{\\sum_{i \\in S} \\sum_{j \\in S} w(i,j)}{|S|}, $$\n",
    "\n",
    "where $w(i, j)$ is the weight of the edge between vertices $i$ and $j$, if it exists, and $0$ otherwise,\n",
    "and $|S|$ is the cardinality of the set $S$. Note that in unweighted graphs, $w(i, j) \\in \\{0, 1\\}$."
   ]
  },
  {
   "cell_type": "code",
   "execution_count": 3,
   "metadata": {
    "collapsed": false,
    "pycharm": {
     "name": "#%%\n"
    }
   },
   "outputs": [],
   "source": [
    "import networkx as nx\n",
    "import pandas as pd\n",
    "import numpy as np\n",
    "import matplotlib.pyplot as plt"
   ]
  },
  {
   "cell_type": "code",
   "execution_count": 4,
   "metadata": {
    "collapsed": false,
    "pycharm": {
     "name": "#%%\n"
    }
   },
   "outputs": [],
   "source": [
    "def density(S: nx.Graph):\n",
    "    \"\"\"Calculates the density of (sub)graph S\"\"\"\n",
    "    return S.size(weight='weight') / S.number_of_nodes()"
   ]
  },
  {
   "cell_type": "markdown",
   "metadata": {
    "collapsed": false,
    "pycharm": {
     "name": "#%% md\n"
    }
   },
   "source": [
    "a) Propose a greedy algorithm to find a subgraph with good density according to this definition. Explain the main properties of the algorithm, e.g., does the result depend on the order of execution etc."
   ]
  },
  {
   "cell_type": "markdown",
   "metadata": {
    "collapsed": false,
    "pycharm": {
     "name": "#%% md\n"
    }
   },
   "source": [
    "Proposition:\n",
    "\n",
    "We start with $S = \\emptyset$.\n",
    "In the first step, we choose the vertex $v_0$ such that the sum of the weights of the edges connecting to $v$ is maximal. We can call it the vertex with the maximal weight. Add that to $S$.\n",
    "After that, in each step, we choose a vertex $v_i$ out of the neighbours of $S$, such that $D(S \\cup v_i)$ is maximal, and add that to $S$. We repeat this step until $D(S) > D(S \\cup v_i)$.\n",
    "We return S."
   ]
  },
  {
   "cell_type": "code",
   "execution_count": null,
   "metadata": {
    "collapsed": false,
    "pycharm": {
     "name": "#%%\n"
    }
   },
   "outputs": [],
   "source": []
  },
  {
   "cell_type": "markdown",
   "metadata": {
    "collapsed": false,
    "pycharm": {
     "name": "#%% md\n"
    }
   },
   "source": [
    "b) Load _dolphins.txt_ data set. In this file, the first line contains the number of vertices. Each subsequent line indicates the two endpoints of an **undirected** edge. Estimate some reasonable lower and upper bounds on $D$."
   ]
  },
  {
   "cell_type": "markdown",
   "metadata": {},
   "source": [
    "Estimation is done only based on the number of edges that the network posesses, not taking into account the nodes and their connectivity.\n",
    "\n",
    "For the minimum bound we take the worst case scenario when all the edges do not have any common node within them. (E.g., if the network has 2 edges, our worst case would have their edges like: $\\{1 - 2, 3 - 4\\}$). Like so, the number of edges would be equal to $2 * number_of_edges$.\n",
    "\n",
    "As for the maximum bound we assume that the edges make up a fully connected graph and we estimate the number edges based on this assumption.\n",
    "When a fully connected network has $n$ nodes, the number of edges is $\\frac{n * (n - 1)}{2}$. Calculating the number of nodes in a backwards manner from this equation we get the following formula: $number\\_of\\_nodes = \\frac{1 + \\sqrt{1 + 8 * number\\_of\\_edges}}{2}$."
   ]
  },
  {
   "cell_type": "code",
   "execution_count": 10,
   "metadata": {
    "collapsed": false,
    "pycharm": {
     "name": "#%%\n"
    }
   },
   "outputs": [
    {
     "name": "stdout",
     "output_type": "stream",
     "text": [
      "Minimum boundary of density D of dolphins.txt: 0.5\n",
      "Maximum boundary of density D of dolphins.txt: 8.368421052631579\n"
     ]
    }
   ],
   "source": [
    "G = nx.Graph()\n",
    "filename = 'dolphins.txt'\n",
    "with open(filename) as f:\n",
    "    n = int(next(f)) # first line is number of vertices\n",
    "    for line in f:\n",
    "        i, j = [int(x) for x in line.split()]\n",
    "        G.add_edge(i, j)\n",
    "\n",
    "num_edges = G.number_of_edges()\n",
    "\n",
    "# minimum bound\n",
    "num_nodes = num_edges * 2\n",
    "min_bound = num_edges / num_nodes\n",
    "\n",
    "# maximum bound\n",
    "num_nodes = np.ceil((1 + np.sqrt(1 + 8 * num_edges)) / 2)\n",
    "max_bound = num_edges / num_nodes\n",
    "\n",
    "print(f'Minimum boundary of density D of {filename}: {min_bound}')\n",
    "print(f'Maximum boundary of density D of {filename}: {max_bound}')"
   ]
  },
  {
   "cell_type": "markdown",
   "metadata": {
    "collapsed": false,
    "pycharm": {
     "name": "#%% md\n"
    }
   },
   "source": [
    "c) Apply your algorithm on the _dolphins.txt_ data. As a result, provide the maximum density you achieved and the vertices of the corresponding subgraph (in ascending order)."
   ]
  },
  {
   "cell_type": "code",
   "execution_count": null,
   "metadata": {
    "collapsed": false,
    "pycharm": {
     "name": "#%%\n"
    }
   },
   "outputs": [],
   "source": []
  },
  {
   "cell_type": "markdown",
   "metadata": {
    "collapsed": false,
    "pycharm": {
     "name": "#%% md\n"
    }
   },
   "source": [
    "d) isualize the graph using Gephi ([https://gephi.org/](https://gephi.org/)). Use different coloring for vertices that are within the subgraph found in the previous step."
   ]
  },
  {
   "cell_type": "code",
   "execution_count": null,
   "metadata": {
    "collapsed": false,
    "pycharm": {
     "name": "#%%\n"
    }
   },
   "outputs": [],
   "source": []
  }
 ],
 "metadata": {
  "kernelspec": {
   "display_name": "Python 3.8.10 64-bit",
   "language": "python",
   "name": "python3"
  },
  "language_info": {
   "codemirror_mode": {
    "name": "ipython",
    "version": 3
   },
   "file_extension": ".py",
   "mimetype": "text/x-python",
   "name": "python",
   "nbconvert_exporter": "python",
   "pygments_lexer": "ipython3",
   "version": "3.8.10"
  },
  "vscode": {
   "interpreter": {
    "hash": "916dbcbb3f70747c44a77c7bcd40155683ae19c65e1c03b4aa3499c5328201f1"
   }
  }
 },
 "nbformat": 4,
 "nbformat_minor": 0
}
