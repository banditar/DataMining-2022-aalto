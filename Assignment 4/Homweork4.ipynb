{
 "cells": [
  {
   "cell_type": "markdown",
   "source": [
    "# Dense subgraphs\n",
    "\n",
    "| Student Name         | Student-ID |\n",
    "|----------------------|------------|\n",
    "| Marco Di Francesco   | 100632815  |\n",
    "| Loreto García Tejada | 100643862  |\n",
    "| György Bence Józsa   | 100633270  |\n",
    "| József-Hunor Jánosi  | 100516724  |\n",
    "| Sara-Jane Bittner    | 100498554  |"
   ],
   "metadata": {
    "collapsed": false,
    "pycharm": {
     "name": "#%% md\n"
    }
   }
  },
  {
   "cell_type": "markdown",
   "source": [
    "_Learning goal: To familiarize oneself with one definition of the density of subgraphs._\n",
    "\n",
    "Consider a graph $G = (V, E)$. Given a subset of vertices $S \\subseteq V$ , we propose the following\n",
    "definition of density:\n",
    "\n",
    "$$ D(S) = \\frac{\\sum_{i \\in S} \\sum_{j \\in S} w(i,j)}{|S|}, $$\n",
    "\n",
    "where $w(i, j)$ is the weight of the edge between vertices $i$ and $j$, if it exists, and $0$ otherwise,\n",
    "and $|S|$ is the cardinality of the set $S$. Note that in unweighted graphs, $w(i, j) \\in \\{0, 1\\}$."
   ],
   "metadata": {
    "collapsed": false,
    "pycharm": {
     "name": "#%% md\n"
    }
   }
  },
  {
   "cell_type": "code",
   "execution_count": 2,
   "outputs": [],
   "source": [
    "import networkx as nx\n",
    "import pandas as pd\n",
    "import numpy as np\n",
    "import matplotlib.pyplot as plt"
   ],
   "metadata": {
    "collapsed": false,
    "pycharm": {
     "name": "#%%\n"
    }
   }
  },
  {
   "cell_type": "code",
   "execution_count": 3,
   "outputs": [],
   "source": [
    "def density(S: nx.Graph):\n",
    "    \"\"\"Calculates the density of (sub)graph S\"\"\"\n",
    "    return S.size(weight='weight') / S.number_of_nodes()"
   ],
   "metadata": {
    "collapsed": false,
    "pycharm": {
     "name": "#%%\n"
    }
   }
  },
  {
   "cell_type": "markdown",
   "source": [
    "a) Propose a greedy algorithm to find a subgraph with good density according to this definition. Explain the main properties of the algorithm, e.g., does the result depend on the order of execution etc."
   ],
   "metadata": {
    "collapsed": false,
    "pycharm": {
     "name": "#%% md\n"
    }
   }
  },
  {
   "cell_type": "markdown",
   "source": [
    "Proposition:\n",
    "\n",
    "We start with $S = \\emptyset$.\n",
    "In the first step, we choose the vertex $v_0$ such that the sum of the weights of the edges connecting to $v$ is maximal. We can call it the vertex with the maximal weight. Add that to $S$.\n",
    "After that, in each step, we choose a vertex $v_i$ out of the neighbours of $S$, such that $D(S \\cup v_i)$ is maximal, and add that to $S$. We repeat this step until $D(S) > D(S \\cup v_i)$.\n",
    "We return S."
   ],
   "metadata": {
    "collapsed": false,
    "pycharm": {
     "name": "#%% md\n"
    }
   }
  },
  {
   "cell_type": "code",
   "execution_count": null,
   "outputs": [],
   "source": [
    "def dense_subgraph(G: nx.Graph) -> nx.Graph:\n",
    "    node_degrees = dict(G.degree)\n",
    "    max_node = max(zip(node_degrees.values(), node_degrees.keys()))[1]\n",
    "    S = [max_node]\n",
    "    while True:\n",
    "        neighbors = {x for n in S for x in G.neighbors(n)}\n",
    "        max_value = 0\n",
    "        candidate = -1\n",
    "        for v in neighbors:\n",
    "            S2 = S + [v]\n",
    "            d1 = density(G.subgraph(S))\n",
    "            d2 = density(G.subgraph(S2))\n",
    "            if d2 > d1:\n",
    "                if d2 > max_value:\n",
    "                    max_value = d2\n",
    "                    candidate = v\n",
    "        if candidate == -1:\n",
    "            print(S)\n",
    "            return G.subgraph(S)\n",
    "        S.append(candidate)\n"
   ],
   "metadata": {
    "collapsed": false,
    "pycharm": {
     "name": "#%%\n"
    }
   }
  },
  {
   "cell_type": "markdown",
   "source": [
    "b) Load _dolphins.txt_ data set. In this file, the first line contains the number of vertices. Each subsequent line indicates the two endpoints of an **undirected** edge. Estimate some reasonable lower and upper bounds on $D$."
   ],
   "metadata": {
    "collapsed": false,
    "pycharm": {
     "name": "#%% md\n"
    }
   }
  },
  {
   "cell_type": "code",
   "execution_count": 3,
   "outputs": [],
   "source": [
    "G = nx.Graph()\n",
    "filename = 'dolphins.txt'\n",
    "with open(filename) as f:\n",
    "    n = int(next(f)) # first line is number of vertices\n",
    "    for line in f:\n",
    "        i, j = [int(x) for x in line.split()]\n",
    "        G.add_edge(i, j)\n",
    "\n",
    "num_edges = G.number_of_edges()\n",
    "\n",
    "# minimum bound\n",
    "num_nodes = num_edges * 2\n",
    "min_bound = num_edges / num_nodes\n",
    "\n",
    "# maximum bound\n",
    "num_nodes = np.ceil((1 + np.sqrt(1 + 8 * num_edges)) / 2)\n",
    "max_bound = num_edges / num_nodes\n",
    "\n",
    "print(f'Minimum boundary of density D of {filename}: {min_bound}')\n",
    "print(f'Maximum boundary of density D of {filename}: {max_bound}')"
   ],
   "metadata": {
    "collapsed": false,
    "pycharm": {
     "name": "#%%\n"
    }
   }
  },
  {
   "cell_type": "markdown",
   "source": [
    "c) Apply your algorithm on the _dolphins.txt_ data. As a result, provide the maximum density you achieved and the vertices of the corresponding subgraph (in ascending order)."
   ],
   "metadata": {
    "collapsed": false,
    "pycharm": {
     "name": "#%% md\n"
    }
   }
  },
  {
   "cell_type": "code",
   "execution_count": null,
   "outputs": [],
   "source": [],
   "metadata": {
    "collapsed": false,
    "pycharm": {
     "name": "#%%\n"
    }
   }
  },
  {
   "cell_type": "markdown",
   "source": [
    "d) isualize the graph using Gephi ([https://gephi.org/](https://gephi.org/)). Use different coloring for vertices that are within the subgraph found in the previous step."
   ],
   "metadata": {
    "collapsed": false,
    "pycharm": {
     "name": "#%% md\n"
    }
   }
  },
  {
   "cell_type": "code",
   "execution_count": null,
   "outputs": [],
   "source": [],
   "metadata": {
    "collapsed": false,
    "pycharm": {
     "name": "#%%\n"
    }
   }
  }
 ],
 "metadata": {
  "kernelspec": {
   "display_name": "Python 3",
   "language": "python",
   "name": "python3"
  },
  "language_info": {
   "codemirror_mode": {
    "name": "ipython",
    "version": 2
   },
   "file_extension": ".py",
   "mimetype": "text/x-python",
   "name": "python",
   "nbconvert_exporter": "python",
   "pygments_lexer": "ipython2",
   "version": "2.7.6"
  }
 },
 "nbformat": 4,
 "nbformat_minor": 0
}