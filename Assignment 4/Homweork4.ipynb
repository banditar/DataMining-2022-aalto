{
 "cells": [
  {
   "cell_type": "markdown",
   "source": [
    "# Dense subgraphs\n",
    "\n",
    "| Student Name         | Student-ID |\n",
    "|----------------------|------------|\n",
    "| Marco Di Francesco   | 100632815  |\n",
    "| Loreto García Tejada | 100643862  |\n",
    "| György Bence Józsa   | 100633270  |\n",
    "| József-Hunor Jánosi  | 100516724  |\n",
    "| Sara-Jane Bittner    | 100498554  |"
   ],
   "metadata": {
    "collapsed": false,
    "pycharm": {
     "name": "#%% md\n"
    }
   }
  },
  {
   "cell_type": "markdown",
   "source": [
    "_Learning goal: To familiarize oneself with one definition of the density of subgraphs._\n",
    "\n",
    "Consider a graph $G = (V, E)$. Given a subset of vertices $S \\subseteq V$ , we propose the following\n",
    "definition of density:\n",
    "\n",
    "$$ D(S) = \\frac{\\sum_{i \\in S} \\sum_{j \\in S} w(i,j)}{|S|}, $$\n",
    "\n",
    "where $w(i, j)$ is the weight of the edge between vertices $i$ and $j$, if it exists, and $0$ otherwise,\n",
    "and $|S|$ is the cardinality of the set $S$. Note that in unweighted graphs, $w(i, j) \\in \\{0, 1\\}$."
   ],
   "metadata": {
    "collapsed": false,
    "pycharm": {
     "name": "#%% md\n"
    }
   }
  },
  {
   "cell_type": "code",
   "execution_count": null,
   "outputs": [],
   "source": [
    "import networkx as nx\n",
    "import pandas as pd\n",
    "import numpy as np\n",
    "import matplotlib.pyplot as plt"
   ],
   "metadata": {
    "collapsed": false,
    "pycharm": {
     "name": "#%%\n"
    }
   }
  },
  {
   "cell_type": "code",
   "execution_count": null,
   "outputs": [],
   "source": [
    "def density(S: nx.Graph):\n",
    "    \"\"\"Calculates the density of (sub)graph S\"\"\"\n",
    "    return S.size(weight='weight') / S.number_of_nodes()"
   ],
   "metadata": {
    "collapsed": false,
    "pycharm": {
     "name": "#%%\n"
    }
   }
  },
  {
   "cell_type": "markdown",
   "source": [
    "a) Propose a greedy algorithm to find a subgraph with good density according to this definition. Explain the main properties of the algorithm, e.g., does the result depend on the order of execution etc."
   ],
   "metadata": {
    "collapsed": false,
    "pycharm": {
     "name": "#%% md\n"
    }
   }
  },
  {
   "cell_type": "markdown",
   "source": [
    "Proposition:\n",
    "\n",
    "We start with $S = \\emptyset$.\n",
    "In the first step, we choose the vertex $v_0$ such that the sum of the weights of the edges connecting to $v$ is maximal. We can call it the vertex with the maximal weight. Add that to $S$.\n",
    "After that, in each step, we choose a vertex $v_i$ out of the neighbours of $S$, such that $D(S \\cup v_i)$ is maximal, and add that to $S$. We repeat this step until $D(S) > D(S \\cup v_i)$.\n",
    "We return S."
   ],
   "metadata": {
    "collapsed": false,
    "pycharm": {
     "name": "#%% md\n"
    }
   }
  },
  {
   "cell_type": "code",
   "execution_count": null,
   "outputs": [],
   "source": [],
   "metadata": {
    "collapsed": false,
    "pycharm": {
     "name": "#%%\n"
    }
   }
  },
  {
   "cell_type": "markdown",
   "source": [
    "b) Load _dolphins.txt_ data set. In this file, the first line contains the number of vertices. Each subsequent line indicates the two endpoints of an **undirected** edge. Estimate some reasonable lower and upper bounds on $D$."
   ],
   "metadata": {
    "collapsed": false,
    "pycharm": {
     "name": "#%% md\n"
    }
   }
  },
  {
   "cell_type": "code",
   "execution_count": null,
   "outputs": [],
   "source": [
    "G = nx.Graph()\n",
    "with open('dolphins.txt') as f:\n",
    "    n = int(next(f)) # first line is number of vertices\n",
    "    for line in f:\n",
    "        i, j = [int(x) for x in line.split()]\n",
    "        G.add_edge(i, j)"
   ],
   "metadata": {
    "collapsed": false,
    "pycharm": {
     "name": "#%%\n"
    }
   }
  },
  {
   "cell_type": "markdown",
   "source": [
    "c) Apply your algorithm on the _dolphins.txt_ data. As a result, provide the maximum density you achieved and the vertices of the corresponding subgraph (in ascending order)."
   ],
   "metadata": {
    "collapsed": false,
    "pycharm": {
     "name": "#%% md\n"
    }
   }
  },
  {
   "cell_type": "code",
   "execution_count": null,
   "outputs": [],
   "source": [],
   "metadata": {
    "collapsed": false,
    "pycharm": {
     "name": "#%%\n"
    }
   }
  },
  {
   "cell_type": "markdown",
   "source": [
    "d) isualize the graph using Gephi ([https://gephi.org/](https://gephi.org/)). Use different coloring for vertices that are within the subgraph found in the previous step."
   ],
   "metadata": {
    "collapsed": false,
    "pycharm": {
     "name": "#%% md\n"
    }
   }
  },
  {
   "cell_type": "code",
   "execution_count": null,
   "outputs": [],
   "source": [],
   "metadata": {
    "collapsed": false,
    "pycharm": {
     "name": "#%%\n"
    }
   }
  }
 ],
 "metadata": {
  "kernelspec": {
   "display_name": "Python 3",
   "language": "python",
   "name": "python3"
  },
  "language_info": {
   "codemirror_mode": {
    "name": "ipython",
    "version": 2
   },
   "file_extension": ".py",
   "mimetype": "text/x-python",
   "name": "python",
   "nbconvert_exporter": "python",
   "pygments_lexer": "ipython2",
   "version": "2.7.6"
  }
 },
 "nbformat": 4,
 "nbformat_minor": 0
}